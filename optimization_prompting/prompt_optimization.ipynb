{
 "cells": [
  {
   "cell_type": "markdown",
   "id": "31ae5dcf",
   "metadata": {},
   "source": [
    "# prompt Optimization Techniques"
   ]
  },
  {
   "cell_type": "code",
   "execution_count": 7,
   "id": "d769d218",
   "metadata": {},
   "outputs": [],
   "source": [
    "import os\n",
    "from dotenv import load_dotenv\n",
    "load_dotenv()\n",
    "\n",
    "os.environ[\"GROQ_API_KEY\"] = os.getenv(\"GROQ_API_KEY\")"
   ]
  },
  {
   "cell_type": "code",
   "execution_count": 8,
   "id": "7f9314d7",
   "metadata": {},
   "outputs": [],
   "source": [
    "from langchain_groq import ChatGroq\n",
    "\n",
    "llm = ChatGroq(model=\"llama3-8b-8192\")"
   ]
  },
  {
   "cell_type": "code",
   "execution_count": 9,
   "id": "5132d247",
   "metadata": {},
   "outputs": [],
   "source": [
    "async def generate_llm_response(prompt):\n",
    "    \"\"\"\n",
    "    Generates a response using the llm and prompt\n",
    "    Args:\n",
    "     prompt (str): The input prompt\n",
    "    Returns:\n",
    "        str: The generated response\n",
    "    \"\"\"\n",
    "    response = await llm.ainvoke(prompt)\n",
    "    return response"
   ]
  },
  {
   "cell_type": "markdown",
   "id": "3de0349c",
   "metadata": {},
   "source": [
    "#A/B Testing prompt"
   ]
  },
  {
   "cell_type": "code",
   "execution_count": 10,
   "id": "4931b9be",
   "metadata": {},
   "outputs": [],
   "source": [
    "from langchain_core.prompts import PromptTemplate\n",
    "\n",
    "prompt_a = PromptTemplate(\n",
    "    input_variables=[\"topic\"],\n",
    "    template=\"Explain the topic '{topic}' in simple terms\"\n",
    "\n",
    ")\n",
    "\n",
    "prompt_b = PromptTemplate(\n",
    "    input_variables=[\"topic\"],\n",
    "    template=\"Provide a friendly explanation of '{topic}', including key concepts and examples\"\n",
    ")"
   ]
  },
  {
   "cell_type": "code",
   "execution_count": 11,
   "id": "1ca9fe1d",
   "metadata": {},
   "outputs": [],
   "source": [
    "import nest_asyncio\n",
    "nest_asyncio.apply()\n",
    "import asyncio\n",
    "\n",
    "import re\n",
    "import numpy as np\n",
    "\n",
    "async def evaluate_response(response, criteria):\n",
    "    \"\"\"\n",
    "    Evaluates the prompt and assigns score based on the criteria\n",
    "    Args:\n",
    "        response (str): The response generated from the llm\n",
    "        criteria (list): List of criteria to evaluate on\n",
    "    Returns:\n",
    "        float: the average score across all criteria \n",
    "    \"\"\"\n",
    "    scores = []\n",
    "    for criterion in criteria:\n",
    "        print(f\"Evaluating response based on {criterion}...\")\n",
    "        prompt = f\"On a scale of 1 to 10 rate the following response on {criterion}. Start your response with neumeric score:\\n\\n{response}\"\n",
    "        response = asyncio.run(generate_llm_response(prompt)).content\n",
    "        score_match = re.search(r\"\\d+\", response)\n",
    "        if score_match:\n",
    "            score = int(score_match.group())\n",
    "            scores.append(min(score, 10))\n",
    "        else:\n",
    "             print(f\"Warning: Could not extract numeric score for {criterion}. Using default score of 5.\")\n",
    "             scores.append(5)\n",
    "\n",
    "    return np.mean(scores)"
   ]
  },
  {
   "cell_type": "code",
   "execution_count": null,
   "id": "eeef4a2a",
   "metadata": {},
   "outputs": [],
   "source": [
    "topic = \"machine learning\"\n",
    "response_a = asyncio.run(generate_llm_response(prompt_a.format(topic=topic))).content\n",
    "response_b = asyncio.run(generate_llm_response(prompt_b.format(topic=topic))).content"
   ]
  },
  {
   "cell_type": "code",
   "execution_count": 13,
   "id": "ea234497",
   "metadata": {},
   "outputs": [
    {
     "name": "stdout",
     "output_type": "stream",
     "text": [
      "Evaluating response based on clarity...\n",
      "Evaluating response based on informativeness...\n",
      "Evaluating response based on engagement...\n",
      "Evaluating response based on clarity...\n",
      "Evaluating response based on informativeness...\n",
      "Evaluating response based on engagement...\n"
     ]
    }
   ],
   "source": [
    "criteria = [\"clarity\", \"informativeness\", \"engagement\"]\n",
    "score_a = asyncio.run(evaluate_response(response_a, criteria))\n",
    "score_b = asyncio.run(evaluate_response(response_b, criteria))"
   ]
  },
  {
   "cell_type": "code",
   "execution_count": 14,
   "id": "5b3ddd77",
   "metadata": {},
   "outputs": [
    {
     "name": "stdout",
     "output_type": "stream",
     "text": [
      "Prompt A score: 9.00\n",
      "Prompt B score: 8.00\n",
      "Winning prompt: A\n"
     ]
    }
   ],
   "source": [
    "print(f\"Prompt A score: {score_a:.2f}\")\n",
    "print(f\"Prompt B score: {score_b:.2f}\")\n",
    "print(f\"Winning prompt: {'A' if score_a > score_b else 'B'}\")"
   ]
  },
  {
   "cell_type": "markdown",
   "id": "fc745659",
   "metadata": {},
   "source": [
    "#Iterative Refinement"
   ]
  },
  {
   "cell_type": "code",
   "execution_count": 15,
   "id": "bd19e0f6",
   "metadata": {},
   "outputs": [],
   "source": [
    "async def refining_prompt(initial_prompt, topic, iterations=3):\n",
    "    \"\"\"\n",
    "    Refines a prompt through multiple iterations\n",
    "    Args:\n",
    "        initial_prompt (str): The starting prompt template\n",
    "        topic (str): The topic to explain\n",
    "        iterations (int): Number of refinement iterations.\n",
    "\n",
    "    Returns:\n",
    "        PromptTemplate: The final refined prompt template.\n",
    "    \"\"\"\n",
    "    current_prompt = initial_prompt\n",
    "    for i in range(iterations):\n",
    "        try:\n",
    "            response = asyncio.run(generate_llm_response(current_prompt.format(topic=topic))).content\n",
    "        except KeyError as e:\n",
    "            print(f\"Error in iteration {i+1}: Missing key {e}. Adjusting prompt...\")\n",
    "            current_prompt.template = current_prompt.template.replace(f\"{{{e.args[0]}}}\", \"relevant example\")\n",
    "            response = asyncio.run(generate_llm_response(current_prompt.format(topic=topic))).content\n",
    "        \n",
    "        feedback_prompt = f\"Analyze the following explanation of '{topic}' and suggest improvements to the prompt generated it:\\n\\n{response}\"\n",
    "        feedback = asyncio.run(generate_llm_response(feedback_prompt)).content\n",
    "\n",
    "        refine_prompt = f\"Based on the feedback: '{feedback}', improve the following prompt template. Ensure to only use the variable {{topic}} in your prompt:\\n\\n{current_prompt.template}\"\n",
    "        refined_template = asyncio.run(generate_llm_response(refine_prompt)).content\n",
    "\n",
    "        current_prompt = PromptTemplate(\n",
    "            input_variables=[\"topic\"],\n",
    "            template=refined_template\n",
    "        )\n",
    "        print(f\"Iteration {i+1} prompt: {current_prompt.template}\")\n",
    "\n",
    "    return current_prompt"
   ]
  },
  {
   "cell_type": "code",
   "execution_count": 21,
   "id": "b9117a60",
   "metadata": {},
   "outputs": [],
   "source": [
    "def llm_response(prompt):\n",
    "    response = asyncio.run(generate_llm_response(prompt)).content\n",
    "    return response\n",
    "\n",
    "def eval_response(prompt, criteria):\n",
    "    score = asyncio.run(evaluate_response(prompt, criteria))\n",
    "    return score"
   ]
  },
  {
   "cell_type": "code",
   "execution_count": 18,
   "id": "85908d9c",
   "metadata": {},
   "outputs": [],
   "source": [
    "topic = \"machine learning\"\n",
    "response_a = llm_response(prompt_a.format(topic=topic))\n",
    "response_b = llm_response(prompt_b.format(topic=topic))"
   ]
  },
  {
   "cell_type": "code",
   "execution_count": 22,
   "id": "907c3547",
   "metadata": {},
   "outputs": [
    {
     "name": "stdout",
     "output_type": "stream",
     "text": [
      "Evaluating response based on clarity...\n",
      "Evaluating response based on informativeness...\n",
      "Evaluating response based on engagement...\n"
     ]
    },
    {
     "name": "stderr",
     "output_type": "stream",
     "text": [
      "C:\\Users\\user\\AppData\\Local\\Temp\\ipykernel_4224\\1901663314.py:2: RuntimeWarning: coroutine 'evaluate_response' was never awaited\n",
      "  score_a = eval_response(response_a, criteria)\n",
      "RuntimeWarning: Enable tracemalloc to get the object allocation traceback\n"
     ]
    },
    {
     "name": "stdout",
     "output_type": "stream",
     "text": [
      "Evaluating response based on clarity...\n",
      "Evaluating response based on informativeness...\n",
      "Evaluating response based on engagement...\n"
     ]
    },
    {
     "name": "stderr",
     "output_type": "stream",
     "text": [
      "C:\\Users\\user\\AppData\\Local\\Temp\\ipykernel_4224\\1901663314.py:3: RuntimeWarning: coroutine 'evaluate_response' was never awaited\n",
      "  score_b = eval_response(response_b, criteria)\n",
      "RuntimeWarning: Enable tracemalloc to get the object allocation traceback\n"
     ]
    }
   ],
   "source": [
    "criteria = [\"clarity\", \"informativeness\", \"engagement\"]\n",
    "score_a = eval_response(response_a, criteria)\n",
    "score_b = eval_response(response_b, criteria)"
   ]
  },
  {
   "cell_type": "code",
   "execution_count": 23,
   "id": "988bcbea",
   "metadata": {},
   "outputs": [
    {
     "name": "stdout",
     "output_type": "stream",
     "text": [
      "Prompt A score: 8.00\n",
      "Prompt B score: 8.33\n",
      "Winning prompt: B\n"
     ]
    }
   ],
   "source": [
    "print(f\"Prompt A score: {score_a:.2f}\")\n",
    "print(f\"Prompt B score: {score_b:.2f}\")\n",
    "print(f\"Winning prompt: {'A' if score_a > score_b else 'B'}\")"
   ]
  },
  {
   "cell_type": "code",
   "execution_count": 26,
   "id": "3011deba",
   "metadata": {},
   "outputs": [
    {
     "name": "stdout",
     "output_type": "stream",
     "text": [
      "Iteration 1 prompt: Here is the improved prompt template:\n",
      "\n",
      "**{topic}: A Beginner's Guide**\n",
      "\n",
      "{topic} is a type of artificial intelligence that enables computers to learn from data and make predictions or decisions without being explicitly programmed. It's a powerful technology that has many applications in fields such as healthcare, finance, and education.\n",
      "\n",
      "**Key Concepts:**\n",
      "\n",
      "* **Training Data**: The data used to teach the {topic} model what to learn.\n",
      "* **Model**: The algorithm that learns from the training data.\n",
      "* **Algorithm**: A set of instructions that the model follows to learn from the training data.\n",
      "* **Features**: The characteristics or attributes of the data that the model uses to make predictions.\n",
      "* **Labels**: The correct answers or outcomes that the model is trying to predict.\n",
      "* **Accuracy**: A measure of how well the model performs on new, unseen data.\n",
      "\n",
      "**Examples:**\n",
      "\n",
      "* **[Insert example 1]**: A {topic} model can be trained to [insert brief description of example 1].\n",
      "* **[Insert example 2]**: A {topic} model can be trained to [insert brief description of example 2].\n",
      "* **[Insert example 3]**: A {topic} model can be trained to [insert brief description of example 3].\n",
      "\n",
      "**How Does it Work?**\n",
      "\n",
      "Here's a simplified example of how {topic} works:\n",
      "\n",
      "1. Collect a dataset of training data.\n",
      "2. Split the dataset into two parts: a training set and a testing set.\n",
      "3. Train the {topic} model on the training set using an algorithm.\n",
      "4. Evaluate the model's performance on the testing set to measure its accuracy.\n",
      "5. Refine the model by adjusting the algorithm and re-training it on the entire dataset.\n",
      "6. Use the trained model to make predictions on new, unseen data.\n",
      "\n",
      "**Next Steps:**\n",
      "\n",
      "If you're interested in learning more about {topic}, here are some resources to get you started:\n",
      "\n",
      "* [List of online courses or tutorials]\n",
      "* [List of {topic} libraries or frameworks]\n",
      "* [List of {topic} projects or challenges]\n",
      "\n",
      "By following these steps and exploring {topic} further, you can start to build your own {topic} models and apply this powerful technology to your own projects.\n",
      "Iteration 2 prompt: Here is the improved prompt template:\n",
      "\n",
      "**Machine Learning: A Beginner's Guide**\n",
      "\n",
      "Machine learning is a type of artificial intelligence that enables computers to learn from data and make predictions or decisions without being explicitly programmed. It's a powerful technology that has many applications in fields such as healthcare, finance, and education.\n",
      "\n",
      "**Key Concepts:**\n",
      "\n",
      "* **Brief Definitions**: Each concept is explained with a brief definition to help beginners understand the terminology.\n",
      "* **Data Preparation**: This section covers training data, features, and labels, grouping related concepts together.\n",
      "* **Model**: This section explains how models can be thought of as functions that map inputs to outputs, adding more detail to help readers understand this critical component of machine learning.\n",
      "* **Algorithm**: A set of instructions that the model follows to learn from the training data.\n",
      "* **Features**: The characteristics or attributes of the data that the model uses to make predictions.\n",
      "* **Labels**: The correct answers or outcomes that the model is trying to predict.\n",
      "* **Accuracy**: A measure of how well the model performs on new, unseen data.\n",
      "\n",
      "**Examples:**\n",
      "\n",
      "* **[Insert example 1]**: A machine learning model can be trained to [insert brief description of example 1], illustrating the diversity of machine learning applications in various industries such as manufacturing, transportation, or environmental monitoring.\n",
      "* **[Insert example 2]**: A machine learning model can be trained to [insert brief description of example 2], providing more context for each example, such as the specific challenges the model is trying to solve or the benefits of using machine learning in that domain.\n",
      "* **[Insert example 3]**: A machine learning model can be trained to [insert brief description of example 3], showcasing the different types of problems machine learning can solve.\n",
      "\n",
      "**How Does it Work?**\n",
      "\n",
      "Here's a simplified example of how machine learning works:\n",
      "\n",
      "1. Collect a dataset of training data.\n",
      "2. Split the dataset into two parts: a training set and a testing set.\n",
      "3. Train the machine learning model on the training set using an algorithm.\n",
      "4. Evaluate the model's performance on the testing set to measure its accuracy.\n",
      "5. Refine the model by adjusting the algorithm and re-training it on the entire dataset.\n",
      "6. Use the trained model to make predictions on new, unseen data.\n",
      "\n",
      "**Common Machine Learning Tasks:**\n",
      "\n",
      "* **Regression**: Predicting a continuous value.\n",
      "* **Classification**: Predicting a categorical label.\n",
      "* **Clustering**: Grouping similar data points together.\n",
      "* **Dimensionality Reduction**: Reducing the number of features in a dataset.\n",
      "\n",
      "**Next Steps:**\n",
      "\n",
      "If you're interested in learning more about machine learning, here are some resources to get you started:\n",
      "\n",
      "* Online courses and tutorials\n",
      "* Machine learning libraries and frameworks\n",
      "* Machine learning projects and challenges\n",
      "* Books, podcasts, and blogs that cover machine learning topics in depth\n",
      "\n",
      "By following these steps and exploring machine learning further, you can start to build your own machine learning models and apply this powerful technology to your own projects.\n",
      "\n",
      "**Common Pitfalls and Challenges:**\n",
      "\n",
      "* **Overfitting**: When a model is too complex and performs well on the training data but poorly on new data.\n",
      "* **Underfitting**: When a model is too simple and fails to capture the patterns in the data.\n",
      "* **Dealing with Imbalanced Datasets**: When the training data is biased towards certain classes or outcomes.\n",
      "\n",
      "**Miscellaneous:**\n",
      "\n",
      "* **Visuals**: Diagrams or flowcharts are added to help illustrate the machine learning process and concepts.\n",
      "* **Glossary**: A glossary of machine learning terms is provided to help readers quickly look up unfamiliar concepts.\n",
      "Iteration 3 prompt: Here is the improved prompt template incorporating the suggestions provided:\n",
      "\n",
      "**Machine Learning: A Beginner's Guide to {topic}**\n",
      "\n",
      "Machine learning is a type of artificial intelligence that enables computers to learn from data and make predictions or decisions without being explicitly programmed. It's a powerful technology that has many applications in fields such as healthcare, finance, and education.\n",
      "\n",
      "**Key Concepts:**\n",
      "\n",
      "* **Supervised Learning**: A type of machine learning where the model is trained on labeled data to make predictions on new, unseen data.\n",
      "* **Unsupervised Learning**: A type of machine learning where the model is trained on unlabeled data to identify patterns and relationships.\n",
      "* **Deep Learning**: A type of machine learning that uses neural networks to analyze data and make predictions.\n",
      "* **Data Preparation**: This section covers training data, features, and labels, grouping related concepts together.\n",
      "\n",
      "**Examples:**\n",
      "\n",
      "* **Healthcare:** Machine learning is being used to develop personalized medicine and predict patient outcomes. For instance, a machine learning model can be trained to predict patient outcomes based on their medical history and genetic data.\n",
      "* **Finance:** Machine learning is being used to detect fraud and make investment decisions. For example, a machine learning model can be trained to identify patterns in financial transactions to detect fraudulent activity.\n",
      "\n",
      "**How Does it Work?**\n",
      "\n",
      "Here's a simplified example of how machine learning works:\n",
      "\n",
      "1. Collect a dataset of training data.\n",
      "2. Split the dataset into two parts: a training set and a testing set.\n",
      "3. Train the machine learning model on the training set using an algorithm.\n",
      "4. Evaluate the model's performance on the testing set to measure its accuracy.\n",
      "5. Refine the model by adjusting the algorithm and re-training it on the entire dataset.\n",
      "6. Use the trained model to make predictions on new, unseen data.\n",
      "\n",
      "**Common Machine Learning Tasks:**\n",
      "\n",
      "* **Regression**: Predicting a continuous value.\n",
      "* **Classification**: Predicting a categorical label.\n",
      "* **Clustering**: Grouping similar data points together.\n",
      "* **Dimensionality Reduction**: Reducing the number of features in a dataset.\n",
      "\n",
      "**Next Steps:**\n",
      "\n",
      "If you're interested in learning more about machine learning, here are some resources to get you started:\n",
      "\n",
      "* Online courses and tutorials\n",
      "* Machine learning libraries and frameworks\n",
      "* Machine learning projects and challenges\n",
      "* Books, podcasts, and blogs that cover machine learning topics in depth\n",
      "\n",
      "**Common Pitfalls and Challenges:**\n",
      "\n",
      "* **Overfitting**: When a model is too complex and performs well on the training data but poorly on new data.\n",
      "* **Underfitting**: When a model is too simple and fails to capture the patterns in the data.\n",
      "* **Dealing with Imbalanced Datasets**: When the training data is biased towards certain classes or outcomes.\n",
      "\n",
      "**Miscellaneous:**\n",
      "\n",
      "* **Visuals**: Diagrams or flowcharts are added to help illustrate the machine learning process and concepts.\n",
      "* **Glossary**: A glossary of machine learning terms is provided to help readers quickly look up unfamiliar concepts.\n",
      "\n",
      "By following these steps and exploring machine learning further, you can start to build your own machine learning models and apply this powerful technology to your own projects.\n"
     ]
    }
   ],
   "source": [
    "initial_prompt = prompt_b if score_b > score_a else prompt_a\n",
    "refined_prompt = asyncio.run(refining_prompt(initial_prompt, \"machine learning\"))"
   ]
  },
  {
   "cell_type": "code",
   "execution_count": 27,
   "id": "bb0be13e",
   "metadata": {},
   "outputs": [
    {
     "name": "stdout",
     "output_type": "stream",
     "text": [
      "\n",
      "Final refined prompt:\n",
      "Here is the improved prompt template incorporating the suggestions provided:\n",
      "\n",
      "**Machine Learning: A Beginner's Guide to {topic}**\n",
      "\n",
      "Machine learning is a type of artificial intelligence that enables computers to learn from data and make predictions or decisions without being explicitly programmed. It's a powerful technology that has many applications in fields such as healthcare, finance, and education.\n",
      "\n",
      "**Key Concepts:**\n",
      "\n",
      "* **Supervised Learning**: A type of machine learning where the model is trained on labeled data to make predictions on new, unseen data.\n",
      "* **Unsupervised Learning**: A type of machine learning where the model is trained on unlabeled data to identify patterns and relationships.\n",
      "* **Deep Learning**: A type of machine learning that uses neural networks to analyze data and make predictions.\n",
      "* **Data Preparation**: This section covers training data, features, and labels, grouping related concepts together.\n",
      "\n",
      "**Examples:**\n",
      "\n",
      "* **Healthcare:** Machine learning is being used to develop personalized medicine and predict patient outcomes. For instance, a machine learning model can be trained to predict patient outcomes based on their medical history and genetic data.\n",
      "* **Finance:** Machine learning is being used to detect fraud and make investment decisions. For example, a machine learning model can be trained to identify patterns in financial transactions to detect fraudulent activity.\n",
      "\n",
      "**How Does it Work?**\n",
      "\n",
      "Here's a simplified example of how machine learning works:\n",
      "\n",
      "1. Collect a dataset of training data.\n",
      "2. Split the dataset into two parts: a training set and a testing set.\n",
      "3. Train the machine learning model on the training set using an algorithm.\n",
      "4. Evaluate the model's performance on the testing set to measure its accuracy.\n",
      "5. Refine the model by adjusting the algorithm and re-training it on the entire dataset.\n",
      "6. Use the trained model to make predictions on new, unseen data.\n",
      "\n",
      "**Common Machine Learning Tasks:**\n",
      "\n",
      "* **Regression**: Predicting a continuous value.\n",
      "* **Classification**: Predicting a categorical label.\n",
      "* **Clustering**: Grouping similar data points together.\n",
      "* **Dimensionality Reduction**: Reducing the number of features in a dataset.\n",
      "\n",
      "**Next Steps:**\n",
      "\n",
      "If you're interested in learning more about machine learning, here are some resources to get you started:\n",
      "\n",
      "* Online courses and tutorials\n",
      "* Machine learning libraries and frameworks\n",
      "* Machine learning projects and challenges\n",
      "* Books, podcasts, and blogs that cover machine learning topics in depth\n",
      "\n",
      "**Common Pitfalls and Challenges:**\n",
      "\n",
      "* **Overfitting**: When a model is too complex and performs well on the training data but poorly on new data.\n",
      "* **Underfitting**: When a model is too simple and fails to capture the patterns in the data.\n",
      "* **Dealing with Imbalanced Datasets**: When the training data is biased towards certain classes or outcomes.\n",
      "\n",
      "**Miscellaneous:**\n",
      "\n",
      "* **Visuals**: Diagrams or flowcharts are added to help illustrate the machine learning process and concepts.\n",
      "* **Glossary**: A glossary of machine learning terms is provided to help readers quickly look up unfamiliar concepts.\n",
      "\n",
      "By following these steps and exploring machine learning further, you can start to build your own machine learning models and apply this powerful technology to your own projects.\n"
     ]
    }
   ],
   "source": [
    "print(\"\\nFinal refined prompt:\")\n",
    "print(refined_prompt.template)"
   ]
  },
  {
   "cell_type": "markdown",
   "id": "0f0fe2e4",
   "metadata": {},
   "source": [
    "#Comparision"
   ]
  },
  {
   "cell_type": "code",
   "execution_count": 28,
   "id": "89cfbee2",
   "metadata": {},
   "outputs": [
    {
     "name": "stdout",
     "output_type": "stream",
     "text": [
      "Evaluating response based on clarity...\n",
      "Evaluating response based on informativeness...\n",
      "Evaluating response based on engagement...\n",
      "Evaluating response based on clarity...\n",
      "Evaluating response based on informativeness...\n",
      "Evaluating response based on engagement...\n",
      "Original prompt score: 8.00\n",
      "Refined prompt score: 9.00\n",
      "Improvement: 1.00 points\n"
     ]
    }
   ],
   "source": [
    "original_response = llm_response(initial_prompt.format(topic=\"machine learning\"))\n",
    "refined_response = llm_response(refined_prompt.format(topic=\"machine learning\"))\n",
    "\n",
    "original_score = eval_response(original_response, criteria)\n",
    "refined_score = eval_response(refined_response, criteria)\n",
    "\n",
    "print(f\"Original prompt score: {original_score:.2f}\")\n",
    "print(f\"Refined prompt score: {refined_score:.2f}\")\n",
    "print(f\"Improvement: {(refined_score - original_score):.2f} points\")"
   ]
  },
  {
   "cell_type": "code",
   "execution_count": null,
   "id": "f35f7de3",
   "metadata": {},
   "outputs": [],
   "source": []
  }
 ],
 "metadata": {
  "kernelspec": {
   "display_name": ".venv",
   "language": "python",
   "name": "python3"
  },
  "language_info": {
   "codemirror_mode": {
    "name": "ipython",
    "version": 3
   },
   "file_extension": ".py",
   "mimetype": "text/x-python",
   "name": "python",
   "nbconvert_exporter": "python",
   "pygments_lexer": "ipython3",
   "version": "3.13.3"
  }
 },
 "nbformat": 4,
 "nbformat_minor": 5
}
