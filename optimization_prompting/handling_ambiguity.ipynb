{
 "cells": [
  {
   "cell_type": "markdown",
   "id": "eb1fb88b",
   "metadata": {},
   "source": [
    "# Handling Ambiguity"
   ]
  },
  {
   "cell_type": "code",
   "execution_count": 1,
   "id": "1387cd54",
   "metadata": {},
   "outputs": [],
   "source": [
    "import os\n",
    "from dotenv import load_dotenv\n",
    "load_dotenv()\n",
    "\n",
    "os.environ[\"GROQ_API_KEY\"] = os.getenv(\"GROQ_API_KEY\")"
   ]
  },
  {
   "cell_type": "code",
   "execution_count": 2,
   "id": "4503d853",
   "metadata": {},
   "outputs": [],
   "source": [
    "from langchain_groq import ChatGroq\n",
    "\n",
    "llm = ChatGroq(model=\"llama3-8b-8192\")"
   ]
  },
  {
   "cell_type": "markdown",
   "id": "294559bc",
   "metadata": {},
   "source": [
    "#Identify Ambiguous prompt"
   ]
  },
  {
   "cell_type": "code",
   "execution_count": 3,
   "id": "da2eaec4",
   "metadata": {},
   "outputs": [
    {
     "name": "stdout",
     "output_type": "stream",
     "text": [
      "Prompt: Tell me about the bank.\n",
      "What a simple yet intriguing prompt!\n",
      "\n",
      "The prompt \"Tell me about the bank\" is indeed ambiguous, and here's why:\n",
      "\n",
      "**Lack of specificity**: The word \"bank\" can refer to various entities, making it unclear what the speaker is asking about. There are multiple possible interpretations:\n",
      "\n",
      "1. **Financial institution**: A bank as a financial institution where people deposit and withdraw money, apply for loans, and conduct other financial transactions.\n",
      "2. **Riverbank**: A bank as a natural feature, a sloping or flat area alongside a body of water, such as a river, lake, or ocean.\n",
      "3. **Bank (slope)**: A bank as a slope or incline, like a hillside or a mountain slope.\n",
      "4. **Bank (financial institution) with a specific branch or location**: The speaker might be asking about a particular bank branch, a specific location, or a particular type of bank (e.g., community bank, investment bank, etc.).\n",
      "5. **Bank (metaphorical)**: The speaker might be using \"bank\" metaphorically, asking about a concept like trust, safety, or security, which is often associated with banks as financial institutions.\n",
      "\n",
      "To resolve the ambiguity, the speaker could provide additional context or clarify what they mean by \"bank.\"\n",
      "--------------------------------------------------\n",
      "Prompt: What's the best way to get to school?\n",
      "The prompt \"What's the best way to get to school?\" appears to be a straightforward question, but it's actually ambiguous due to the lack of context and specificity. Here's why:\n",
      "\n",
      "1. **Lack of clarity on \"school\"**: The term \"school\" can refer to a primary, secondary, or tertiary educational institution. Without further context, it's unclear which type of school is being referred to.\n",
      "2. **Multiple modes of transportation**: There are various ways to get to school, such as walking, driving, taking public transportation, biking, or carpooling. The prompt doesn't specify which mode of transportation is being asked about.\n",
      "3. **Assumptions about the speaker's location**: The prompt doesn't provide information about the speaker's current location or proximity to the school. This could lead to different answers depending on whether the speaker is already close to the school or needs to travel from a distant location.\n",
      "\n",
      "Here are some possible interpretations of the prompt:\n",
      "\n",
      "1. **Assuming the speaker is already close to the school**: In this case, the best way to get to school might refer to the most efficient or convenient mode of transportation for a short distance, such as walking or biking.\n",
      "2. **Assuming the speaker is not close to the school**: In this scenario, the best way to get to school might refer to the most efficient or cost-effective mode of public transportation, such as taking a bus or train.\n",
      "3. **Assuming the speaker has a specific mode of transportation in mind**: The prompt might be asking about the best way to get to school using a specific mode of transportation, such as driving or carpooling.\n",
      "4. **Assuming the speaker has mobility or accessibility concerns**: In this case, the best way to get to school might refer to accommodations or alternatives that cater to the speaker's specific needs, such as wheelchair accessibility or transportation services for people with disabilities.\n",
      "5. **Assuming the speaker is looking for an environmentally friendly option**: The prompt might be asking about the most eco-friendly way to get to school, which could involve alternatives like carpooling, biking, or using public transportation.\n",
      "\n",
      "To resolve the ambiguity, additional context or clarification is necessary, such as specifying the type of school, the speaker's location, or the preferred mode of transportation.\n",
      "--------------------------------------------------\n",
      "Prompt: Can you explain the theory?\n",
      "The prompt \"Can you explain the theory?\" is indeed ambiguous, and here's why:\n",
      "\n",
      "1. **Lack of context**: The prompt doesn't provide any information about what \"the theory\" refers to. It could be a specific scientific theory, a philosophical concept, a mathematical model, or even a personal opinion. Without context, it's difficult to determine what the speaker wants to know.\n",
      "2. **Multiple possible theories**: There are countless theories across various disciplines, making it unclear which one the speaker is referring to. For example, is it Einstein's theory of relativity, the theory of evolution, or the theory of gravity?\n",
      "\n",
      "Possible interpretations of the prompt include:\n",
      "\n",
      "1. **Request for an explanation of a specific scientific theory**: The speaker might be asking for an explanation of a particular scientific theory, such as the theory of plate tectonics or the theory of quantum mechanics.\n",
      "2. **Request for an overview of a broader field**: The speaker might be asking for a general overview of a particular field or discipline, such as physics or biology, which could involve explaining multiple theories and concepts.\n",
      "3. **Request for an explanation of a philosophical or abstract concept**: The speaker might be asking for an explanation of a philosophical concept, such as the theory of free will or the theory of knowledge, or an abstract idea, like the concept of time or the nature of consciousness.\n",
      "4. **Request for an explanation of a personal or creative theory**: The speaker might be asking for an explanation of a personal theory or idea, such as a creative concept or a speculative hypothesis.\n",
      "5. **Request for an explanation of a theoretical framework**: The speaker might be asking for an explanation of a theoretical framework, such as a conceptual model or a research methodology, used in a specific field or discipline.\n",
      "\n",
      "To clarify the prompt, it's essential to provide more context or specify which theory the speaker is referring to.\n",
      "--------------------------------------------------\n"
     ]
    }
   ],
   "source": [
    "ambiguous_prompts = [\n",
    "    \"Tell me about the bank.\",\n",
    "    \"What's the best way to get to school?\",\n",
    "    \"Can you explain the theory?\"\n",
    "]\n",
    "\n",
    "for prompt in ambiguous_prompts:\n",
    "    analysis_prompt = f\"Analyze the following prompt for ambiguity: '{prompt}'. Explain why it's ambiguous and list possible interpretations.\"\n",
    "    print(f\"Prompt: {prompt}\")\n",
    "    print(llm.invoke(analysis_prompt).content)\n",
    "    print(\"-\" * 50)"
   ]
  },
  {
   "cell_type": "markdown",
   "id": "bfc0a175",
   "metadata": {},
   "source": [
    "#Resolving Ambiguity"
   ]
  },
  {
   "cell_type": "code",
   "execution_count": 4,
   "id": "3032644f",
   "metadata": {},
   "outputs": [],
   "source": [
    "import nest_asyncio\n",
    "nest_asyncio.apply()\n",
    "import asyncio"
   ]
  },
  {
   "cell_type": "code",
   "execution_count": 9,
   "id": "1071397e",
   "metadata": {},
   "outputs": [],
   "source": [
    "async def resolve_ambiguity(prompt, context):\n",
    "    \"\"\"\n",
    "    Resolve ambiguity in a prompt by providing additional context.\n",
    "    \n",
    "    Args:\n",
    "    prompt (str): The original ambiguous prompt\n",
    "    context (str): Additional context to resolve ambiguity\n",
    "    \n",
    "    Returns:\n",
    "    str: The AI's response to the clarified prompt\n",
    "    \"\"\"\n",
    "    clarified_prompt = f\"{context}\\n\\nBased on this context, {prompt}\"\n",
    "    return await llm.ainvoke(clarified_prompt)"
   ]
  },
  {
   "cell_type": "code",
   "execution_count": 11,
   "id": "0a8c3e9d",
   "metadata": {},
   "outputs": [
    {
     "name": "stdout",
     "output_type": "stream",
     "text": [
      "Context: You are a financial advisor discussing savings accounts.\n",
      "Clarified response: The bank I work with is a reputable and well-established institution with a long history of providing excellent financial services to its customers. With a strong focus on customer satisfaction, they offer a wide range of banking products and services, including savings accounts, checking accounts, loans, credit cards, and investments.\n",
      "\n",
      "The bank is a FDIC-insured institution, which means that deposits are insured up to $250,000 per account owner, per insured bank. This provides an added layer of security for customers, giving them peace of mind knowing that their hard-earned money is protected.\n",
      "\n",
      "In terms of savings accounts, the bank offers a variety of options to suit different needs and goals. They have traditional savings accounts with competitive interest rates, as well as high-yield savings accounts that offer higher rates for customers who are willing to keep their money locked in the account for a longer period.\n",
      "\n",
      "The bank also offers a range of online and mobile banking services, making it easy for customers to manage their accounts, transfer funds, and pay bills from anywhere. They have a customer-centric approach, with a dedicated team of professionals who are always available to assist with any questions or concerns.\n",
      "\n",
      "Overall, the bank is a trusted and reliable institution that offers a range of savings account options to help customers achieve their financial goals.\n",
      "--------------------------------------------------\n",
      "Context: You are a geographer describing river formations.\n",
      "Clarified response: The bank! In river geography, the bank refers to the sloping or flat area along the sides of a river, where the water meets the land. It's a critical zone that plays a significant role in shaping the river's course, influencing its flow, and affecting the surrounding environment.\n",
      "\n",
      "There are two main types of banks: the cut bank and the point bar.\n",
      "\n",
      "* The cut bank is the steeper, upstream side of the river, where the water has eroded the land over time, creating a sharp slope. This is often the result of slower water flow and increased sediment transport, which causes the river to cut through the earth.\n",
      "* The point bar, on the other hand, is the gentler, downstream side of the river, where the water deposits sediment and creates a flat or gently sloping area. This occurs as the river slows down and the sediment settles, building up a natural barrier or levee.\n",
      "\n",
      "The bank's shape and size can also be influenced by various factors, such as:\n",
      "\n",
      "* Meander bends: The river's tendency to curve or bend, which can cause erosion on one side and deposition on the other.\n",
      "* Floodplains: Areas adjacent to the river where water flows during heavy rainfall or flooding, depositing sediment and modifying the bank's shape.\n",
      "* Vegetation: The type and density of vegetation along the bank can affect erosion rates, with dense vegetation helping to stabilize the soil and prevent erosion.\n",
      "* Human activities: Dams, levees, and other human interventions can alter the natural flow and sediment transport of the river, impacting the bank's shape and stability.\n",
      "\n",
      "In summary, the bank is a dynamic and complex zone that plays a crucial role in shaping the river's course and influencing its interactions with the surrounding environment. By understanding the bank's characteristics and processes, we can better appreciate the intricate relationships between rivers and their landscapes.\n",
      "--------------------------------------------------\n"
     ]
    }
   ],
   "source": [
    "ambiguous_prompt = \"Tell me about the bank.\"\n",
    "contexts = [\n",
    "    \"You are a financial advisor discussing savings accounts.\",\n",
    "    \"You are a geographer describing river formations.\"\n",
    "]\n",
    "\n",
    "for context in contexts:\n",
    "    print(f\"Context: {context}\")\n",
    "    response = asyncio.run(resolve_ambiguity(ambiguous_prompt, context))\n",
    "    print(f\"Clarified response: {response.content}\")\n",
    "    print(\"-\" * 50)"
   ]
  },
  {
   "cell_type": "markdown",
   "id": "6e3e9e10",
   "metadata": {},
   "source": [
    "#ReWritting Prompt"
   ]
  },
  {
   "cell_type": "code",
   "execution_count": 12,
   "id": "f59e0189",
   "metadata": {},
   "outputs": [],
   "source": [
    "def compare_prompt_clarity(original_prompt, improved_prompt):\n",
    "    \"\"\"\n",
    "    Compare the responses to an original prompt and an improved, clearer version.\n",
    "    \n",
    "    Args:\n",
    "    original_prompt (str): The original, potentially unclear prompt\n",
    "    improved_prompt (str): An improved, clearer version of the prompt\n",
    "    \n",
    "    Returns:\n",
    "    tuple: Responses to the original and improved prompts\n",
    "    \"\"\"\n",
    "    original_response = llm.invoke(original_prompt).content\n",
    "    improved_response = llm.invoke(improved_prompt).content\n",
    "    return original_response, improved_response\n"
   ]
  },
  {
   "cell_type": "code",
   "execution_count": 13,
   "id": "e2fd5795",
   "metadata": {},
   "outputs": [
    {
     "name": "stdout",
     "output_type": "stream",
     "text": [
      "Original Prompt Response:\n",
      "I'm happy to help! However, I need more information about what you're trying to make. Could you please provide more context or clarify what you're referring to? Are you asking about a specific recipe, a craft project, or something else?\n",
      "\n",
      "\n",
      "Improved Prompt Response:\n",
      "The classic margherita pizza! A timeless favorite that's easy to make and always a crowd-pleaser. Here's a step-by-step guide to help you create this iconic Italian dish:\n",
      "\n",
      "**Ingredients:**\n",
      "\n",
      "* 1 1/2 cups warm water\n",
      "* 1 tablespoon active dry yeast\n",
      "* 3 1/2 cups all-purpose flour\n",
      "* 1 teaspoon salt\n",
      "* 2 tablespoons extra-virgin olive oil\n",
      "* 1/2 cup San Marzano tomatoes (or other fresh, flavorful tomatoes), crushed by hand\n",
      "* 8 ounces fresh mozzarella cheese, sliced\n",
      "* Fresh basil leaves, chopped (about 1/4 cup)\n",
      "\n",
      "**Cooking Instructions:**\n",
      "\n",
      "**Step 1: Make the Dough**\n",
      "\n",
      "1. In a large mixing bowl, combine the warm water and yeast. Let it sit for 5-10 minutes, or until the yeast becomes frothy and bubbly.\n",
      "2. Add the flour, salt, and olive oil to the bowl. Mix the dough using a wooden spoon or a stand mixer with a dough hook attachment until it forms a sticky ball.\n",
      "3. Knead the dough on a floured surface for 5-10 minutes, until it becomes smooth and elastic.\n",
      "4. Place the dough in a lightly oiled bowl, cover it with plastic wrap, and let it rise in a warm, draft-free place for 1-2 hours, or until it has doubled in size.\n",
      "\n",
      "**Step 2: Prepare the Toppings**\n",
      "\n",
      "1. Crush the San Marzano tomatoes by hand or with a fork to release their natural juices.\n",
      "2. Slice the mozzarella cheese into thin rounds.\n",
      "3. Chop the fresh basil leaves.\n",
      "\n",
      "**Step 3: Shape the Dough**\n",
      "\n",
      "1. Preheat your oven to 500°F (260°C) with a baking stone or baking sheet inside, if you have one. If not, a regular oven will work just fine.\n",
      "2. Punch down the risen dough and divide it into 2-4 equal portions, depending on the size of pizza you prefer.\n",
      "3. Roll out each portion of dough into a thin circle, about 1/4 inch thick.\n",
      "4. Place the dough on a piece of parchment paper or a lightly floured pizza peel, if you have one.\n",
      "\n",
      "**Step 4: Top the Pizza**\n",
      "\n",
      "1. Spread a thin layer of crushed tomatoes over the dough, leaving a 1/2-inch border around the edges.\n",
      "2. Arrange the sliced mozzarella cheese on top of the tomatoes.\n",
      "3. Sprinkle chopped basil leaves over the mozzarella cheese.\n",
      "\n",
      "**Step 5: Bake the Pizza**\n",
      "\n",
      "1. Slide the parchment paper or pizza peel onto the preheated baking stone or baking sheet.\n",
      "2. Bake the pizza for 10-12 minutes, or until the crust is golden brown and the cheese is melted and bubbly.\n",
      "3. Remove the pizza from the oven and let it cool for a few minutes.\n",
      "\n",
      "**Step 6: Serve and Enjoy!**\n",
      "\n",
      "1. Slice the pizza into wedges and serve immediately.\n",
      "2. Enjoy the classic margherita pizza with a glass of wine, a cold beer, or a refreshing Italian soda!\n",
      "\n",
      "Tips and Variations:\n",
      "\n",
      "* Use a pizza stone or baking steel for a crispy crust.\n",
      "* Add a pinch of salt to the dough for extra flavor.\n",
      "* Try using different types of tomatoes, such as cherry or grape tomatoes, for a pop of color and added flavor.\n",
      "* Experiment with other toppings, like prosciutto, arugula, or balsamic glaze, to create unique flavor combinations.\n",
      "\n",
      "Buon appetito!\n"
     ]
    }
   ],
   "source": [
    "original_prompt = \"How do I make it?\"\n",
    "improved_prompt = \"Provide a step-by-step guide for making a classic margherita pizza, including ingredients and cooking instructions.\"\n",
    "\n",
    "original_response, improved_response = compare_prompt_clarity(original_prompt, improved_prompt)\n",
    "\n",
    "print(\"Original Prompt Response:\")\n",
    "print(original_response)\n",
    "print()\n",
    "print(\"\\nImproved Prompt Response:\")\n",
    "print(improved_response)"
   ]
  },
  {
   "cell_type": "markdown",
   "id": "b7bb0886",
   "metadata": {},
   "source": [
    "#Structure prompts for clarity"
   ]
  },
  {
   "cell_type": "code",
   "execution_count": 14,
   "id": "63ecb3e4",
   "metadata": {},
   "outputs": [
    {
     "name": "stdout",
     "output_type": "stream",
     "text": [
      "I'm happy to provide an analysis of the impact of social media on society, considering the following aspects:\n",
      "\n",
      "**Aspect 1: Mental Health and Well-being**\n",
      "\n",
      "Social media has had a significant impact on mental health and well-being. On one hand, social media platforms provide a sense of connection and community for many people, which can be particularly important for those who may be isolated or have difficulty forming in-person relationships. Additionally, social media can be a valuable tool for mental health awareness and support, with many people using platforms to share their experiences and connect with others who may be going through similar challenges.\n",
      "\n",
      "On the other hand, excessive social media use has been linked to increased symptoms of depression, anxiety, and loneliness. Social media platforms can create unrealistic expectations and promote comparison, leading to feelings of inadequacy and low self-esteem. The constant stream of curated and manipulated content can also contribute to feelings of FOMO (fear of missing out) and anxiety.\n",
      "\n",
      "**Aspect 2: Social Relationships and Communication**\n",
      "\n",
      "Social media has fundamentally changed the way we communicate and interact with each other. While social media can facilitate global connections and relationships, it can also lead to superficial and fragmented interactions. People may have hundreds of \"friends\" on social media, but feel isolated and disconnected from meaningful relationships.\n",
      "\n",
      "Moreover, social media can also blur the lines between personal and professional relationships, leading to burnout and decreased boundaries. The constant stream of notifications and updates can be overwhelming, and the pressure to respond immediately can lead to feelings of anxiety and stress.\n",
      "\n",
      "**Aspect 3: Information and News Consumption**\n",
      "\n",
      "Social media has revolutionized the way we consume information and news. Social media platforms provide instant access to news and information, and can help to amplify marginalized voices and perspectives. However, social media also poses significant challenges to the dissemination of accurate and reliable information.\n",
      "\n",
      "The spread of misinformation and disinformation on social media can have serious consequences, including the erosion of trust in institutions and the spread of conspiracy theories. The algorithm-driven nature of social media can also create \"filter bubbles,\" where users are only exposed to information that confirms their existing beliefs and biases.\n",
      "\n",
      "**Conclusion**\n",
      "\n",
      "In conclusion, social media has had a profound impact on society, with both positive and negative effects across various aspects. While social media can provide a sense of connection and community, it can also contribute to feelings of isolation and loneliness. While social media can facilitate global communication and relationships, it can also lead to superficial and fragmented interactions.\n",
      "\n",
      "Ultimately, the impact of social media on society will depend on how we choose to use these platforms. By being aware of the potential pitfalls and taking steps to mitigate them, we can harness the power of social media to build stronger, more connected communities.\n"
     ]
    }
   ],
   "source": [
    "from langchain_core.prompts import PromptTemplate\n",
    "\n",
    "structured_prompt = PromptTemplate(\n",
    "    input_variables=[\"topic\", \"aspects\", \"tone\"],\n",
    "    template=\"\"\"Provide an analysis of {topic} considering the following aspects:\n",
    "    1. {{aspects[0]}}\n",
    "    2. {{aspects[1]}}\n",
    "    3. {{aspects[2]}}\n",
    "    \n",
    "    Present the analysis in a {tone} tone.\n",
    "    \"\"\"\n",
    ")\n",
    "\n",
    "input_variables = {\n",
    "    \"topic\": \"the impact of social media on society\",\n",
    "    \"aspects\": [\"communication patterns\", \"mental health\", \"information spread\"],\n",
    "    \"tone\": \"balanced and objective\"\n",
    "}\n",
    "\n",
    "chain = structured_prompt | llm\n",
    "response = chain.invoke(input_variables).content\n",
    "print(response)"
   ]
  },
  {
   "cell_type": "code",
   "execution_count": null,
   "id": "fa21ab12",
   "metadata": {},
   "outputs": [],
   "source": []
  }
 ],
 "metadata": {
  "kernelspec": {
   "display_name": ".venv",
   "language": "python",
   "name": "python3"
  },
  "language_info": {
   "codemirror_mode": {
    "name": "ipython",
    "version": 3
   },
   "file_extension": ".py",
   "mimetype": "text/x-python",
   "name": "python",
   "nbconvert_exporter": "python",
   "pygments_lexer": "ipython3",
   "version": "3.13.3"
  }
 },
 "nbformat": 4,
 "nbformat_minor": 5
}
