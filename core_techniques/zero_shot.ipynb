{
 "cells": [
  {
   "cell_type": "markdown",
   "id": "fec9250e",
   "metadata": {},
   "source": [
    "# Zero-Shot Prompt"
   ]
  },
  {
   "cell_type": "code",
   "execution_count": 13,
   "id": "a45882b2",
   "metadata": {},
   "outputs": [],
   "source": [
    "import os\n",
    "from dotenv import load_dotenv\n",
    "load_dotenv()\n",
    "\n",
    "os.environ[\"GROQ_API_KEY\"] = os.getenv(\"GROQ_API_KEY\")"
   ]
  },
  {
   "cell_type": "code",
   "execution_count": 14,
   "id": "6a9ad4aa",
   "metadata": {},
   "outputs": [],
   "source": [
    "from langchain_groq import ChatGroq\n",
    "\n",
    "gemma_llm = ChatGroq(model=\"gemma2-9b-it\")"
   ]
  },
  {
   "cell_type": "code",
   "execution_count": 1,
   "id": "dfd99993",
   "metadata": {},
   "outputs": [],
   "source": [
    "from langchain_ollama import ChatOllama\n",
    "\n",
    "llm = ChatOllama(model=\"llama3.2:1b\")"
   ]
  },
  {
   "cell_type": "code",
   "execution_count": 21,
   "id": "cb30d9c8",
   "metadata": {},
   "outputs": [],
   "source": [
    "from langchain_core.prompts import PromptTemplate\n",
    "\n",
    "def creat_gemmaa_chain(template):\n",
    "    \"\"\"\n",
    "    Provide a Langchain chain with given template\n",
    "    Args:\n",
    "        template (str): the tenplate to form prompt\n",
    "\n",
    "    Returns:\n",
    "        LLMChain: An LLM chain obj \n",
    "    \"\"\"\n",
    "    prompt = PromptTemplate.from_template(template= template)\n",
    "    chain = prompt | gemma_llm\n",
    "    return chain"
   ]
  },
  {
   "cell_type": "code",
   "execution_count": 22,
   "id": "92cc851e",
   "metadata": {},
   "outputs": [],
   "source": [
    "def creat_ollama_chain(template):\n",
    "    \"\"\"\n",
    "    Provide a Langchain chain with given template\n",
    "    Args:\n",
    "        template (str): the tenplate to form prompt\n",
    "\n",
    "    Returns:\n",
    "        LLMChain: An LLM chain obj \n",
    "    \"\"\"\n",
    "    prompt = PromptTemplate.from_template(template= template)\n",
    "    chain = prompt | llm\n",
    "    return chain"
   ]
  },
  {
   "cell_type": "markdown",
   "id": "8e2b7285",
   "metadata": {},
   "source": [
    "#Direct Task Prompt"
   ]
  },
  {
   "cell_type": "code",
   "execution_count": null,
   "id": "358e0b20",
   "metadata": {},
   "outputs": [],
   "source": [
    "direct_prompt = \"\"\"\n",
    "    Classify the sentiment of the following text as positive, negative, or neutral.\n",
    "    Do not explain your reasoning, just provide the sentiment .\n",
    "    \\nText: {text}\n",
    "    \\nSentiment:\n",
    "\"\"\"\n",
    "\n",
    "chain = creat_gemmaa_chain(direct_prompt)"
   ]
  },
  {
   "cell_type": "code",
   "execution_count": 17,
   "id": "383f44c2",
   "metadata": {},
   "outputs": [],
   "source": [
    "texts = [\n",
    "    \"I absolutely loved the movie! The acting was superb.\",\n",
    "    \"The weather today is quite typical for this time of year.\",\n",
    "    \"I'm disappointed with the service I received at the restaurant.\"\n",
    "]"
   ]
  },
  {
   "cell_type": "code",
   "execution_count": 18,
   "id": "c51afc65",
   "metadata": {},
   "outputs": [
    {
     "name": "stdout",
     "output_type": "stream",
     "text": [
      "Text: I absolutely loved the movie! The acting was superb.\n",
      "Sentiment: Positive \n",
      "\n",
      "Text: The weather today is quite typical for this time of year.\n",
      "Sentiment: Neutral \n",
      "\n",
      "Text: I'm disappointed with the service I received at the restaurant.\n",
      "Sentiment: Negative \n",
      "\n"
     ]
    }
   ],
   "source": [
    "for text in texts:\n",
    "    result = chain.invoke({\"text\": text}).content\n",
    "    print(f\"Text: {text}\")\n",
    "    print(f\"Sentiment: {result}\")"
   ]
  },
  {
   "cell_type": "markdown",
   "id": "bc4a56c8",
   "metadata": {},
   "source": [
    "#Format Specification"
   ]
  },
  {
   "cell_type": "code",
   "execution_count": null,
   "id": "0748181c",
   "metadata": {},
   "outputs": [],
   "source": [
    "format_prompt = \"\"\"\n",
    "    Generate a short news article about {topic}.\n",
    "    The output should follow the format below specified:\n",
    "        'Head': [Make a catchy title for the article]\n",
    "        'Lead': [Make an introductory praragraph summarizing the article]\n",
    "        'Body': [2-3 paragraphs providing more details]\n",
    "        'conclusion': [A conclusion sentence or call to action]\n",
    "\"\"\"\n",
    "\n",
    "f_chain = creat_gemmaa_chain(format_prompt)"
   ]
  },
  {
   "cell_type": "code",
   "execution_count": 20,
   "id": "1fedcf63",
   "metadata": {},
   "outputs": [
    {
     "name": "stdout",
     "output_type": "stream",
     "text": [
      "## Head:  Scientists Discover Potentially Habitable Planet: Kepler-186f's Cousin?\n",
      "\n",
      "## Lead: \n",
      "Astronomers have announced the discovery of a new exoplanet, designated \"TOI-700 e,\" that orbits within the habitable zone of its star, raising hopes for the potential discovery of extraterrestrial life. Located 100 light-years away in the constellation Dorado, TOI-700 e is roughly the size of Earth and receives a similar amount of light from its star as our planet does from the Sun.\n",
      "\n",
      "## Body:\n",
      "TOI-700 e was detected by NASA's Transiting Exoplanet Survey Satellite (TESS) using the transit method, which observes the slight dimming of a star's light as a planet passes in front of it.  This method, successful in discovering thousands of exoplanets in recent years, allows scientists to estimate a planet's size and orbital period.  Further analysis using ground-based telescopes confirmed the planet's existence and provided valuable data about its characteristics. \n",
      "\n",
      "While the discovery of a potentially habitable planet is incredibly exciting, scientists emphasize that further observation is needed. They aim to determine the planet's atmosphere, composition, and presence of water, which are crucial factors in determining its ability to support life as we know it.  TOI-700 e's similarities to Kepler-186f, another Earth-sized planet in the habitable zone discovered in 2014, have led to renewed interest in the search for life beyond our solar system.\n",
      "\n",
      "\n",
      "## Conclusion:\n",
      "The discovery of TOI-700 e offers a glimpse into the vast possibilities of our universe and fuels the ongoing quest to find evidence of life beyond Earth. Continued research and exploration will undoubtedly shed more light on this intriguing world and its potential to harbor extraterrestrial life. \n",
      "\n"
     ]
    }
   ],
   "source": [
    "topic = \"The discovery of a new earth-like exoplanet\"\n",
    "result = f_chain.invoke({\"topic\": topic}).content\n",
    "print(result)"
   ]
  },
  {
   "cell_type": "code",
   "execution_count": 23,
   "id": "aaed8ddc",
   "metadata": {},
   "outputs": [
    {
     "name": "stdout",
     "output_type": "stream",
     "text": [
      "## Head:  \n",
      "\n",
      "**Twin Earth Found: Potentially Habitable Planet Discovered in Neighboring Star System**\n",
      "\n",
      "## Lead: \n",
      "\n",
      "Astronomers have announced the discovery of a potentially habitable exoplanet orbiting within the habitable zone of a nearby star, offering tantalizing clues about the possibility of life beyond our solar system. Dubbed Kepler-186f-b, the planet shares striking similarities with Earth in size and composition, raising hopes for future exploration and the search for extraterrestrial life. \n",
      "\n",
      "## Body:\n",
      "\n",
      "Kepler-186f-b orbits the red dwarf star Kepler-186, located approximately 490 light-years away in the constellation Cygnus. This planet is slightly larger than Earth, with a mass estimated to be 1.1 times greater.  Crucially, it resides within the habitable zone, the region around a star where temperatures allow for the presence of liquid water on the surface - a key ingredient for life as we know it. \n",
      "\n",
      "While the planet's atmosphere and surface conditions remain unknown, its size and location within the habitable zone suggest that Kepler-186f-b could possess a rocky surface and potentially harbor oceans. Further observations with powerful telescopes like the James Webb Space Telescope are planned to analyze the planet's atmosphere and search for signs of biological activity. \n",
      "\n",
      "## Conclusion:\n",
      "\n",
      "The discovery of Kepler-186f-b marks a significant step forward in our quest to find another Earth. While much remains to be learned about this intriguing world, it offers a glimpse into the vast possibilities for life beyond our own planet. \n",
      "\n",
      "\n",
      "\n"
     ]
    }
   ],
   "source": [
    "l_chain = creat_ollama_chain(format_prompt)\n",
    "\n",
    "topic = \"The discovery of a new earth-like exoplanet\"\n",
    "result = f_chain.invoke({\"topic\": topic}).content\n",
    "print(result)"
   ]
  },
  {
   "cell_type": "markdown",
   "id": "a8871a0f",
   "metadata": {},
   "source": [
    "#Multi-Step reasoning"
   ]
  },
  {
   "cell_type": "code",
   "execution_count": 25,
   "id": "884a0e10",
   "metadata": {},
   "outputs": [],
   "source": [
    "multi_step_prompt = \"\"\"\n",
    "    Analyze the following text for its main main argument, supporting evidence, and Potential counter-arguments.\n",
    "    Provide your analysis in following steps:\n",
    "        'Main Argument': Identify and state the primary focus of thesis or topic\n",
    "        'Supporting Evidence': List the key arguments or evidences that support the Main Argument.\n",
    "        'Potential Counter-arguments': Suggest possible objections or alternative viewpoints to the main argument.\n",
    "\n",
    "    \\nText: {text}\n",
    "    \\nAnalysis:\n",
    "\"\"\"\n",
    "\n",
    "multi_step_Gchain = creat_gemmaa_chain(multi_step_prompt)\n",
    "multi_step_Lchain = creat_ollama_chain(multi_step_prompt)"
   ]
  },
  {
   "cell_type": "code",
   "execution_count": 26,
   "id": "e3c98bc2",
   "metadata": {},
   "outputs": [
    {
     "name": "stdout",
     "output_type": "stream",
     "text": [
      "Here's an analysis of the provided text:\n",
      "\n",
      "**Main Argument:**  Electric vehicles, while often presented as a climate change solution, have a complex environmental impact that requires careful consideration.\n",
      "\n",
      "**Supporting Evidence:**\n",
      "\n",
      "* **Battery Production:**  Mining for battery materials can cause habitat destruction and water pollution.\n",
      "* **Electricity Source:** If charged with electricity generated from fossil fuels, EVs may not significantly reduce carbon emissions.\n",
      "\n",
      "**Potential Counter-arguments:**\n",
      "\n",
      "* **Lifecycle Analysis:** A comprehensive lifecycle analysis might demonstrate that, even with the environmental costs of battery production, EVs still have a lower overall carbon footprint than gasoline-powered vehicles. \n",
      "* **Renewable Energy Growth:** The text acknowledges that renewable energy is increasing.  A counter-argument could emphasize the rapid growth of renewables and the decreasing reliance on fossil fuels for electricity generation, making EVs increasingly environmentally friendly.\n",
      "* **Technological Advancements:** Battery technology is constantly improving, leading to more efficient batteries that require less mining and have a longer lifespan. This could significantly reduce the environmental impact of EVs over time.\n",
      "* **Other Benefits:**  EVs offer benefits beyond carbon emissions reduction, such as reduced air pollution in urban areas and quieter operation. These benefits should be weighed in the overall assessment of their environmental impact.\n",
      "\n",
      "\n",
      "Let me know if you'd like to explore any of these points further! \n",
      "\n"
     ]
    }
   ],
   "source": [
    "text = \"\"\"While electric vehicles are often touted as a solution to climate change, their environmental impact is not as straightforward as it seems. \n",
    "The production of batteries for electric cars requires significant mining operations, which can lead to habitat destruction and water pollution. \n",
    "Moreover, if the electricity used to charge these vehicles comes from fossil fuel sources, the overall carbon footprint may not be significantly reduced. \n",
    "However, as renewable energy sources become more prevalent and battery technology improves, electric vehicles could indeed play a crucial role in combating climate change.\"\"\"\n",
    "\n",
    "result = multi_step_Gchain.invoke({\"text\": text}).content\n",
    "print(result)"
   ]
  },
  {
   "cell_type": "code",
   "execution_count": 27,
   "id": "1b85c3da",
   "metadata": {},
   "outputs": [
    {
     "name": "stdout",
     "output_type": "stream",
     "text": [
      "**Main Argument:** The environmental impact of electric vehicles is complex and multifaceted, requiring nuanced consideration.\n",
      "\n",
      "**Supporting Evidence:**\n",
      "\n",
      "1. **Mining operations for batteries**: Electric vehicle production requires significant mining operations, which can lead to habitat destruction and water pollution. (Example: Lithium mining in Chile's Atacama Desert has been linked to water contamination.)\n",
      "2. **Carbon footprint from fossil fuel electricity source**: If the electricity used to charge electric vehicles comes from fossil fuel sources, the overall carbon footprint may not be significantly reduced. (Example: A study found that renewable energy production can actually increase greenhouse gas emissions if it is not powered by renewable energy sources.)\n",
      "\n",
      "**Potential Counter-arguments:**\n",
      "\n",
      "1. **Battery technology improvements**: Improvements in battery technology could mitigate environmental concerns associated with battery mining and waste management.\n",
      "2. **Renewable energy sources are becoming more prevalent**: As the cost of renewable energy decreases, its production can lead to a reduction in overall carbon footprint from electric vehicles.\n",
      "3. **Electric vehicles can be powered by low-carbon sources**: If electricity is generated using low-carbon sources (e.g., nuclear, hydrogen), electric vehicles could have a reduced environmental impact.\n",
      "\n",
      "**Analysis of Counter-arguments:**\n",
      "\n",
      "1. **Counterargument 1: Battery technology improvements**: While improved battery technology may reduce environmental concerns associated with battery mining and waste management, it is unlikely to eliminate them entirely.\n",
      "2. **Counterargument 2: Renewable energy sources are becoming more prevalent**: As the cost of renewable energy decreases, its production can lead to a reduction in overall carbon footprint from electric vehicles. However, this assumes that all electricity generated is low-carbon; otherwise, additional emissions may be created elsewhere in the energy system.\n",
      "3. **Counterargument 3: Electric vehicles can be powered by low-carbon sources**: This argument is largely true, but it does not address potential environmental concerns associated with producing and transporting electric vehicle batteries.\n"
     ]
    }
   ],
   "source": [
    "text = \"\"\"While electric vehicles are often touted as a solution to climate change, their environmental impact is not as straightforward as it seems. \n",
    "The production of batteries for electric cars requires significant mining operations, which can lead to habitat destruction and water pollution. \n",
    "Moreover, if the electricity used to charge these vehicles comes from fossil fuel sources, the overall carbon footprint may not be significantly reduced. \n",
    "However, as renewable energy sources become more prevalent and battery technology improves, electric vehicles could indeed play a crucial role in combating climate change.\"\"\"\n",
    "\n",
    "result = multi_step_Lchain.invoke({\"text\": text}).content\n",
    "print(result)"
   ]
  },
  {
   "cell_type": "markdown",
   "id": "77608a21",
   "metadata": {},
   "source": [
    "#Comprarative Analysis"
   ]
  },
  {
   "cell_type": "code",
   "execution_count": 28,
   "id": "ad8c9e34",
   "metadata": {},
   "outputs": [],
   "source": [
    "def compare_prompts(task, prompt_template):\n",
    "    \"\"\"\n",
    "    Compare different prompt templates for the same task.\n",
    "\n",
    "    Args:\n",
    "        task (str): The task description or input\n",
    "        prompt_template (dict): A dictonary of prompt templates with names and keys\n",
    "    \"\"\"\n",
    "    print(f\"\\nTask: {task}\\n\")\n",
    "    for name, template in prompt_template.items():\n",
    "        chain = creat_gemmaa_chain(template)\n",
    "        result = chain.invoke({\"task\": task}).content\n",
    "        print(f\"{name} Prompt Result: \")\n",
    "        print(result)\n",
    "        print(\"\\n\" + \"-\"*50 + \"\\n\")"
   ]
  },
  {
   "cell_type": "code",
   "execution_count": 31,
   "id": "c42fcb29",
   "metadata": {},
   "outputs": [
    {
     "name": "stdout",
     "output_type": "stream",
     "text": [
      "\n",
      "Task: Explain concisely the concept of blockchain technology\n",
      "\n",
      "Basic Prompt Result: \n",
      "Blockchain is a **decentralized, immutable ledger** that records transactions across multiple computers. \n",
      "\n",
      "Think of it like a digital spreadsheet shared publicly, where each new transaction (or \"block\") is cryptographically linked to the previous one, creating a chain. This makes it **transparent, secure, and resistant to tampering**. \n",
      "\n",
      "No single entity controls the blockchain, making it **trustless** and ideal for applications requiring secure and transparent record-keeping.\n",
      "\n",
      "\n",
      "--------------------------------------------------\n",
      "\n",
      "Structured Prompt Result: \n",
      "## Blockchain Explained:\n",
      "\n",
      "**1. Definition:**\n",
      "\n",
      "Blockchain is a decentralized, distributed ledger that records transactions across multiple computers. \n",
      "\n",
      "**2. Key Features:**\n",
      "\n",
      "* **Decentralization:** No single entity controls the blockchain, making it resistant to manipulation.\n",
      "* **Immutability:** Once a transaction is recorded, it cannot be altered or deleted.\n",
      "* **Transparency:** All transactions are publicly viewable (though user identities can be pseudonymous).\n",
      "* **Security:** Cryptography ensures data integrity and protects against fraud.\n",
      "\n",
      "**3. Real-world Applications:**\n",
      "\n",
      "* **Cryptocurrencies:** Bitcoin and other cryptocurrencies use blockchain for secure and transparent transactions.\n",
      "* **Supply Chain Management:** Tracking goods from origin to consumer, ensuring authenticity and transparency.\n",
      "* **Healthcare:** Securely storing and sharing patient medical records.\n",
      "* **Voting:** Creating tamper-proof and auditable voting systems.\n",
      "\n",
      "**4. Potential Impact on Industries:**\n",
      "\n",
      "Blockchain has the potential to revolutionize industries by:\n",
      "\n",
      "* **Increasing Efficiency:** Streamlining processes and eliminating intermediaries.\n",
      "* **Enhancing Security:** Protecting data from fraud and cyberattacks.\n",
      "* **Building Trust:** Providing transparency and accountability.\n",
      "* **Empowering Individuals:** Giving users more control over their data and assets.\n",
      "\n",
      "\n",
      "While still evolving, blockchain technology holds immense promise for creating a more secure, transparent, and efficient future.\n",
      "\n",
      "\n",
      "--------------------------------------------------\n",
      "\n"
     ]
    }
   ],
   "source": [
    "task = \"Explain concisely the concept of blockchain technology\"\n",
    "\n",
    "prompt_template = {\n",
    "    \"Basic\": \"Explain {task}.\",\n",
    "    \"Structured\": \"\"\"Explain {task} by addressing the following points:\n",
    "1. Definition\n",
    "2. Key features\n",
    "3. Real-world applications\n",
    "4. Potential impact on industries\"\"\"\n",
    "}\n",
    "\n",
    "compare_prompts(task, prompt_template)"
   ]
  },
  {
   "cell_type": "code",
   "execution_count": null,
   "id": "a5d7e00f",
   "metadata": {},
   "outputs": [],
   "source": []
  }
 ],
 "metadata": {
  "kernelspec": {
   "display_name": ".venv",
   "language": "python",
   "name": "python3"
  },
  "language_info": {
   "codemirror_mode": {
    "name": "ipython",
    "version": 3
   },
   "file_extension": ".py",
   "mimetype": "text/x-python",
   "name": "python",
   "nbconvert_exporter": "python",
   "pygments_lexer": "ipython3",
   "version": "3.13.3"
  }
 },
 "nbformat": 4,
 "nbformat_minor": 5
}
