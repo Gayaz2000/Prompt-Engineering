{
 "cells": [
  {
   "cell_type": "code",
   "execution_count": 2,
   "id": "f9823591",
   "metadata": {},
   "outputs": [],
   "source": [
    "import os\n",
    "from dotenv import load_dotenv\n",
    "load_dotenv()\n",
    "\n",
    "os.environ[\"GROQ_API_KEY\"] = os.getenv(\"GROQ_API_KEY\")"
   ]
  },
  {
   "cell_type": "code",
   "execution_count": 3,
   "id": "f1d1d101",
   "metadata": {},
   "outputs": [],
   "source": [
    "from langchain_groq import ChatGroq\n",
    "from langchain_ollama import ChatOllama\n",
    "\n",
    "gemma_llm = ChatGroq(model=\"gemma2-9b-it\")\n",
    "ollama_llm = ChatOllama(model=\"llama3.2:1b\")"
   ]
  },
  {
   "cell_type": "code",
   "execution_count": 8,
   "id": "240fd350",
   "metadata": {},
   "outputs": [],
   "source": [
    "from langchain_core.prompts import PromptTemplate\n",
    "\n",
    "def few_shot_sentiment_classification(input_text):\n",
    "    few_shot_prompt = PromptTemplate(\n",
    "        input_variables=[\"input_text\"],\n",
    "        template=\"\"\"\n",
    "        Classify the sentiment as Positive, Negative, or Neutral.\n",
    "        \n",
    "        Examples:\n",
    "        Text: I love this product! It's amazing.\n",
    "        Sentiment: Positive\n",
    "        \n",
    "        Text: This movie was terrible. I hated it.\n",
    "        Sentiment: Negative\n",
    "        \n",
    "        Text: The weather today is okay.\n",
    "        Sentiment: Neutral\n",
    "        \n",
    "        Now, classify the following:\n",
    "        Text: {input_text}\n",
    "        Sentiment:\n",
    "        \"\"\"\n",
    "    )\n",
    "    \n",
    "    chain = few_shot_prompt | ollama_llm\n",
    "    result = chain.invoke(input_text).content\n",
    "    result = result.strip()\n",
    "    if ':' in result:\n",
    "        result = result.split(':')[1].strip()\n",
    "    \n",
    "    return result"
   ]
  },
  {
   "cell_type": "code",
   "execution_count": 9,
   "id": "55b76cb9",
   "metadata": {},
   "outputs": [
    {
     "name": "stdout",
     "output_type": "stream",
     "text": [
      "Input: I can't believe how great this new restaurant is!\n",
      "Predicted Sentiment: To classify the sentiment of the text \"I can't believe how great this new restaurant is!\", I would say that it is Positive.\n",
      "\n",
      "The word \"great\" indicates a strong positive feeling, and the phrase is used to express amazement or enthusiasm. The use of all capital letters for \"can't\" also adds emphasis to the negative aspect, indicating disappointment or surprise rather than actual inability.\n"
     ]
    }
   ],
   "source": [
    "test_text = \"I can't believe how great this new restaurant is!\"\n",
    "result = few_shot_sentiment_classification(test_text)\n",
    "print(f\"Input: {test_text}\")\n",
    "print(f\"Predicted Sentiment: {result}\")"
   ]
  },
  {
   "cell_type": "markdown",
   "id": "b80d82b4",
   "metadata": {},
   "source": [
    "#Advanced Few-Shot Prompting"
   ]
  },
  {
   "cell_type": "code",
   "execution_count": 10,
   "id": "ed32548d",
   "metadata": {},
   "outputs": [],
   "source": [
    "def multi_task_few_shot(input_text, task):\n",
    "    few_shot_prompt = PromptTemplate(\n",
    "        input_variables=[\"input_text\", \"task\"],\n",
    "        template=\"\"\"\n",
    "        Perform the specified task on the given text.\n",
    "        \n",
    "        Examples:\n",
    "        Text: I love this product! It's amazing.\n",
    "        Task: sentiment\n",
    "        Result: Positive\n",
    "        \n",
    "        Text: Bonjour, comment allez-vous?\n",
    "        Task: language\n",
    "        Result: French\n",
    "        \n",
    "        Now, perform the following task:\n",
    "        Text: {input_text}\n",
    "        Task: {task}\n",
    "        Result:\n",
    "        \"\"\"\n",
    "    )\n",
    "    \n",
    "    chain = few_shot_prompt | ollama_llm\n",
    "    return chain.invoke({\"input_text\": input_text, \"task\": task}).content"
   ]
  },
  {
   "cell_type": "code",
   "execution_count": 11,
   "id": "c97057c0",
   "metadata": {},
   "outputs": [
    {
     "name": "stdout",
     "output_type": "stream",
     "text": [
      "To determine the sentiment of the given text \"I can't believe how great this is!\", we need to analyze its emotional tone. Here's the breakdown:\n",
      "\n",
      "1. The word \"can't\" typically indicates a negative emotion, so it adds to the overall negative sentiment.\n",
      "2. The word \"believe\" is often associated with optimism or confidence, which contradicts the negative sentiment caused by the first two words.\n",
      "\n",
      "Given these factors, I would classify the sentiment of this text as Negative.\n",
      "I can perform the tasks on the given text.\n",
      "\n",
      "Text: Guten Tag, wie geht es Ihnen?\n",
      "\n",
      "Task: language\n",
      "Result: German\n"
     ]
    }
   ],
   "source": [
    "print(multi_task_few_shot(\"I can't believe how great this is!\", \"sentiment\"))\n",
    "print(multi_task_few_shot(\"Guten Tag, wie geht es Ihnen?\", \"language\"))"
   ]
  },
  {
   "cell_type": "markdown",
   "id": "3e599268",
   "metadata": {},
   "source": [
    "#In-Content Learning"
   ]
  },
  {
   "cell_type": "code",
   "execution_count": 12,
   "id": "ce00c8da",
   "metadata": {},
   "outputs": [],
   "source": [
    "def in_context_learning(task_description, examples, input_text):\n",
    "    example_text = \"\".join([f\"Input: {e['input']}\\nOutput: {e['output']}\\n\\n\" for e in examples])\n",
    "    \n",
    "    in_context_prompt = PromptTemplate(\n",
    "        input_variables=[\"task_description\", \"examples\", \"input_text\"],\n",
    "        template=\"\"\"\n",
    "        Task: {task_description}\n",
    "        \n",
    "        Examples:\n",
    "        {examples}\n",
    "        \n",
    "        Now, perform the task on the following input:\n",
    "        Input: {input_text}\n",
    "        Output:\n",
    "        \"\"\"\n",
    "    )\n",
    "    \n",
    "    chain = in_context_prompt | ollama_llm\n",
    "    return chain.invoke({\"task_description\": task_description, \"examples\": example_text, \"input_text\": input_text}).content"
   ]
  },
  {
   "cell_type": "code",
   "execution_count": 13,
   "id": "ec8af1b9",
   "metadata": {},
   "outputs": [
    {
     "name": "stdout",
     "output_type": "stream",
     "text": [
      "Input: python\n",
      "Output: To convert the given text into Pig Latin, we will follow these steps:\n",
      "\n",
      "1. Take the first letter of each word as it is.\n",
      "2. Move all other letters to the end of the word.\n",
      "\n",
      "The rules for Pig Latin are as follows:\n",
      "- If a word begins with a vowel (a, e, i, o, u), you simply move all the consonants to the end of the word and add \"way\".\n",
      "- If a word begins with a consonant but ends with a vowel, you move all the consonants to the end of the word and add \"ay\".\n",
      "\n",
      "Now, let's apply these rules on the input \"python\":\n",
      "\n",
      "1. P becomes y (first letter)\n",
      "2. N is not the first letter, so we skip it\n",
      "3. Y is also not the first letter, but it does move to the end: ythonpy\n",
      "\n",
      "So the Pig Latin translation of \"python\" would be \"ythonypay\".\n"
     ]
    }
   ],
   "source": [
    "task_desc = \"Convert the given text to pig latin.\"\n",
    "examples = [\n",
    "    {\"input\": \"hello\", \"output\": \"ellohay\"},\n",
    "    {\"input\": \"apple\", \"output\": \"appleay\"}\n",
    "]\n",
    "test_input = \"python\"\n",
    "\n",
    "result = in_context_learning(task_desc, examples, test_input)\n",
    "print(f\"Input: {test_input}\")\n",
    "print(f\"Output: {result}\")"
   ]
  },
  {
   "cell_type": "markdown",
   "id": "4fcad1eb",
   "metadata": {},
   "source": [
    "#Practice and Evaluation"
   ]
  },
  {
   "cell_type": "code",
   "execution_count": 14,
   "id": "414d9457",
   "metadata": {},
   "outputs": [],
   "source": [
    "def evaluate_model(model_func, test_cases):\n",
    "    '''\n",
    "    Evaluate the model on a set of test cases.\n",
    "\n",
    "    Args:\n",
    "    model_func: The function that makes predictions.\n",
    "    test_cases: A list of dictionaries, where each dictionary contains an \"input\" text and a \"label\" for the input.\n",
    "\n",
    "    Returns:\n",
    "    The accuracy of the model on the test cases. \n",
    "    '''\n",
    "    correct = 0\n",
    "    total = len(test_cases)\n",
    "    \n",
    "    for case in test_cases:\n",
    "        input_text = case['input']\n",
    "        true_label = case['label']\n",
    "        prediction = model_func(input_text).strip()\n",
    "        \n",
    "        is_correct = prediction.lower() == true_label.lower()\n",
    "        correct += int(is_correct)\n",
    "        \n",
    "        print(f\"Input: {input_text}\")\n",
    "        print(f\"Predicted: {prediction}\")\n",
    "        print(f\"Actual: {true_label}\")\n",
    "        print(f\"Correct: {is_correct}\\n\")\n",
    "    \n",
    "    accuracy = correct / total\n",
    "    return accuracy"
   ]
  },
  {
   "cell_type": "code",
   "execution_count": 15,
   "id": "9b0a832b",
   "metadata": {},
   "outputs": [
    {
     "name": "stdout",
     "output_type": "stream",
     "text": [
      "Input: This product exceeded my expectations!\n",
      "Predicted: Sentiment\n",
      "Actual: Positive\n",
      "Correct: False\n",
      "\n",
      "Input: I'm utterly disappointed with the service.\n",
      "Predicted: 1. \"I love this product! It's amazing.\" - Positive\n",
      "\n",
      "2. \"This movie was terrible. I hated it.\" - Negative\n",
      "\n",
      "3. \"The weather today is okay.\" - Neutral\n",
      "\n",
      "4. \"I'm utterly disappointed with the service.\" - Negative\n",
      "\n",
      "Since all four texts express a negative sentiment, I would classify their sentiment as Negative.\n",
      "Actual: Negative\n",
      "Correct: False\n",
      "\n",
      "Input: The temperature today is 72 degrees.\n",
      "Predicted: - Text\n",
      "Actual: Neutral\n",
      "Correct: False\n",
      "\n",
      "Model Accuracy: 0.00\n"
     ]
    }
   ],
   "source": [
    "test_cases = [\n",
    "    {\"input\": \"This product exceeded my expectations!\", \"label\": \"Positive\"},\n",
    "    {\"input\": \"I'm utterly disappointed with the service.\", \"label\": \"Negative\"},\n",
    "    {\"input\": \"The temperature today is 72 degrees.\", \"label\": \"Neutral\"}\n",
    "]\n",
    "\n",
    "accuracy = evaluate_model(few_shot_sentiment_classification, test_cases)\n",
    "print(f\"Model Accuracy: {accuracy:.2f}\")"
   ]
  },
  {
   "cell_type": "code",
   "execution_count": null,
   "id": "8d4984bb",
   "metadata": {},
   "outputs": [],
   "source": []
  }
 ],
 "metadata": {
  "kernelspec": {
   "display_name": ".venv",
   "language": "python",
   "name": "python3"
  },
  "language_info": {
   "codemirror_mode": {
    "name": "ipython",
    "version": 3
   },
   "file_extension": ".py",
   "mimetype": "text/x-python",
   "name": "python",
   "nbconvert_exporter": "python",
   "pygments_lexer": "ipython3",
   "version": "3.13.3"
  }
 },
 "nbformat": 4,
 "nbformat_minor": 5
}
