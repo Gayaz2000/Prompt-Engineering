{
 "cells": [
  {
   "cell_type": "markdown",
   "id": "098ce322",
   "metadata": {},
   "source": [
    "# Negative Prompting"
   ]
  },
  {
   "cell_type": "code",
   "execution_count": 1,
   "id": "67202a4d",
   "metadata": {},
   "outputs": [],
   "source": [
    "import os\n",
    "from dotenv import load_dotenv\n",
    "load_dotenv()\n",
    "\n",
    "os.environ[\"GROQ_API_KEY\"] = os.getenv(\"GROQ_API_KEY\")"
   ]
  },
  {
   "cell_type": "code",
   "execution_count": 2,
   "id": "a4d48b5f",
   "metadata": {},
   "outputs": [],
   "source": [
    "from langchain_groq import ChatGroq\n",
    "\n",
    "llm = ChatGroq(model=\"llama3-8b-8192\")"
   ]
  },
  {
   "cell_type": "code",
   "execution_count": 3,
   "id": "501eb256",
   "metadata": {},
   "outputs": [],
   "source": [
    "async def get_response(prompt):\n",
    "    \"\"\"Helper function to get response from the language model.\"\"\"\n",
    "    return await llm.ainvoke(prompt)"
   ]
  },
  {
   "cell_type": "markdown",
   "id": "826bbc65",
   "metadata": {},
   "source": [
    "#Basic"
   ]
  },
  {
   "cell_type": "code",
   "execution_count": 4,
   "id": "1fe0384c",
   "metadata": {},
   "outputs": [],
   "source": [
    "import nest_asyncio\n",
    "nest_asyncio.apply()\n",
    "import asyncio"
   ]
  },
  {
   "cell_type": "code",
   "execution_count": 7,
   "id": "6647d59d",
   "metadata": {},
   "outputs": [
    {
     "name": "stdout",
     "output_type": "stream",
     "text": [
      "Here is a brief explanation of photosynthesis:\n",
      "\n",
      "Photosynthesis is the process by which plants, algae, and some bacteria make their own food from sunlight. They use energy from the sun, water, and a gas called carbon dioxide to produce a type of sugar that gives them energy. This process also releases oxygen into the air, which is important for animals like us to breathe. In simple terms, photosynthesis is how plants grow and thrive by turning sunlight into a source of energy.\n"
     ]
    }
   ],
   "source": [
    "from langchain_core.prompts import PromptTemplate\n",
    "\n",
    "neg_prompt_template = PromptTemplate(\n",
    "    input_variables=[\"topic\"],\n",
    "    template=\"\"\"\n",
    "    Provide a brief explanation of the topic \"{topic}\".\n",
    "    Do Not include any of the following in your response:\n",
    "    1) Technical jargon or complex terminology\n",
    "    2) Historical background or dates\n",
    "    3) Comparisons with other topics\n",
    "    Your explanation should be concise, clear, and focused solely on the topic at hand.\n",
    "    \"\"\"\n",
    ")\n",
    "response = asyncio.run(get_response(neg_prompt_template.format(topic=\"photosynthesis\")))\n",
    "print(response.content)"
   ]
  },
  {
   "cell_type": "markdown",
   "id": "9e2621e8",
   "metadata": {},
   "source": [
    "#Specifying Exclusions"
   ]
  },
  {
   "cell_type": "code",
   "execution_count": 8,
   "id": "ffab2c27",
   "metadata": {},
   "outputs": [
    {
     "name": "stdout",
     "output_type": "stream",
     "text": [
      "Regular exercise has numerous benefits for both physical and mental well-being. Exercise has been shown to improve overall health by strengthening the heart and lungs, reducing the risk of chronic diseases, and increasing flexibility and mobility. Additionally, exercise has been linked to improved mental health, reducing symptoms of anxiety and depression, and improving sleep quality. Exercise has also been shown to boost cognitive function, improving concentration and memory, and increasing overall sense of energy and vitality. Furthermore, exercise can provide a sense of accomplishment and improved self-esteem, as individuals set and achieve goals and push themselves to new heights.\n"
     ]
    }
   ],
   "source": [
    "exclusion_prompts = PromptTemplate(\n",
    "    input_variables=[\"topic\", \"exclude\"],\n",
    "    template=\"\"\"\n",
    "    Write a short paragraph about \"{topic}\".\n",
    "    Important: DO NOT mention or reference anything related to \"{exclude}\".\n",
    "    \"\"\"\n",
    ")\n",
    "response = asyncio.run(get_response(\n",
    "    exclusion_prompts.format(\n",
    "        topic=\"the benefits of exercise\",\n",
    "        exclude=\"weight loss or body image\"\n",
    "    )\n",
    "))\n",
    "print(response.content)"
   ]
  },
  {
   "cell_type": "markdown",
   "id": "f2f51b46",
   "metadata": {},
   "source": [
    "#Implementing Constraints"
   ]
  },
  {
   "cell_type": "code",
   "execution_count": 9,
   "id": "9edaa61a",
   "metadata": {},
   "outputs": [
    {
     "name": "stdout",
     "output_type": "stream",
     "text": [
      "Artificial intelligence (AI) refers to the development of computer systems that can process and analyze data, make decisions, and take actions without being explicitly programmed. AI systems utilize complex algorithms and statistical models to learn from data, identify patterns, and recognize relationships. These systems can perform tasks such as image recognition, natural language processing, and predictive analytics. AI can be applied in various domains, including healthcare, finance, and transportation, to improve efficiency, accuracy, and decision-making. AI systems can be divided into categories, including machine learning, deep learning, and decision support systems.\n"
     ]
    }
   ],
   "source": [
    "constraint_prompt = PromptTemplate(\n",
    "    input_variables=[\"topic\",\"style\", \"exclude_words\"],\n",
    "    template=\"\"\"\n",
    "    Write a {style} description of topic \"{topic}\".\n",
    "    Constraints:\n",
    "    1. DO NOT include any of the following words: {exclude_words}.\n",
    "    2. Keep the description under 100 words.\n",
    "    3. DO NOT use analogies or metaphores.\n",
    "    4. Focus only on factual information.\n",
    "    \"\"\"\n",
    ")\n",
    "response = asyncio.run(get_response(\n",
    "    constraint_prompt.format(\n",
    "        topic=\"artificial intelligence\",\n",
    "        style=\"technical\",\n",
    "        exclude_words=\"robot, human-like, science fiction\"\n",
    "    )\n",
    "))\n",
    "print(response.content)"
   ]
  },
  {
   "cell_type": "markdown",
   "id": "80b253bf",
   "metadata": {},
   "source": [
    "#Evaluation and refinement"
   ]
  },
  {
   "cell_type": "code",
   "execution_count": 14,
   "id": "81a635ff",
   "metadata": {},
   "outputs": [
    {
     "ename": "AttributeError",
     "evalue": "'AIMessage' object has no attribute 'split'",
     "output_type": "error",
     "traceback": [
      "\u001b[31m---------------------------------------------------------------------------\u001b[39m",
      "\u001b[31mAttributeError\u001b[39m                            Traceback (most recent call last)",
      "\u001b[36mCell\u001b[39m\u001b[36m \u001b[39m\u001b[32mIn[14]\u001b[39m\u001b[32m, line 19\u001b[39m\n\u001b[32m     11\u001b[39m constraints = {\n\u001b[32m     12\u001b[39m     \u001b[33m\"\u001b[39m\u001b[33mword_count\u001b[39m\u001b[33m\"\u001b[39m: \u001b[38;5;28;01mlambda\u001b[39;00m x: \u001b[38;5;28mlen\u001b[39m(x.split()) <= \u001b[32m100\u001b[39m,\n\u001b[32m     13\u001b[39m     \u001b[33m\"\u001b[39m\u001b[33mno_excluded_words\u001b[39m\u001b[33m\"\u001b[39m: \u001b[38;5;28;01mlambda\u001b[39;00m x: \u001b[38;5;28mall\u001b[39m(word \u001b[38;5;129;01mnot\u001b[39;00m \u001b[38;5;129;01min\u001b[39;00m x.lower() \u001b[38;5;28;01mfor\u001b[39;00m word \u001b[38;5;129;01min\u001b[39;00m [\u001b[33m\"\u001b[39m\u001b[33mrobot\u001b[39m\u001b[33m\"\u001b[39m, \u001b[33m\"\u001b[39m\u001b[33mhuman-like\u001b[39m\u001b[33m\"\u001b[39m, \u001b[33m\"\u001b[39m\u001b[33mscience fiction\u001b[39m\u001b[33m\"\u001b[39m]),\n\u001b[32m     14\u001b[39m     \u001b[33m\"\u001b[39m\u001b[33mno_analogies\u001b[39m\u001b[33m\"\u001b[39m: \u001b[38;5;28;01mlambda\u001b[39;00m x: \u001b[38;5;129;01mnot\u001b[39;00m re.search(\u001b[33mr\u001b[39m\u001b[33m\"\u001b[39m\u001b[33m\\\u001b[39m\u001b[33mb(as|like)\u001b[39m\u001b[33m\\\u001b[39m\u001b[33mb\u001b[39m\u001b[33m\"\u001b[39m, x, re.IGNORECASE) \n\u001b[32m     15\u001b[39m \n\u001b[32m     16\u001b[39m }\n\u001b[32m     18\u001b[39m \u001b[38;5;66;03m# Evaluate the previous output\u001b[39;00m\n\u001b[32m---> \u001b[39m\u001b[32m19\u001b[39m evaluation_results = \u001b[43mevaluate_output\u001b[49m\u001b[43m(\u001b[49m\u001b[43mresponse\u001b[49m\u001b[43m,\u001b[49m\u001b[43m \u001b[49m\u001b[43mconstraints\u001b[49m\u001b[43m)\u001b[49m\n\u001b[32m     20\u001b[39m \u001b[38;5;28mprint\u001b[39m(\u001b[33m\"\u001b[39m\u001b[33mEvaluation results:\u001b[39m\u001b[33m\"\u001b[39m, evaluation_results)\n",
      "\u001b[36mCell\u001b[39m\u001b[36m \u001b[39m\u001b[32mIn[14]\u001b[39m\u001b[32m, line 7\u001b[39m, in \u001b[36mevaluate_output\u001b[39m\u001b[34m(output, constraints)\u001b[39m\n\u001b[32m      5\u001b[39m results = {}\n\u001b[32m      6\u001b[39m \u001b[38;5;28;01mfor\u001b[39;00m constraint, check_func \u001b[38;5;129;01min\u001b[39;00m constraints.items():\n\u001b[32m----> \u001b[39m\u001b[32m7\u001b[39m     results[constraint] = \u001b[43mcheck_func\u001b[49m\u001b[43m(\u001b[49m\u001b[43moutput\u001b[49m\u001b[43m)\u001b[49m\n\u001b[32m      8\u001b[39m \u001b[38;5;28;01mreturn\u001b[39;00m results\n",
      "\u001b[36mCell\u001b[39m\u001b[36m \u001b[39m\u001b[32mIn[14]\u001b[39m\u001b[32m, line 12\u001b[39m, in \u001b[36m<lambda>\u001b[39m\u001b[34m(x)\u001b[39m\n\u001b[32m      8\u001b[39m     \u001b[38;5;28;01mreturn\u001b[39;00m results\n\u001b[32m     10\u001b[39m \u001b[38;5;66;03m# Define some example constraints\u001b[39;00m\n\u001b[32m     11\u001b[39m constraints = {\n\u001b[32m---> \u001b[39m\u001b[32m12\u001b[39m     \u001b[33m\"\u001b[39m\u001b[33mword_count\u001b[39m\u001b[33m\"\u001b[39m: \u001b[38;5;28;01mlambda\u001b[39;00m x: \u001b[38;5;28mlen\u001b[39m(\u001b[43mx\u001b[49m\u001b[43m.\u001b[49m\u001b[43msplit\u001b[49m()) <= \u001b[32m100\u001b[39m,\n\u001b[32m     13\u001b[39m     \u001b[33m\"\u001b[39m\u001b[33mno_excluded_words\u001b[39m\u001b[33m\"\u001b[39m: \u001b[38;5;28;01mlambda\u001b[39;00m x: \u001b[38;5;28mall\u001b[39m(word \u001b[38;5;129;01mnot\u001b[39;00m \u001b[38;5;129;01min\u001b[39;00m x.lower() \u001b[38;5;28;01mfor\u001b[39;00m word \u001b[38;5;129;01min\u001b[39;00m [\u001b[33m\"\u001b[39m\u001b[33mrobot\u001b[39m\u001b[33m\"\u001b[39m, \u001b[33m\"\u001b[39m\u001b[33mhuman-like\u001b[39m\u001b[33m\"\u001b[39m, \u001b[33m\"\u001b[39m\u001b[33mscience fiction\u001b[39m\u001b[33m\"\u001b[39m]),\n\u001b[32m     14\u001b[39m     \u001b[33m\"\u001b[39m\u001b[33mno_analogies\u001b[39m\u001b[33m\"\u001b[39m: \u001b[38;5;28;01mlambda\u001b[39;00m x: \u001b[38;5;129;01mnot\u001b[39;00m re.search(\u001b[33mr\u001b[39m\u001b[33m\"\u001b[39m\u001b[33m\\\u001b[39m\u001b[33mb(as|like)\u001b[39m\u001b[33m\\\u001b[39m\u001b[33mb\u001b[39m\u001b[33m\"\u001b[39m, x, re.IGNORECASE) \n\u001b[32m     15\u001b[39m \n\u001b[32m     16\u001b[39m }\n\u001b[32m     18\u001b[39m \u001b[38;5;66;03m# Evaluate the previous output\u001b[39;00m\n\u001b[32m     19\u001b[39m evaluation_results = evaluate_output(response, constraints)\n",
      "\u001b[36mFile \u001b[39m\u001b[32md:\\My Files\\Prompt-Engineering\\.venv\\Lib\\site-packages\\pydantic\\main.py:991\u001b[39m, in \u001b[36mBaseModel.__getattr__\u001b[39m\u001b[34m(self, item)\u001b[39m\n\u001b[32m    988\u001b[39m     \u001b[38;5;28;01mreturn\u001b[39;00m \u001b[38;5;28msuper\u001b[39m().\u001b[34m__getattribute__\u001b[39m(item)  \u001b[38;5;66;03m# Raises AttributeError if appropriate\u001b[39;00m\n\u001b[32m    989\u001b[39m \u001b[38;5;28;01melse\u001b[39;00m:\n\u001b[32m    990\u001b[39m     \u001b[38;5;66;03m# this is the current error\u001b[39;00m\n\u001b[32m--> \u001b[39m\u001b[32m991\u001b[39m     \u001b[38;5;28;01mraise\u001b[39;00m \u001b[38;5;167;01mAttributeError\u001b[39;00m(\u001b[33mf\u001b[39m\u001b[33m'\u001b[39m\u001b[38;5;132;01m{\u001b[39;00m\u001b[38;5;28mtype\u001b[39m(\u001b[38;5;28mself\u001b[39m).\u001b[34m__name__\u001b[39m\u001b[38;5;132;01m!r}\u001b[39;00m\u001b[33m object has no attribute \u001b[39m\u001b[38;5;132;01m{\u001b[39;00mitem\u001b[38;5;132;01m!r}\u001b[39;00m\u001b[33m'\u001b[39m)\n",
      "\u001b[31mAttributeError\u001b[39m: 'AIMessage' object has no attribute 'split'"
     ]
    }
   ],
   "source": [
    "import re\n",
    "\n",
    "def evaluate_output(output, constraints):\n",
    "    \"\"\"Evaluate if the output meets the given constraints.\"\"\"\n",
    "    results = {}\n",
    "    for constraint, check_func in constraints.items():\n",
    "        results[constraint] = check_func(output)\n",
    "    return results\n",
    "\n",
    "# Define some example constraints\n",
    "constraints = {\n",
    "    \"word_count\": lambda x: len(x.split()) <= 100,\n",
    "    \"no_excluded_words\": lambda x: all(word not in x.lower() for word in [\"robot\", \"human-like\", \"science fiction\"]),\n",
    "    \"no_analogies\": lambda x: not re.search(r\"\\b(as|like)\\b\", x, re.IGNORECASE) \n",
    "\n",
    "}\n",
    "\n",
    "# Evaluate the previous output\n",
    "evaluation_results = evaluate_output(response, constraints)\n",
    "print(\"Evaluation results:\", evaluation_results)"
   ]
  },
  {
   "cell_type": "code",
   "execution_count": null,
   "id": "0578e152",
   "metadata": {},
   "outputs": [],
   "source": [
    "if not all(evaluation_results.values()):\n",
    "    refined_prompt = constraint_prompt.format(\n",
    "        topic=\"artificial intelligence\",\n",
    "        style=\"technical and concise\",  # Added 'concise' to address word count\n",
    "        excluded_words=\"robot, human-like, science fiction, like, as\"  # Added 'like' and 'as' to avoid analogies\n",
    "    )\n",
    "    refined_response = get_response(refined_prompt)\n",
    "    print(\"\\nRefined response:\\n\", refined_response)\n",
    "    \n",
    "    # Evaluate the refined output\n",
    "    refined_evaluation = evaluate_output(refined_response, constraints)\n",
    "    print(\"\\nRefined evaluation results:\", refined_evaluation)"
   ]
  }
 ],
 "metadata": {
  "kernelspec": {
   "display_name": ".venv",
   "language": "python",
   "name": "python3"
  },
  "language_info": {
   "codemirror_mode": {
    "name": "ipython",
    "version": 3
   },
   "file_extension": ".py",
   "mimetype": "text/x-python",
   "name": "python",
   "nbconvert_exporter": "python",
   "pygments_lexer": "ipython3",
   "version": "3.13.3"
  }
 },
 "nbformat": 4,
 "nbformat_minor": 5
}
