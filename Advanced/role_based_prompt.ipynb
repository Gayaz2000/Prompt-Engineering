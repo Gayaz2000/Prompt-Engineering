{
 "cells": [
  {
   "cell_type": "markdown",
   "id": "775d38fc",
   "metadata": {},
   "source": [
    "# Role-Based Prompt"
   ]
  },
  {
   "cell_type": "code",
   "execution_count": 1,
   "id": "ba01bae9",
   "metadata": {},
   "outputs": [],
   "source": [
    "import os\n",
    "from dotenv import load_dotenv\n",
    "load_dotenv()\n",
    "\n",
    "os.environ[\"GROQ_API_KEY\"] = os.getenv(\"GROQ_API_KEY\")"
   ]
  },
  {
   "cell_type": "code",
   "execution_count": 2,
   "id": "fd41636e",
   "metadata": {},
   "outputs": [],
   "source": [
    "from langchain_groq import ChatGroq\n",
    "\n",
    "llm = ChatGroq(model=\"llama3-8b-8192\")"
   ]
  },
  {
   "cell_type": "markdown",
   "id": "1f5546f0",
   "metadata": {},
   "source": [
    "#Basic"
   ]
  },
  {
   "cell_type": "code",
   "execution_count": 3,
   "id": "0d0ec8f4",
   "metadata": {},
   "outputs": [
    {
     "name": "stdout",
     "output_type": "stream",
     "text": [
      "Here is a brief explanation of cloud computing that is easy to understand:\n",
      "\n",
      "\"Cloud computing is a way to store and access your digital files, software, and applications over the internet, rather than on your own computer or server. This means you can access your information from anywhere, on any device with an internet connection, and without worrying about running out of storage space. By using the cloud, you can easily share files and collaborate with others, and your data is safely backed up and protected.\"\n"
     ]
    }
   ],
   "source": [
    "from langchain_core.prompts import PromptTemplate\n",
    "\n",
    "tech_writer_prompt = PromptTemplate(\n",
    "    input_variables=[\"topic\"],\n",
    "    template=\"\"\"\n",
    "        You are technical writer specializing in creating clear and concise documents for software products.\n",
    "        Your task is to write brief explanation on {topic} for a user manual.\n",
    "        Please provide a 2 to 3 sentences explanation that is easy for non-technical people to understand.\n",
    "    \"\"\"\n",
    ")\n",
    "\n",
    "chain = tech_writer_prompt | llm\n",
    "response = chain.invoke({\"topic\": \"cloud computing\"})\n",
    "print(response.content)"
   ]
  },
  {
   "cell_type": "markdown",
   "id": "984a7135",
   "metadata": {},
   "source": [
    "#Intermediate"
   ]
  },
  {
   "cell_type": "code",
   "execution_count": 4,
   "id": "c5b44340",
   "metadata": {},
   "outputs": [
    {
     "name": "stdout",
     "output_type": "stream",
     "text": [
      "Based on this client's situation, I would recommend that they prioritize building an emergency fund to cover 3-6 months of living expenses, utilizing their existing savings. Additionally, they should take advantage of their employer-matched retirement plan, such as a 401(k) or 403(b), and contribute at least enough to maximize the match. This will provide a solid foundation for long-term financial growth and stability.\n"
     ]
    }
   ],
   "source": [
    "financial_advisor_prompt = PromptTemplate(\n",
    "    input_variables=[\"client_situation\"],\n",
    "    template=\"\"\"You are a seasoned financial advisor with over 20 years of experience in personal finance, investment strategies, and retirement planning.\n",
    "    You have a track record of helping clients from diverse backgrounds achieve their financial goals.\n",
    "    Your approach is characterized by:\n",
    "    1. Thorough analysis of each client's unique financial situation\n",
    "    2. Clear and jargon-free communication of complex financial concepts\n",
    "    3. Ethical considerations in all recommendations\n",
    "    4. A focus on long-term financial health and stability\n",
    "\n",
    "    Given the following client situation, provide a brief (3-4 sentences) financial advice:\n",
    "    {client_situation}\n",
    "\n",
    "    Your response should reflect your expertise and adhere to your characteristic approach.\"\"\"\n",
    ")\n",
    "\n",
    "chain = financial_advisor_prompt | llm\n",
    "response = chain.invoke({\"client_situation\": \"A 25-year-old professional earning $30,000 annually, with $10,000 in savings, no debt, and no retirement plan.\"})\n",
    "print(response.content)"
   ]
  },
  {
   "cell_type": "markdown",
   "id": "13ee90c1",
   "metadata": {},
   "source": [
    "#Comparing with differnet roles"
   ]
  },
  {
   "cell_type": "code",
   "execution_count": 5,
   "id": "0b2afc8c",
   "metadata": {},
   "outputs": [
    {
     "name": "stdout",
     "output_type": "stream",
     "text": [
      "\n",
      "Scientist's explanation:\n",
      "\n",
      "As a research scientist specializing in climate change, I'm delighted to explain the concept of the Greenhouse Effect in scientific terms.\n",
      "\n",
      "The Greenhouse Effect is a natural process that occurs in the Earth's atmosphere, where certain gases, such as carbon dioxide (CO2), methane (CH4), and water vapor (H2O), trap heat from the sun, retaining it in the atmosphere and warming the planet. This process is essential for life on Earth, as it allows the planet to maintain a habitable temperature range.\n",
      "\n",
      "Here's a breakdown of the scientific mechanisms underlying the Greenhouse Effect:\n",
      "\n",
      "1. **Solar Radiation**: The sun emits solar radiation, which includes visible light and infrared (IR) radiation. The Earth's atmosphere absorbs a significant portion of this radiation, with the majority being reflected back into space by the atmosphere and the surface.\n",
      "2. **Greenhouse Gases**: Certain gases, such as CO2, CH4, and H2O, are present in the atmosphere. These gases have the ability to absorb and re-emit IR radiation, which is emitted by the Earth's surface and atmosphere.\n",
      "3. **Infrared Absorption**: When IR radiation is emitted by the Earth's surface and atmosphere, it is absorbed by the greenhouse gases. These gases then re-emit the absorbed IR radiation in all directions, including back towards the surface.\n",
      "4. **Radiative Forcing**: The absorbed IR radiation is re-emitted, causing an increase in the temperature of the atmosphere and the surface. This increase in temperature is known as radiative forcing. The strength of the Greenhouse Effect depends on the concentration of greenhouse gases in the atmosphere.\n",
      "5. **Feedback Loops**: Feedback loops are critical components of the Greenhouse Effect. Feedback loops occur when the increased temperature caused by radiative forcing triggers additional warming or cooling processes. For example, as the Earth warms, the atmosphere can hold more water vapor, which is a potent greenhouse gas, leading to further warming.\n",
      "\n",
      "The Greenhouse Effect is responsible for maintaining the Earth's average temperature at around 15°C (59°F). Without this effect, the Earth's average temperature would be around -18°C (-0.4°F), making it inhospitable for life as we know it.\n",
      "\n",
      "**Anthropogenic Influence**: Human activities, such as burning fossil fuels, deforestation, and land-use changes, have increased the concentration of greenhouse gases in the atmosphere, leading to an enhancement of the Greenhouse Effect. This enhancement is known as global warming, and it is the primary cause of climate change.\n",
      "\n",
      "In summary, the Greenhouse Effect is a natural process that maintains the Earth's temperature by trapping heat from the sun. The increased concentration of greenhouse gases in the atmosphere, primarily due to human activities, has amplified this effect, leading to global warming and climate change.\n",
      "--------------------------------------------------\n",
      "\n",
      "Teacher's explanation:\n",
      "\n",
      "Hi there!\n",
      "\n",
      "So, you know how sometimes it gets really hot outside during the summer, and you feel like you're walking into a warm hug when you step outside? That's because of something called the Greenhouse Effect.\n",
      "\n",
      "The Earth's atmosphere is like a big blanket that surrounds our planet. And just like a blanket keeps you warm on a cold night, the atmosphere traps some of the sun's heat and keeps it from escaping into space.\n",
      "\n",
      "Here's how it works:\n",
      "\n",
      "1. The sun shines its rays onto the Earth, warming it up.\n",
      "2. The Earth absorbs some of that heat and gets warmer.\n",
      "3. The atmosphere, which is made up of different gases like nitrogen, oxygen, and carbon dioxide, traps some of that heat.\n",
      "4. The trapped heat stays close to the Earth's surface, making it warmer than it would be if the atmosphere wasn't there.\n",
      "\n",
      "This process is called the Greenhouse Effect. It's like a big blanket that keeps the Earth warm and cozy, just like your favorite blanket keeps you warm and cozy!\n",
      "\n",
      "Now, you might be wondering, \"Wait, isn't that a good thing? Why is it a problem?\" Well, the problem is that human activities, like burning fossil fuels and cutting down trees, have been releasing more greenhouse gases into the atmosphere. This is making the Greenhouse Effect stronger and causing the Earth to get warmer than it should.\n",
      "\n",
      "This can lead to some really big problems, like:\n",
      "\n",
      "* Rising sea levels and more frequent flooding\n",
      "* More frequent and intense heatwaves and droughts\n",
      "* Changes in weather patterns and more extreme storms\n",
      "\n",
      "So, what can we do to help? Well, we can all play a role in reducing our carbon footprint and slowing down climate change. Here are some easy ways to get started:\n",
      "\n",
      "* Turn off lights and electronics when not in use to save energy\n",
      "* Use public transportation, walk, or bike instead of driving\n",
      "* Reduce, reuse, recycle to reduce waste\n",
      "* Eat a plant-based diet to reduce greenhouse gas emissions from agriculture\n",
      "\n",
      "Remember, every small action counts, and together we can make a big difference!\n",
      "\n",
      "Hope that helps you understand the Greenhouse Effect better! Do you have any questions?\n",
      "--------------------------------------------------\n",
      "\n",
      "Journalist's explanation:\n",
      "\n",
      "**The Greenhouse Effect: A Fiery Conundrum**\n",
      "\n",
      "Imagine you're on a tropical island, surrounded by lush greenery, with the warm sun beating down on your skin. The air is thick with the sweet scent of blooming flowers, and the sound of birds chirping fills the air. It's a paradise, isn't it?\n",
      "\n",
      "Well, this idyllic scene is exactly what's happening on our planet, but with a twist. The \"greenhouse\" effect, not the island!\n",
      "\n",
      "**What's a Greenhouse, Anyway?**\n",
      "\n",
      "You know those cozy, glass-enclosed gardens where plants thrive? They're called greenhouses, and they work by trapping warm air inside. The glass walls and roof allow sunlight to enter, but prevent the heat from escaping. This creates a warm, cozy environment that's perfect for plants to grow.\n",
      "\n",
      "**The Earth's Natural Greenhouse**\n",
      "\n",
      "Now, imagine the Earth as a giant greenhouse. The atmosphere acts as the glass walls and roof, trapping heat from the sun. This natural process is known as the greenhouse effect.\n",
      "\n",
      "Here's how it works:\n",
      "\n",
      "1. **Sunlight enters**: The sun's rays pass through the atmosphere and warm the Earth's surface.\n",
      "2. **Heat is trapped**: The warm air, rich in carbon dioxide, water vapor, and other gases, stays close to the ground, preventing the heat from escaping into space.\n",
      "3. **Heat gets trapped**: The greenhouse gases, like carbon dioxide and methane, absorb and re-emit the heat, keeping the planet warm.\n",
      "\n",
      "**The Problem: An Overheated Planet**\n",
      "\n",
      "So, what's the issue? Well, human activities have increased the concentration of greenhouse gases in the atmosphere, amplifying the natural greenhouse effect. This is known as global warming.\n",
      "\n",
      "Think of it like a thermostat in your home. When you set it to 22°C, you expect the room to stay at that temperature. But if you keep turning up the heat, the room will become too hot and uncomfortable. That's what's happening with our planet.\n",
      "\n",
      "**Consequences of Global Warming**\n",
      "\n",
      "Rising temperatures lead to:\n",
      "\n",
      "* Melting glaciers and sea-level rise\n",
      "* Changes in weather patterns, like more extreme heatwaves and storms\n",
      "* Disruption to ecosystems and biodiversity\n",
      "* Impacts on human health, agriculture, and economies\n",
      "\n",
      "**What Can We Do?**\n",
      "\n",
      "Don't worry, there's hope! We can reduce our carbon footprint by:\n",
      "\n",
      "* Using renewable energy sources, like solar and wind power\n",
      "* Increasing energy efficiency in our homes and industries\n",
      "* Electrifying our transportation systems\n",
      "* Protecting and reforestation efforts\n",
      "\n",
      "**The Greenhouse Effect: A Challenge and an Opportunity**\n",
      "\n",
      "The greenhouse effect is a natural process that's essential for life on Earth. But, human activities have disrupted this balance. By understanding the science behind global warming, we can work together to mitigate its effects and create a more sustainable future.\n",
      "\n",
      "So, next time you're on that tropical island, remember that the \"greenhouse\" effect is not just a cozy concept, but a pressing issue that requires our attention and action.\n",
      "--------------------------------------------------\n"
     ]
    }
   ],
   "source": [
    "roles = [\n",
    "    (\"Scientist\",\"You are a reasearch scientist specializing in climate change. Explain the following concept in scientific terms\"),\n",
    "    (\"Teacher\",\"You are middle school science teacher.Explain the following concept in simple terms suitable for 12 years old student\"),\n",
    "    (\"Journalist\",\"You are a journalist writing for a popular science magazine. Explain the following concept in engaing and interactive manner for a general adult audience:\")\n",
    "]\n",
    "\n",
    "topic = \"Green House Effect\"\n",
    "\n",
    "for role, description in roles:\n",
    "    role_prompt = PromptTemplate(\n",
    "        input_variables=[\"topic\"],\n",
    "        template=f\"{description} {{topic}}\"\n",
    "    )\n",
    "\n",
    "    chain = role_prompt | llm\n",
    "    response = chain.invoke({\"topic\": topic})\n",
    "    print(f\"\\n{role}'s explanation:\\n\")\n",
    "    print(response.content)\n",
    "    print(\"-\" * 50)"
   ]
  },
  {
   "cell_type": "markdown",
   "id": "19eddb13",
   "metadata": {},
   "source": [
    "#Refined"
   ]
  },
  {
   "cell_type": "code",
   "execution_count": 6,
   "id": "4801a837",
   "metadata": {},
   "outputs": [
    {
     "name": "stdout",
     "output_type": "stream",
     "text": [
      "\n",
      "Gothic horror version:\n",
      "\n",
      "As I pushed open the creaking door, a chill coursed through my veins like a cold, dark river. The twilight air clung to me like a damp shroud, heavy with the scent of decay and forgotten memories. The empty house loomed before me, its windows like empty eyes staring back, their once-bright panes now dulled by the patina of years. The silence was oppressive, a palpable thing that seemed to weigh upon my chest, making it hard to breathe, as if the very spirits of the dead were gathering to greet me, their whispers a mournful sigh that rustled through the shadows.\n",
      "--------------------------------------------------\n",
      "\n",
      "Minimalist realism version:\n",
      "\n",
      "The door creaked open, casting a faint glow on the empty hallway. The person stepped inside, their shoes echoing off the walls. The air was stale, heavy with the scent of disuse.\n",
      "--------------------------------------------------\n"
     ]
    }
   ],
   "source": [
    "story_teller_prompt = PromptTemplate(\n",
    "    input_variables=[\"style\", \"scenario\"],\n",
    "    template=\"\"\"\n",
    "        You are a master storyteller known for your ability to adapt to various narrative styles.\n",
    "        Your current task is to write in the style of {style}.\n",
    "        Key characteristics of this style include:\n",
    "        1. {style_char1}\n",
    "        2. {style_char2}\n",
    "        3. {style_char3}\n",
    "        Write a short paragraph (3-4 sentences) in this style about the following scenario:\n",
    "        {scenario}\n",
    "        Ensure your writing clearly reflects the specified style.\n",
    "    \"\"\"\n",
    ")\n",
    "\n",
    "styles = [\n",
    "    {\n",
    "        \"name\": \"Gothic horror\",\n",
    "        \"char1\": \"Atmospheric and ominous descriptions\",\n",
    "        \"char2\": \"Themes of decay, death, and the supernatural\",\n",
    "        \"char3\": \"Heightened emotions and sense of dread\"\n",
    "    },\n",
    "    {\n",
    "        \"name\": \"Minimalist realism\",\n",
    "        \"char1\": \"Sparse, concise language\",\n",
    "        \"char2\": \"Focus on everyday, ordinary events\",\n",
    "        \"char3\": \"Subtle implications rather than explicit statements\"\n",
    "    }\n",
    "]\n",
    "\n",
    "scenario = \"A person enters an empty house at twilight\"\n",
    "\n",
    "for style in styles:\n",
    "    chain = story_teller_prompt | llm\n",
    "    response = chain.invoke({\n",
    "        \"style\": style[\"name\"],\n",
    "        \"style_char1\": style[\"char1\"],\n",
    "        \"style_char2\": style[\"char2\"],\n",
    "        \"style_char3\": style[\"char3\"],\n",
    "        \"scenario\": scenario\n",
    "    })\n",
    "    print(f\"\\n{style['name']} version:\\n\")\n",
    "    print(response.content)\n",
    "    print(\"-\" * 50)"
   ]
  },
  {
   "cell_type": "code",
   "execution_count": null,
   "id": "88a182b3",
   "metadata": {},
   "outputs": [],
   "source": []
  }
 ],
 "metadata": {
  "kernelspec": {
   "display_name": ".venv",
   "language": "python",
   "name": "python3"
  },
  "language_info": {
   "codemirror_mode": {
    "name": "ipython",
    "version": 3
   },
   "file_extension": ".py",
   "mimetype": "text/x-python",
   "name": "python",
   "nbconvert_exporter": "python",
   "pygments_lexer": "ipython3",
   "version": "3.13.3"
  }
 },
 "nbformat": 4,
 "nbformat_minor": 5
}
