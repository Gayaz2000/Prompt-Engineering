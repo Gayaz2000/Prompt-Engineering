{
 "cells": [
  {
   "cell_type": "markdown",
   "id": "bf6edf88",
   "metadata": {},
   "source": [
    "# Constrained and Guided Output Generation"
   ]
  },
  {
   "cell_type": "code",
   "execution_count": 1,
   "id": "a67fe6b5",
   "metadata": {},
   "outputs": [],
   "source": [
    "import os\n",
    "from dotenv import load_dotenv\n",
    "load_dotenv()\n",
    "\n",
    "os.environ[\"GROQ_API_KEY\"] = os.getenv(\"GROQ_API_KEY\")"
   ]
  },
  {
   "cell_type": "code",
   "execution_count": 2,
   "id": "d0dc1236",
   "metadata": {},
   "outputs": [],
   "source": [
    "from langchain_groq import ChatGroq\n",
    "\n",
    "llm = ChatGroq(model=\"llama3-8b-8192\")"
   ]
  },
  {
   "cell_type": "markdown",
   "id": "2e4117da",
   "metadata": {},
   "source": [
    "#Helper Function"
   ]
  },
  {
   "cell_type": "code",
   "execution_count": 10,
   "id": "17f24333",
   "metadata": {},
   "outputs": [],
   "source": [
    "def display_output(output):\n",
    "    \"\"\"Displays the genrated output\"\"\"\n",
    "    print(\"Model Output:\")\n",
    "    print(\"-\" * 40)\n",
    "    print(output)\n",
    "    print(\"-\" * 40)\n",
    "    print()"
   ]
  },
  {
   "cell_type": "markdown",
   "id": "8df3d0f4",
   "metadata": {},
   "source": [
    "#Setting up Constraints"
   ]
  },
  {
   "cell_type": "code",
   "execution_count": 11,
   "id": "289d58fa",
   "metadata": {},
   "outputs": [
    {
     "name": "stdout",
     "output_type": "stream",
     "text": [
      "Model Output:\n",
      "----------------------------------------\n",
      "**Hydrate Like a Pro: Your New BFF**\n",
      "\n",
      "Stay on top of your hydration game with our smart water bottle! Here's what sets us apart:\n",
      "\n",
      "Track your water intake and set goals to stay on track\n",
      "Monitor your temperature and get reminders to drink up\n",
      "Sync with your phone to track your progress and earn rewards\n",
      "\n",
      "Ready to level up your hydration game? Get your smart water bottle now and start sipping your way to a healthier you!\n",
      "----------------------------------------\n",
      "\n"
     ]
    }
   ],
   "source": [
    "from langchain_core.prompts import PromptTemplate\n",
    "\n",
    "constrained_prompt = PromptTemplate(\n",
    "    input_variables=[\"product\", \"target_audience\", \"tone\", \"word_limit\"],\n",
    "    template=\"\"\"Create a product description for {product} targeted at {target_audience}.\n",
    "    Use a {tone} tone and keep it under {word_limit} words.\n",
    "    The description should include:\n",
    "    1. A catchy headline\n",
    "    2. Three key features\n",
    "    3. A call to action\n",
    "    \n",
    "    Product Description:\n",
    "    \"\"\"\n",
    ")\n",
    "input_variables = {\n",
    "    \"product\": \"smart water bottle\",\n",
    "    \"target_audience\": \"health-conscious millennials\",\n",
    "    \"tone\": \"casual and friendly\",\n",
    "    \"word_limit\": \"75\"\n",
    "}\n",
    "\n",
    "chain = constrained_prompt | llm\n",
    "output = chain.invoke(input_variables).content\n",
    "display_output(output)"
   ]
  },
  {
   "cell_type": "markdown",
   "id": "18694e67",
   "metadata": {},
   "source": [
    "#Implementing rule based generation"
   ]
  },
  {
   "cell_type": "code",
   "execution_count": 12,
   "id": "3be3d574",
   "metadata": {},
   "outputs": [
    {
     "name": "stdout",
     "output_type": "stream",
     "text": [
      "Model Output:\n",
      "----------------------------------------\n",
      "Here is the job posting for a GenAI Engineer position at TechInnovate Solutions in Bangalore, India:\n",
      "\n",
      "COMPANY: TechInnovate Solutions is a cutting-edge technology firm that specializes in developing innovative artificial intelligence solutions for various industries. We strive to stay at the forefront of AI research and development, pushing the boundaries of what is possible with machine learning and deep learning technologies.\n",
      "\n",
      "RESPONSIBILITIES:\n",
      "- Design and develop cutting-edge GenAI models that drive business value for our clients\n",
      "- Collaborate with cross-functional teams to identify and prioritize AI opportunities that align with business goals\n",
      "- Develop and maintain high-quality, scalable, and reusable AI components and frameworks\n",
      "- Conduct experiments and analyze results to improve model performance and accuracy\n",
      "- Stay up-to-date with the latest advancements in AI research and apply this knowledge to drive innovation at TechInnovate Solutions\n",
      "\n",
      "QUALIFICATIONS:\n",
      "- 3+ years of experience in developing and deploying GenAI models, preferably in a research or development role\n",
      "- Strong foundation in machine learning, deep learning, and neural networks\n",
      "- Proficiency in programming languages such as Python, Java, or C++\n",
      "- Experience with popular AI frameworks such as TensorFlow, PyTorch, or Keras\n",
      "- Master's or Ph.D. degree in Computer Science, Electrical Engineering, or a related field\n",
      "\n",
      "EEO: TechInnovate Solutions is an equal opportunity employer and welcomes applications from diverse candidates. We are committed to providing a fair and inclusive hiring process and do not discriminate based on race, color, religion, gender, national origin, age, disability, or veteran status.\n",
      "----------------------------------------\n",
      "\n"
     ]
    }
   ],
   "source": [
    "job_posting_prompt = PromptTemplate(\n",
    "    input_variables=[\"job_title\", \"company\", \"location\", \"experience\"],\n",
    "    template=\"\"\"Create a job posting for a {job_title} position at {company} in {location}.\n",
    "    The candidate should have {experience} years of experience.\n",
    "    Follow these rules:\n",
    "    1. Start with a brief company description (2 sentences)\n",
    "    2. List 5 key responsibilities, each starting with an action verb\n",
    "    3. List 5 required qualifications, each in a single sentence\n",
    "    4. End with a standardized equal opportunity statement\n",
    "    \n",
    "    Format the output as follows:\n",
    "    COMPANY: [Company Description]\n",
    "    \n",
    "    RESPONSIBILITIES:\n",
    "    - [Responsibility 1]\n",
    "    - [Responsibility 2]\n",
    "    - [Responsibility 3]\n",
    "    - [Responsibility 4]\n",
    "    - [Responsibility 5]\n",
    "    \n",
    "    QUALIFICATIONS:\n",
    "    - [Qualification 1]\n",
    "    - [Qualification 2]\n",
    "    - [Qualification 3]\n",
    "    - [Qualification 4]\n",
    "    - [Qualification 5]\n",
    "    \n",
    "    EEO: [Equal Opportunity Statement]\n",
    "    \"\"\"\n",
    ")\n",
    "\n",
    "input_variables = {\n",
    "    \"job_title\": \"GenAI Engineer\",\n",
    "    \"company\": \"TechInnovate Solutions\",\n",
    "    \"location\": \"Banglore, India\",\n",
    "    \"experience\": \"3+\"\n",
    "}\n",
    "\n",
    "chain = job_posting_prompt | llm\n",
    "output = chain.invoke(input_variables).content\n",
    "display_output(output)"
   ]
  },
  {
   "cell_type": "code",
   "execution_count": 14,
   "id": "4355a985",
   "metadata": {},
   "outputs": [
    {
     "name": "stdout",
     "output_type": "stream",
     "text": [
      "Parsed Output:\n",
      "COMPANY_DESCRIPTION:\n",
      "TechInnovate Solutions is a cutting-edge technology company that specializes in developing innovative AI-powered solutions for various industries. We are committed to pushing the boundaries of artificial intelligence and machine learning to create a better future.\n",
      "\n",
      "RESPONSIBILITIES:\n",
      "- Design and develop advanced AI models and algorithms for various applications\n",
      "- Collaborate with cross-functional teams to integrate AI solutions with existing systems\n",
      "- Develop and maintain high-quality AI-powered software applications\n",
      "- Conduct data analysis and visualization to identify trends and patterns\n",
      "- Stay up-to-date with the latest advancements in AI and machine learning and apply this knowledge to improve our solutions\n",
      "\n",
      "QUALIFICATIONS:\n",
      "- 3+ years of experience in AI engineering or a related field\n",
      "- Master's or Ph.D. degree in Computer Science, Artificial Intelligence, or a related field\n",
      "- Strong programming skills in languages such as Python, Java, or C++\n",
      "- Experience with AI frameworks such as TensorFlow, PyTorch, or OpenCV\n",
      "- Excellent analytical and problem-solving skills\n",
      "\n",
      "EEO_STATEMENT:\n",
      "TechInnovate Solutions is an equal opportunity employer and welcomes applications from diverse candidates. We are committed to creating a workplace that is inclusive, respectful, and free from discrimination.\n",
      "\n"
     ]
    }
   ],
   "source": [
    "from langchain.output_parsers import RegexParser\n",
    "import re\n",
    "\n",
    "# Define a regex parser for structured output\n",
    "regex_parser = RegexParser(\n",
    "    regex=r\"COMPANY:\\s*([\\s\\S]*?)\\n\\s*RESPONSIBILITIES:\\s*([\\s\\S]*?)\\n\\s*QUALIFICATIONS:\\s*([\\s\\S]*?)\\n\\s*EEO:\\s*([\\s\\S]*)\",\n",
    "    output_keys=[\"company_description\", \"responsibilities\", \"qualifications\", \"eeo_statement\"]\n",
    ")\n",
    "# This regex pattern captures the company description, responsibilities, qualifications, and EEO statement from the output text.\n",
    "\n",
    "# Create a new prompt template that includes the parser instructions\n",
    "parsed_job_posting_prompt = PromptTemplate(\n",
    "    input_variables=[\"job_title\", \"company\", \"location\", \"experience\"],\n",
    "    template=\"\"\"Create a job posting for a {job_title} position at {company} in {location}.\n",
    "    The candidate should have {experience} years of experience.\n",
    "    Follow these rules:\n",
    "    1. Start with a brief company description (2 sentences)\n",
    "    2. List 5 key responsibilities, each starting with an action verb\n",
    "    3. List 5 required qualifications, each in a single sentence\n",
    "    4. End with a standardized equal opportunity statement\n",
    "    \n",
    "    Format the output EXACTLY as follows:\n",
    "    COMPANY: [Company Description]\n",
    "    \n",
    "    RESPONSIBILITIES:\n",
    "    - [Responsibility 1]\n",
    "    - [Responsibility 2]\n",
    "    - [Responsibility 3]\n",
    "    - [Responsibility 4]\n",
    "    - [Responsibility 5]\n",
    "    \n",
    "    QUALIFICATIONS:\n",
    "    - [Qualification 1]\n",
    "    - [Qualification 2]\n",
    "    - [Qualification 3]\n",
    "    - [Qualification 4]\n",
    "    - [Qualification 5]\n",
    "    \n",
    "    EEO: [Equal Opportunity Statement]\n",
    "    \"\"\"\n",
    ")\n",
    "\n",
    "def clean_output(output):\n",
    "    for key, value in output.items():\n",
    "        if isinstance(value, str):\n",
    "            # Remove leading/trailing whitespace and normalize newlines\n",
    "            output[key] = re.sub(r'\\n\\s*', '\\n', value.strip())\n",
    "    return output\n",
    "\n",
    "# Generate the parsed output\n",
    "chain = parsed_job_posting_prompt | llm\n",
    "raw_output = chain.invoke(input_variables).content\n",
    "\n",
    "# Parse and clean the output\n",
    "parsed_output = regex_parser.parse(raw_output)\n",
    "cleaned_output = clean_output(parsed_output)\n",
    "\n",
    "# Display the parsed output\n",
    "print(\"Parsed Output:\")\n",
    "for key, value in cleaned_output.items():\n",
    "    print(f\"{key.upper()}:\")\n",
    "    print(value)\n",
    "    print()"
   ]
  },
  {
   "cell_type": "code",
   "execution_count": 15,
   "id": "52843381",
   "metadata": {},
   "outputs": [
    {
     "name": "stdout",
     "output_type": "stream",
     "text": [
      "Model Output:\n",
      "----------------------------------------\n",
      "Rating: 4 out of 5 stars\n",
      "\n",
      "Pros:\n",
      "1. The Smartphone X boasts an impressive display with vibrant colors and crisp details, making it a joy to watch videos and play games on.\n",
      "2. The phone's camera is also a major highlight, with excellent low-light performance and features like optical zoom and portrait mode.\n",
      "3. The device's battery life is surprisingly long-lasting, easily lasting a full day with moderate to heavy use.\n",
      "\n",
      "Cons:\n",
      "1. The phone's processor can feel a bit sluggish at times, particularly when switching between demanding apps or performing complex tasks.\n",
      "2. The phone's design, while sleek, feels a bit too light and may not appeal to those who prefer a more substantial device.\n",
      "\n",
      "Recommendation: Overall, Smartphone X is a solid choice for anyone looking for a reliable and feature-packed device, but those seeking a premium feel and top-notch performance may want to consider other options.\n",
      "----------------------------------------\n",
      "\n"
     ]
    }
   ],
   "source": [
    "review_prompt = PromptTemplate(\n",
    "    input_variables=[\"product\", \"rating\", \"pros\", \"cons\", \"word_limit\"],\n",
    "    template=\"\"\"Write a product review for {product} with the following constraints:\n",
    "    1. The review should have a {rating}-star rating (out of 5)\n",
    "    2. Include exactly {pros} pros and {cons} cons\n",
    "    3. Use between 2 and 3 sentences for each pro and con\n",
    "    4. The entire review should be under {word_limit} words\n",
    "    5. End with a one-sentence recommendation\n",
    "    \n",
    "    Format the review as follows:\n",
    "    Rating: [X] out of 5 stars\n",
    "    \n",
    "    Pros:\n",
    "    1. [Pro 1]\n",
    "    2. [Pro 2]\n",
    "    ...\n",
    "    \n",
    "    Cons:\n",
    "    1. [Con 1]\n",
    "    2. [Con 2]\n",
    "    ...\n",
    "    \n",
    "    Recommendation: [One-sentence recommendation]\n",
    "    \"\"\"\n",
    ")\n",
    "\n",
    "# Generate the constrained review\n",
    "input_variables = {\n",
    "    \"product\": \"Smartphone X\",\n",
    "    \"rating\": \"4\",\n",
    "    \"pros\": \"3\",\n",
    "    \"cons\": \"2\",\n",
    "    \"word_limit\": \"200\"\n",
    "}\n",
    "\n",
    "chain = review_prompt | llm\n",
    "output = chain.invoke(input_variables).content\n",
    "display_output(output)"
   ]
  },
  {
   "cell_type": "code",
   "execution_count": null,
   "id": "64006fd9",
   "metadata": {},
   "outputs": [],
   "source": []
  }
 ],
 "metadata": {
  "kernelspec": {
   "display_name": ".venv",
   "language": "python",
   "name": "python3"
  },
  "language_info": {
   "codemirror_mode": {
    "name": "ipython",
    "version": 3
   },
   "file_extension": ".py",
   "mimetype": "text/x-python",
   "name": "python",
   "nbconvert_exporter": "python",
   "pygments_lexer": "ipython3",
   "version": "3.13.3"
  }
 },
 "nbformat": 4,
 "nbformat_minor": 5
}
