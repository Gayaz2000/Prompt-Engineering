{
 "cells": [
  {
   "cell_type": "markdown",
   "id": "0a2c7ed4",
   "metadata": {},
   "source": [
    "# Task Decomposition"
   ]
  },
  {
   "cell_type": "code",
   "execution_count": 1,
   "id": "c9dad681",
   "metadata": {},
   "outputs": [],
   "source": [
    "import os\n",
    "from dotenv import load_dotenv\n",
    "load_dotenv()\n",
    "\n",
    "os.environ[\"GROQ_API_KEY\"] = os.getenv(\"GROQ_API_KEY\")"
   ]
  },
  {
   "cell_type": "code",
   "execution_count": 5,
   "id": "5a5c0c30",
   "metadata": {},
   "outputs": [],
   "source": [
    "from langchain_groq import ChatGroq\n",
    "from langchain_ollama import ChatOllama\n",
    "\n",
    "llm = ChatGroq(model=\"llama3-8b-8192\")\n",
    "ollama_llm = ChatOllama(model=\"llama3.2:1b\")"
   ]
  },
  {
   "cell_type": "code",
   "execution_count": 8,
   "id": "d27de87f",
   "metadata": {},
   "outputs": [],
   "source": [
    "from langchain_core.prompts import  PromptTemplate\n",
    "\n",
    "def run_prompt(prompt, **kwargs):\n",
    "    \"\"\"Helper function to run a prompt through the language model.\n",
    "\n",
    "    Args:\n",
    "        prompt (str): The prompt template string.\n",
    "        **kwargs: Keyword arguments to fill the prompt template.\n",
    "\n",
    "    Returns:\n",
    "        str: The model's response.\n",
    "    \"\"\"\n",
    "    prompt_template = PromptTemplate(template=prompt, input_variables=list(kwargs.keys()))\n",
    "    chain = prompt_template | llm\n",
    "    return chain.invoke(kwargs).content"
   ]
  },
  {
   "cell_type": "markdown",
   "id": "a58648e6",
   "metadata": {},
   "source": [
    "#Breaking down task into subtasks"
   ]
  },
  {
   "cell_type": "code",
   "execution_count": 9,
   "id": "34aa8c5c",
   "metadata": {},
   "outputs": [
    {
     "name": "stdout",
     "output_type": "stream",
     "text": [
      "Here are the 3 subtasks to analyze a company's financial health:\n",
      "\n",
      "**Subtask 1: Review Key Financial Ratios**\n",
      "\n",
      "Objective: Calculate and interpret important financial ratios to understand the company's profitability, efficiency, and solvency.\n",
      "\n",
      "This subtask should help you calculate and analyze ratios such as:\n",
      "\n",
      "* Gross Margin Ratio (GM%)\n",
      "* Operating Margin Ratio (OM%)\n",
      "* Net Profit Margin Ratio (NPM%)\n",
      "* Return on Equity (ROE)\n",
      "* Return on Assets (ROA)\n",
      "* Debt-to-Equity Ratio\n",
      "* Current Ratio\n",
      "\n",
      "By reviewing these ratios, you'll gain insights into the company's ability to generate profits, manage its assets and liabilities, and maintain financial stability.\n",
      "\n",
      "**Subtask 2: Analyze Cash Flow and Liquidity**\n",
      "\n",
      "Objective: Evaluate the company's ability to generate cash, manage its liquidity, and pay its debts.\n",
      "\n",
      "This subtask should help you analyze the company's:\n",
      "\n",
      "* Cash Flow from Operations (CFO) to understand its ability to generate cash from its core business activities.\n",
      "* Current Ratio and Quick Ratio to assess its short-term liquidity.\n",
      "* Cash Conversion Cycle (CCC) to evaluate its ability to manage its accounts receivable and payable.\n",
      "* Long-term debt and interest coverage ratio to assess its ability to meet its debt obligations.\n",
      "\n",
      "By analyzing cash flow and liquidity, you'll gain insights into the company's ability to meet its short-term and long-term financial obligations.\n",
      "\n",
      "**Subtask 3: Interpret Financial Statements and Identify Trends**\n",
      "\n",
      "Objective: Interpret the company's financial statements, identify trends, and assess its overall financial health.\n",
      "\n",
      "This subtask should help you:\n",
      "\n",
      "* Review the company's Income Statement to understand its revenue, cost structure, and profitability.\n",
      "* Analyze the Balance Sheet to evaluate its asset structure, liabilities, and equity.\n",
      "* Identify trends in revenue, net income, and cash flow over time.\n",
      "* Assess the company's overall financial health by considering its financial ratios, cash flow, and liquidity.\n",
      "\n",
      "By interpreting financial statements and identifying trends, you'll gain a comprehensive understanding of the company's financial health and be able to identify areas for improvement.\n"
     ]
    }
   ],
   "source": [
    "complex_task = \"\"\"\n",
    "Analyze the financial health of a company based on the following data:\n",
    "- Revenue: $10 million\n",
    "- Net Income: $2 million\n",
    "- Total Assets: $15 million\n",
    "- Total Liabilities: $7 million\n",
    "- Cash Flow from Operations: $3 million\n",
    "\"\"\"\n",
    "\n",
    "decomposition_prompt = \"\"\"\n",
    "Break down the task of analyzing a company's financial health into 3 subtasks. For each subtask, provide a brief description of what it should accomplish.\n",
    "\n",
    "Task: {task}\n",
    "\n",
    "Subtasks:\n",
    "1.\n",
    "\"\"\"\n",
    "subtasks = run_prompt(decomposition_prompt, task=complex_task)\n",
    "print(subtasks)"
   ]
  },
  {
   "cell_type": "markdown",
   "id": "900527f7",
   "metadata": {},
   "source": [
    "#Chaining SubTasks"
   ]
  },
  {
   "cell_type": "code",
   "execution_count": 10,
   "id": "e0de4e91",
   "metadata": {},
   "outputs": [],
   "source": [
    "def analyze_profitability(revenue, net_income):\n",
    "    \"\"\"Analyze the company's profitability.\n",
    "\n",
    "    Args:\n",
    "        revenue (float): Company's revenue.\n",
    "        net_income (float): Company's net income.\n",
    "\n",
    "    Returns:\n",
    "        str: Analysis of the company's profitability.\n",
    "    \"\"\"\n",
    "    prompt = \"\"\"\n",
    "    Analyze the company's profitability based on the following data:\n",
    "    - Revenue: ${revenue} million\n",
    "    - Net Income: ${net_income} million\n",
    "\n",
    "    Calculate the profit margin and provide a brief analysis of the company's profitability.\n",
    "    \"\"\"\n",
    "    return run_prompt(prompt, revenue=revenue, net_income=net_income)"
   ]
  },
  {
   "cell_type": "code",
   "execution_count": 11,
   "id": "f2e8188c",
   "metadata": {},
   "outputs": [],
   "source": [
    "def analyze_liquidity(total_assets, total_liabilities):\n",
    "    \"\"\"Analyze the company's liquidity.\n",
    "\n",
    "    Args:\n",
    "        total_assets (float): Company's total assets.\n",
    "        total_liabilities (float): Company's total liabilities.\n",
    "\n",
    "    Returns:\n",
    "        str: Analysis of the company's liquidity.\n",
    "    \"\"\"\n",
    "    prompt = \"\"\"\n",
    "    Analyze the company's liquidity based on the following data:\n",
    "    - Total Assets: ${total_assets} million\n",
    "    - Total Liabilities: ${total_liabilities} million\n",
    "\n",
    "    Calculate the current ratio and provide a brief analysis of the company's liquidity.\n",
    "    \"\"\"\n",
    "    return run_prompt(prompt, total_assets=total_assets, total_liabilities=total_liabilities)"
   ]
  },
  {
   "cell_type": "code",
   "execution_count": 12,
   "id": "898df112",
   "metadata": {},
   "outputs": [],
   "source": [
    "def analyze_cash_flow(cash_flow):\n",
    "    \"\"\"Analyze the company's cash flow.\n",
    "\n",
    "    Args:\n",
    "        cash_flow (float): Company's cash flow from operations.\n",
    "\n",
    "    Returns:\n",
    "        str: Analysis of the company's cash flow.\n",
    "    \"\"\"\n",
    "    prompt = \"\"\"\n",
    "    Analyze the company's cash flow based on the following data:\n",
    "    - Cash Flow from Operations: ${cash_flow} million\n",
    "\n",
    "    Provide a brief analysis of the company's cash flow health.\n",
    "    \"\"\"\n",
    "    return run_prompt(prompt, cash_flow=cash_flow)"
   ]
  },
  {
   "cell_type": "code",
   "execution_count": 14,
   "id": "bb1da58b",
   "metadata": {},
   "outputs": [
    {
     "name": "stdout",
     "output_type": "stream",
     "text": [
      "Profitability Analysis:\n",
      " Let's analyze the company's profitability based on the given data.\n",
      "\n",
      "**Profit Margin:**\n",
      "\n",
      "Profit Margin = (Net Income / Revenue) × 100\n",
      "\n",
      "Profit Margin = ($2 million / $10 million) × 100 = 20%\n",
      "\n",
      "**Analysis:**\n",
      "\n",
      "The company's profit margin is 20%, which indicates that for every dollar of revenue generated, the company earns 20 cents in net income. This is a relatively healthy profit margin, indicating that the company is able to convert a significant portion of its revenue into net income.\n",
      "\n",
      "The company's net income of $2 million represents 20% of its revenue, which suggests that it has a solid earnings performance. This could be attributed to various factors such as efficient cost management, effective pricing strategies, and a strong competitive position in the market.\n",
      "\n",
      "However, it's essential to note that a 20% profit margin may not be exceptional for all industries. Some companies in highly competitive or low-margin industries may struggle to achieve a similar profit margin. Nevertheless, a 20% profit margin is a decent starting point for further analysis and could be a target for improvement.\n",
      "\n",
      "Overall, the company's profitability appears to be decent, with a healthy profit margin indicating a good balance between revenue generation and cost management.\n"
     ]
    }
   ],
   "source": [
    "profitability_analysis = analyze_profitability(10, 2)\n",
    "liquidity_analysis = analyze_liquidity(15, 7)\n",
    "cash_flow_analysis = analyze_cash_flow(3)\n",
    "\n",
    "print(\"Profitability Analysis:\\n\", profitability_analysis)"
   ]
  },
  {
   "cell_type": "code",
   "execution_count": 15,
   "id": "8fe7a465",
   "metadata": {},
   "outputs": [
    {
     "name": "stdout",
     "output_type": "stream",
     "text": [
      "\n",
      "Liquidity Analysis:\n",
      " A simple but important analysis!\n",
      "\n",
      "To calculate the current ratio, we need to divide the company's current assets by its current liabilities. However, since we don't have the current assets and current liabilities data, we'll make an assumption that the current assets are a significant portion of the total assets and current liabilities are a significant portion of the total liabilities.\n",
      "\n",
      "Let's assume that the current assets are approximately 80% of the total assets and current liabilities are approximately 80% of the total liabilities. This is a common assumption, as current assets and current liabilities typically make up a significant portion of a company's balance sheet.\n",
      "\n",
      "Using this assumption, we can estimate the current assets as:\n",
      "\n",
      "Current Assets = 0.8 x $15 million = $12 million\n",
      "\n",
      "And the current liabilities as:\n",
      "\n",
      "Current Liabilities = 0.8 x $7 million = $5.6 million\n",
      "\n",
      "Now, we can calculate the current ratio:\n",
      "\n",
      "Current Ratio = Current Assets / Current Liabilities = $12 million / $5.6 million = 2.14\n",
      "\n",
      "The current ratio of 2.14 indicates that the company has sufficient liquidity to cover its current liabilities approximately 2.14 times. This suggests that the company has a relatively strong liquidity position, as it can easily pay its short-term debts and obligations.\n",
      "\n",
      "In general, a current ratio above 1 is considered good, as it indicates that the company has sufficient liquid assets to meet its short-term obligations. A current ratio above 2 is often considered excellent, as it suggests that the company has a strong ability to absorb unexpected expenses or changes in cash flow.\n",
      "\n",
      "Overall, based on this analysis, the company appears to have a healthy liquidity position, which can help it navigate short-term financial challenges and invest in its future growth.\n"
     ]
    }
   ],
   "source": [
    "print(\"\\nLiquidity Analysis:\\n\", liquidity_analysis)"
   ]
  },
  {
   "cell_type": "code",
   "execution_count": 16,
   "id": "772028c0",
   "metadata": {},
   "outputs": [
    {
     "name": "stdout",
     "output_type": "stream",
     "text": [
      "\n",
      "Cash Flow Analysis:\n",
      " Based on the provided data, the company's cash flow from operations is $3 million. This indicates that the company is generating a significant amount of cash from its core business activities.\n",
      "\n",
      "Here's a brief analysis of the company's cash flow health:\n",
      "\n",
      "* The company is generating a positive cash flow from operations, which suggests that it is able to convert its earnings into cash at a rate that is greater than or equal to its expenses.\n",
      "* The $3 million in cash flow from operations is a significant amount, indicating that the company has a strong ability to generate cash from its business activities.\n",
      "* This cash flow can be used to fund various aspects of the business, such as investing in new projects, paying off debt, or distributing dividends to shareholders.\n",
      "* The company's ability to generate cash from operations also suggests that it has a stable and predictable revenue stream, which can help to reduce financial risk and provide a sense of stability.\n",
      "\n",
      "Overall, the company's cash flow health appears to be strong, with a significant amount of cash being generated from its core business activities. This suggests that the company is well-positioned to continue to grow and thrive in the future.\n"
     ]
    }
   ],
   "source": [
    "print(\"\\nCash Flow Analysis:\\n\", cash_flow_analysis)"
   ]
  },
  {
   "cell_type": "markdown",
   "id": "33323d0b",
   "metadata": {},
   "source": [
    "#Integrating Results"
   ]
  },
  {
   "cell_type": "code",
   "execution_count": 17,
   "id": "6b533f6c",
   "metadata": {},
   "outputs": [
    {
     "name": "stdout",
     "output_type": "stream",
     "text": [
      "Overall Financial Health Analysis:\n",
      " Based on the analyses, here is a summary of the key points and an overall evaluation of the company's financial position:\n",
      "\n",
      "**Profitability:**\n",
      "\n",
      "* The company has a decent profit margin of 20%, indicating a good balance between revenue generation and cost management.\n",
      "* The profit margin is relatively healthy, suggesting that the company is able to convert a significant portion of its revenue into net income.\n",
      "\n",
      "**Liquidity:**\n",
      "\n",
      "* The company has a strong liquidity position, with a current ratio of 2.14, indicating that it can easily pay its short-term debts and obligations.\n",
      "* The company's ability to cover its current liabilities approximately 2.14 times suggests that it has a stable and predictable financial position.\n",
      "\n",
      "**Cash Flow:**\n",
      "\n",
      "* The company is generating a significant amount of cash from its core business activities, with a cash flow from operations of $3 million.\n",
      "* The company's ability to generate cash from operations suggests that it has a stable and predictable revenue stream, which can help to reduce financial risk and provide a sense of stability.\n",
      "\n",
      "**Overall Evaluation:**\n",
      "\n",
      "Based on these analyses, the company appears to have a strong financial position. The company's profitability is decent, its liquidity is strong, and its cash flow is significant. These indicators suggest that the company is well-positioned to continue to grow and thrive in the future.\n",
      "\n",
      "Overall, I would give the company a strong financial health assessment. The company's ability to generate cash, cover its short-term debts, and maintain a decent profit margin indicates that it is financially stable and well-positioned for future growth.\n"
     ]
    }
   ],
   "source": [
    "def integrate_results(profitability, liquidity, cash_flow):\n",
    "    \"\"\"Integrate the results from subtasks to provide an overall analysis.\n",
    "\n",
    "    Args:\n",
    "        profitability (str): Profitability analysis.\n",
    "        liquidity (str): Liquidity analysis.\n",
    "        cash_flow (str): Cash flow analysis.\n",
    "\n",
    "    Returns:\n",
    "        str: Overall analysis of the company's financial health.\n",
    "    \"\"\"\n",
    "    prompt = \"\"\"\n",
    "    Based on the following analyses, provide an overall assessment of the company's financial health:\n",
    "\n",
    "    Profitability Analysis:\n",
    "    {profitability}\n",
    "\n",
    "    Liquidity Analysis:\n",
    "    {liquidity}\n",
    "\n",
    "    Cash Flow Analysis:\n",
    "    {cash_flow}\n",
    "\n",
    "    Summarize the key points and give an overall evaluation of the company's financial position.\n",
    "    \"\"\"\n",
    "    return run_prompt(prompt, profitability=profitability, liquidity=liquidity, cash_flow=cash_flow)\n",
    "\n",
    "overall_analysis = integrate_results(profitability_analysis, liquidity_analysis, cash_flow_analysis)\n",
    "print(\"Overall Financial Health Analysis:\\n\", overall_analysis)"
   ]
  },
  {
   "cell_type": "code",
   "execution_count": null,
   "id": "44f8b820",
   "metadata": {},
   "outputs": [],
   "source": []
  }
 ],
 "metadata": {
  "kernelspec": {
   "display_name": ".venv",
   "language": "python",
   "name": "python3"
  },
  "language_info": {
   "codemirror_mode": {
    "name": "ipython",
    "version": 3
   },
   "file_extension": ".py",
   "mimetype": "text/x-python",
   "name": "python",
   "nbconvert_exporter": "python",
   "pygments_lexer": "ipython3",
   "version": "3.13.3"
  }
 },
 "nbformat": 4,
 "nbformat_minor": 5
}
