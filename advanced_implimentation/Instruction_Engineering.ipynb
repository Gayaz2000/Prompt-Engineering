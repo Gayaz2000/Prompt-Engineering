{
 "cells": [
  {
   "cell_type": "markdown",
   "id": "c3eeb479",
   "metadata": {},
   "source": [
    "# Instruction Engineering"
   ]
  },
  {
   "cell_type": "code",
   "execution_count": 3,
   "id": "eddb81b2",
   "metadata": {},
   "outputs": [],
   "source": [
    "import os\n",
    "from dotenv import load_dotenv\n",
    "load_dotenv()\n",
    "\n",
    "os.environ[\"GROQ_API_KEY\"] = os.getenv(\"GROQ_API_KEY\")"
   ]
  },
  {
   "cell_type": "code",
   "execution_count": 4,
   "id": "49fdc3d1",
   "metadata": {},
   "outputs": [],
   "source": [
    "from langchain_groq import ChatGroq\n",
    "\n",
    "llm = ChatGroq(model=\"llama3-8b-8192\")"
   ]
  },
  {
   "cell_type": "code",
   "execution_count": 5,
   "id": "143127fc",
   "metadata": {},
   "outputs": [],
   "source": [
    "def get_completion(prompt):\n",
    "    \"\"\"Helper function to get model completion.\"\"\"\n",
    "    return llm.invoke(prompt).content"
   ]
  },
  {
   "cell_type": "markdown",
   "id": "2fd2dded",
   "metadata": {},
   "source": [
    "#Crafting Clear Instructions"
   ]
  },
  {
   "cell_type": "code",
   "execution_count": 7,
   "id": "06f638c6",
   "metadata": {},
   "outputs": [
    {
     "name": "stdout",
     "output_type": "stream",
     "text": [
      "Vague Instruction Output:\n",
      "Here's a concise overview of climate change:\n",
      "\n",
      "**What is climate change?**\n",
      "\n",
      "Climate change refers to the long-term warming of the planet, which is primarily caused by the increasing levels of greenhouse gases in the Earth's atmosphere. These gases, such as carbon dioxide (CO2), methane (CH4), and nitrous oxide (N2O), trap heat from the sun and prevent it from being released back into space.\n",
      "\n",
      "**Causes of climate change:**\n",
      "\n",
      "1. **Burning fossil fuels**: The majority of CO2 emissions come from burning fossil fuels such as coal, oil, and gas for energy.\n",
      "2. **Deforestation**: The clearing of forests for agriculture, urbanization, and other purposes releases carbon stored in trees and reduces the ability of forests to absorb CO2.\n",
      "3. **Land use changes**: Changes in land use, such as agriculture and urbanization, also contribute to greenhouse gas emissions.\n",
      "4. **Agriculture**: The production of meat, especially beef, and other animal products leads to emissions from manure and the use of synthetic fertilizers.\n",
      "5. **Industrial processes**: Industrial processes, such as cement production and the manufacture of steel and aluminum, also release large amounts of greenhouse gases.\n",
      "\n",
      "**Consequences of climate change:**\n",
      "\n",
      "1. **Rising global temperatures**: The average global temperature has risen by about 1°C since the late 1800s.\n",
      "2. **More extreme weather events**: Climate change is linked to an increase in extreme weather events such as heatwaves, droughts, and heavy rainfall.\n",
      "3. **Sea-level rise**: Melting glaciers and ice sheets are causing sea levels to rise, leading to coastal erosion and flooding.\n",
      "4. **Changes in precipitation patterns**: Climate change is altering the patterns of rainfall and snowfall around the world, leading to droughts in some areas and floods in others.\n",
      "5. **Loss of biodiversity**: Climate change is threatening the survival of many plant and animal species, especially those with limited ranges or specialized habitats.\n",
      "\n",
      "**What can be done to address climate change?**\n",
      "\n",
      "1. **Transition to renewable energy**: Shift from fossil fuels to renewable energy sources like solar and wind power.\n",
      "2. **Increase energy efficiency**: Improve the energy efficiency of buildings, transportation, and industry.\n",
      "3. **Electrify transportation**: Promote the adoption of electric vehicles and public transportation.\n",
      "4. **Carbon capture and storage**: Develop and deploy technologies to capture and store CO2 emissions from power plants and industrial processes.\n",
      "5. **Protect and restore natural carbon sinks**: Preserve and restore forests, wetlands, and other natural ecosystems that absorb carbon dioxide.\n",
      "\n",
      "This is a brief overview of climate change, but there is much more to learn and discuss. If you have specific questions or would like more information, feel free to ask!\n"
     ]
    }
   ],
   "source": [
    "vague_instruction = \"Tell me about climate change concisely.\"\n",
    "clear_instruction = \"Provide a concise summary of the primary causes and effects of climate change, focusing on scientific consensus from the past five years concisely.\"\n",
    "\n",
    "print(\"Vague Instruction Output:\")\n",
    "print(get_completion(vague_instruction))"
   ]
  },
  {
   "cell_type": "code",
   "execution_count": 8,
   "id": "b6e10b3f",
   "metadata": {},
   "outputs": [
    {
     "name": "stdout",
     "output_type": "stream",
     "text": [
      "\n",
      "Clear Instruction Output:\n",
      "Here is a summary of the primary causes and effects of climate change based on the scientific consensus from the past five years:\n",
      "\n",
      "**Causes:**\n",
      "\n",
      "1. **Greenhouse gases:** The primary cause of climate change is the increasing levels of greenhouse gases, such as carbon dioxide (CO2), methane (CH4), and nitrous oxide (N2O), in the Earth's atmosphere. Human activities, such as burning fossil fuels (coal, oil, and gas), deforestation, and land-use changes, are responsible for the majority of these emissions.\n",
      "2. **Carbon dioxide:** CO2 is the most prevalent greenhouse gas, accounting for about 65% of the warming attributable to all greenhouse gases. The concentration of CO2 in the atmosphere has increased by about 40% since the Industrial Revolution, primarily due to fossil fuel burning and land-use changes.\n",
      "\n",
      "**Effects:**\n",
      "\n",
      "1. **Global warming:** The Earth's average surface temperature has risen by about 1°C since the late 1800s, and the 20 warmest years on record have all occurred since 1981. The current warming trend is largely driven by human activities.\n",
      "2. **Sea-level rise:** The global sea level has risen by about 17 cm since 1900, and the rate of rise is accelerating. This is primarily due to the melting of glaciers and ice sheets, as well as the thermal expansion of seawater.\n",
      "3. **Extreme weather events:** Climate change is linked to an increase in extreme weather events, such as heatwaves, droughts, and heavy rainfall. This is because a warmer atmosphere can hold more moisture, leading to more intense precipitation events.\n",
      "4. **Changes in precipitation patterns:** Climate change is altering global precipitation patterns, leading to more frequent and severe droughts in some areas and floods in others.\n",
      "5. **Loss of biodiversity:** Climate change is exacerbating the loss of biodiversity, as changing environmental conditions and shifting species ranges lead to population declines and extinctions.\n",
      "\n",
      "**Consensus:**\n",
      "\n",
      "The scientific consensus on climate change is clear: human activities are causing the Earth's temperature to rise, and this warming is having significant effects on the planet. The Intergovernmental Panel on Climate Change (IPCC) and the National Oceanic and Atmospheric Administration (NOAA) are two of the most respected sources of climate information, and they agree that:\n",
      "\n",
      "* The current warming trend is largely driven by human activities, particularly the burning of fossil fuels and deforestation.\n",
      "* The consequences of climate change, such as sea-level rise and more frequent extreme weather events, are already occurring and will continue to worsen unless greenhouse gas emissions are significantly reduced.\n",
      "* It is essential to limit global warming to well below 2°C above pre-industrial levels and pursue efforts to limit it to 1.5°C to avoid the most catastrophic consequences of climate change.\n",
      "\n",
      "References:\n",
      "\n",
      "* IPCC (2018). Global Warming of 1.5°C. An IPCC Special Report on the impacts of global warming of 1.5°C above pre-industrial levels and related global greenhouse gas emission pathways, in the context of strengthening the global response to the threat of climate change, sustainable development, and efforts to eradicate poverty.\n",
      "* NOAA (2020). Climate Change: How Do We Know?\n",
      "* NASA (2020). Climate Change: How Do We Know?\n"
     ]
    }
   ],
   "source": [
    "print(\"\\nClear Instruction Output:\")\n",
    "print(get_completion(clear_instruction))"
   ]
  },
  {
   "cell_type": "markdown",
   "id": "f0099cef",
   "metadata": {},
   "source": [
    "#Effective Instruction Structures"
   ]
  },
  {
   "cell_type": "code",
   "execution_count": 11,
   "id": "1fe1b7c6",
   "metadata": {},
   "outputs": [
    {
     "name": "stdout",
     "output_type": "stream",
     "text": [
      "Bullet Structure Output:\n",
      "Here's a concise explanation of photosynthesis:\n",
      "\n",
      "**Definition:** Photosynthesis is the process by which plants, algae, and some bacteria convert light energy from the sun into chemical energy in the form of organic compounds, such as glucose.\n",
      "\n",
      "**Main Components:**\n",
      "\n",
      "* Light energy from the sun\n",
      "* Water (H2O)\n",
      "* Carbon dioxide (CO2)\n",
      "* Chlorophyll (a green pigment found in plants)\n",
      "* Oxygen (O2)\n",
      "\n",
      "**Steps in Order:**\n",
      "\n",
      "1. **Light absorption**: Light energy from the sun is absorbed by pigments such as chlorophyll in the chloroplasts of plant cells.\n",
      "2. **Water absorption**: Water is absorbed from the soil through the roots and transported to the leaves.\n",
      "3. **Carbon fixation**: Carbon dioxide from the air is absorbed through small openings on the leaves called stomata.\n",
      "4. **Light-dependent reactions**: The absorbed light energy is used to convert water and carbon dioxide into ATP and NADPH.\n",
      "5. **Calvin cycle**: The ATP and NADPH produced in the light-dependent reactions are used to convert carbon dioxide into glucose through a series of chemical reactions.\n",
      "6. **Glucose production**: Glucose is produced and stored in the plant cells, providing energy and building blocks for growth and development.\n",
      "7. **Oxygen release**: Oxygen is released as a byproduct of photosynthesis and is released into the atmosphere.\n",
      "\n",
      "**Importance for Life on Earth:**\n",
      "\n",
      "Photosynthesis is essential for life on Earth because it produces the oxygen we breathe and provides energy for plants to grow and thrive. Without photosynthesis, life as we know it would not be possible. Plants are the primary producers of the food chain, and their energy-rich glucose is consumed by herbivores, which in turn support carnivores and other organisms. Additionally, photosynthesis helps regulate the Earth's climate by removing carbon dioxide from the atmosphere and releasing oxygen, which helps to balance the atmospheric composition.\n"
     ]
    }
   ],
   "source": [
    "bullet_structure = \"\"\"\n",
    "Explain the process of photosynthesis concisely:\n",
    "- Define photosynthesis\n",
    "- List the main components involved\n",
    "- Describe the steps in order\n",
    "- Mention its importance for life on Earth\n",
    "\"\"\"\n",
    "\n",
    "print(\"Bullet Structure Output:\")\n",
    "print(get_completion(bullet_structure))"
   ]
  },
  {
   "cell_type": "code",
   "execution_count": 12,
   "id": "b0c9f74e",
   "metadata": {},
   "outputs": [
    {
     "name": "stdout",
     "output_type": "stream",
     "text": [
      "\n",
      "Narrative Structure Output:\n",
      "Hello there! As a botanist, I'm thrilled to introduce you to the fascinating process of photosynthesis. Simply put, photosynthesis is the way plants, algae, and some bacteria convert sunlight, water, and carbon dioxide into glucose and oxygen.\n",
      "\n",
      "Let's break it down step-by-step:\n",
      "\n",
      "1. **Light absorption**: Plants absorb light energy from the sun through their leaves, using pigments like chlorophyll.\n",
      "2. **Water absorption**: Roots absorb water from the soil, which is transported to the leaves through the xylem.\n",
      "3. **Carbon dioxide absorption**: Plants absorb carbon dioxide from the air through tiny openings on their leaves called stomata.\n",
      "4. **Light-dependent reactions**: Energy from light is used to convert water and carbon dioxide into ATP and NADPH, two energy-rich molecules.\n",
      "5. **Calvin cycle**: The energy-rich molecules from step 4 are used to convert carbon dioxide into glucose, releasing oxygen as a byproduct.\n",
      "\n",
      "Key components involved:\n",
      "\n",
      "* Chlorophyll: the green pigment responsible for absorbing light energy\n",
      "* Water (H2O): the source of hydrogen atoms for glucose production\n",
      "* Carbon dioxide (CO2): the source of carbon atoms for glucose production\n",
      "* ATP and NADPH: energy-rich molecules produced during light-dependent reactions\n",
      "* Glucose (C6H12O6): the energy-rich molecule produced during the Calvin cycle\n",
      "\n",
      "Photosynthesis is crucial for life on Earth because it:\n",
      "\n",
      "* Produces oxygen (O2), which is essential for the survival of most living organisms\n",
      "* Provides energy for plants to grow and thrive\n",
      "* Supports the food chain by serving as the primary source of energy for herbivores and omnivores\n",
      "* Regulates the Earth's climate by removing carbon dioxide from the atmosphere and releasing oxygen\n",
      "\n",
      "In summary, photosynthesis is the process by which plants convert sunlight, water, and carbon dioxide into glucose and oxygen. It's a vital process that supports life on Earth and is essential for the survival of our planet.\n"
     ]
    }
   ],
   "source": [
    "narrative_structure = \"\"\"\n",
    "Imagine you're a botanist explaining photosynthesis to a curious student. \n",
    "Start with a simple definition, then walk through the process step-by-step, \n",
    "highlighting the key components involved. Conclude by emphasizing why \n",
    "photosynthesis is crucial for life on Earth. Write it concisely.\n",
    "\"\"\"\n",
    "\n",
    "print(\"\\nNarrative Structure Output:\")\n",
    "print(get_completion(narrative_structure))"
   ]
  },
  {
   "cell_type": "markdown",
   "id": "0e9a9e79",
   "metadata": {},
   "source": [
    "#Balancing Specificity and Generality"
   ]
  },
  {
   "cell_type": "code",
   "execution_count": 13,
   "id": "eb9c777b",
   "metadata": {},
   "outputs": [
    {
     "name": "stdout",
     "output_type": "stream",
     "text": [
      "Specific Instruction Output:\n",
      "In the 1985 film \"Back to the Future,\" the main character is Marty McFly, a high school student who is best friends with Dr. Emmett \"Doc\" Brown, a brilliant scientist. Doc Brown has built a time machine, a DeLorean car, which he uses to travel through time. Marty accidentally travels back to November 5, 1955, the day his parents, George and Lorraine, first met.\n",
      "\n",
      "Marty's presence in the past causes his parents to be unaware of each other, which puts his own existence at risk. He must ensure they fall in love and marry to secure his own future. However, Marty's actions in the past create a rift between his parents, and he becomes stuck in 1955.\n",
      "\n",
      "To resolve the issue, Marty must find a way to get his parents to kiss at the Enchantment Under the Sea dance, which will ensure his own existence. He succeeds, and the time machine takes him back to 1985. However, he inadvertently changes the date of his parents' first kiss, which creates a new timeline, allowing him to return to his own time.\n"
     ]
    }
   ],
   "source": [
    "specific_instruction = \"\"\"\n",
    "Describe the plot of the 1985 film 'Back to the Future', focusing on:\n",
    "1. The main character's name and his friendship with Dr. Brown\n",
    "2. The time machine and how it works\n",
    "3. The specific year the main character travels to and why it's significant\n",
    "4. The main conflict involving his parents' past\n",
    "5. How the protagonist resolves the issues and returns to his time\n",
    "Limit your response to 150 words. \n",
    "\"\"\"\n",
    "\n",
    "print(\"Specific Instruction Output:\")\n",
    "print(get_completion(specific_instruction))"
   ]
  },
  {
   "cell_type": "code",
   "execution_count": 14,
   "id": "3356f3a2",
   "metadata": {},
   "outputs": [
    {
     "name": "stdout",
     "output_type": "stream",
     "text": [
      "\n",
      "General Instruction Output:\n",
      "The popular time travel movie from the 1980s is \"Back to the Future\" (1985). The main characters are Marty McFly (Michael J. Fox), a high school student, and his friend Doc Brown (Christopher Lloyd), a scientist. Marty and Doc have a close relationship, with Doc being a mentor and friend to Marty.\n",
      "\n",
      "The method of time travel is through a DeLorean car, which is converted into a time machine by Doc Brown. The car is powered by a flux capacitor and requires a speed of 88 miles per hour to reach the speed of light and activate the time-traveling ability.\n",
      "\n",
      "The time period visited is November 5, 1955, which is the day before Marty's parents met in high school. The significance of this time period is that it is crucial to Marty's existence, as his parents' meeting will determine his own existence.\n",
      "\n",
      "The main conflict or challenge faced is that Marty's actions in the past start to alter the present, threatening his own existence. Marty must find a way to get his parents to fall in love and ensure his own existence.\n",
      "\n",
      "The story is resolved when Marty successfully gets his parents to fall in love, and he returns to 1985.\n"
     ]
    }
   ],
   "source": [
    "general_instruction = \"\"\"\n",
    "Describe the plot of a popular time travel movie from the 1980s. Include:\n",
    "1. The main characters and their relationships\n",
    "2. The method of time travel\n",
    "3. The time period visited and its significance\n",
    "4. The main conflict or challenge faced\n",
    "5. How the story is resolved\n",
    "Keep your response around 150 words.\n",
    "\"\"\"\n",
    "\n",
    "print(\"\\nGeneral Instruction Output:\")\n",
    "print(get_completion(general_instruction))"
   ]
  },
  {
   "cell_type": "markdown",
   "id": "468989b6",
   "metadata": {},
   "source": [
    "#Iterative Refinement"
   ]
  },
  {
   "cell_type": "code",
   "execution_count": 15,
   "id": "e0aa04dd",
   "metadata": {},
   "outputs": [
    {
     "name": "stdout",
     "output_type": "stream",
     "text": [
      "Initial Instruction Output:\n",
      "A classic! Making a peanut butter and jelly sandwich is a simple process that requires just a few ingredients and a bit of assembly. Here's a step-by-step guide:\n",
      "\n",
      "Ingredients:\n",
      "\n",
      "* 2 slices of bread\n",
      "* Peanut butter\n",
      "* Jelly or jam\n",
      "* A knife for spreading\n",
      "* A plate for assembling\n",
      "\n",
      "Instructions:\n",
      "\n",
      "1. Start by preparing your bread. You can use any type of bread you like, but classic white bread is the most traditional choice. Place the two slices of bread on the plate.\n",
      "2. Open the peanut butter jar and scoop out a generous amount. Spread it evenly onto one slice of bread. You can use a butter knife or a spreader to apply the peanut butter. Make sure to cover the entire slice, but don't worry too much about getting it perfect – a little bit of peanut butter oozing over the edges is okay!\n",
      "3. Next, open the jelly jar and scoop out a similar amount. Spread it evenly onto the other slice of bread. Again, use a knife or spreader to apply the jelly, making sure to cover the entire slice.\n",
      "4. Once both slices are prepared, it's time to assemble the sandwich. Carefully place the slice with the jelly on top of the slice with the peanut butter. Press down gently to ensure the sandwich sticks together.\n",
      "5. Cut the sandwich in half, diagonally or horizontally – whichever you prefer. You can also cut off the crust if you don't like it.\n",
      "6. Serve and enjoy! You can eat your peanut butter and jelly sandwich on its own, or paired with a side of chips, fruit, or a salad.\n",
      "\n",
      "Tips:\n",
      "\n",
      "* Use a good quality peanut butter and jelly that you enjoy the taste of.\n",
      "* Experiment with different types of jelly or jam, such as grape, strawberry, or apricot.\n",
      "* Add some crunch to your sandwich by sprinkling some chopped nuts or chocolate chips on top.\n",
      "* Consider using a panini press or a grill to toast the bread and melt the peanut butter and jelly for a gooey, crispy sandwich.\n",
      "\n",
      "That's it! With these simple steps, you should be able to make a delicious peanut butter and jelly sandwich in no time.\n"
     ]
    }
   ],
   "source": [
    "initial_instruction = \"Explain how to make a peanut butter and jelly sandwich.\"\n",
    "\n",
    "print(\"Initial Instruction Output:\")\n",
    "initial_output = get_completion(initial_instruction)\n",
    "print(initial_output)"
   ]
  },
  {
   "cell_type": "code",
   "execution_count": 16,
   "id": "77314040",
   "metadata": {},
   "outputs": [
    {
     "name": "stdout",
     "output_type": "stream",
     "text": [
      "\n",
      "Refined Instruction Output:\n",
      "Here's a step-by-step guide to making a peanut butter and jelly sandwich with the specified improvements:\n",
      "\n",
      "**Peanut Butter and Jelly Sandwich Recipe**\n",
      "\n",
      "**Servings:** 1\n",
      "\n",
      "**Ingredients:**\n",
      "\n",
      "* 2 slices of whole wheat bread (such as Arnold's Whole Wheat Bread)\n",
      "* 2 tablespoons of creamy peanut butter (such as Skippy Creamy Peanut Butter)\n",
      "* 2 tablespoons of grape jelly (such as Welch's Grape Jelly)\n",
      "* Optional: a glass of milk or a snack of your choice\n",
      "\n",
      "**Instructions:**\n",
      "\n",
      "1. **Wash Your Hands:** Before starting to make your sandwich, wash your hands with soap and water to ensure cleanliness and prevent the spread of germs.\n",
      "2. Lay out the slices of whole wheat bread on a clean, flat surface.\n",
      "3. Open the jar of peanut butter and scoop out 2 tablespoons of the creamy goodness. Spread it evenly onto one slice of bread.\n",
      "4. Open the jar of grape jelly and scoop out 2 tablespoons of the sweet and tangy spread. Spread it evenly onto the other slice of bread.\n",
      "5. **Allergy Alert:** If you or someone you're preparing for has a peanut allergy, consider using a peanut-free alternative like sunflower seed butter or soy butter. If you're unsure, consult with a healthcare professional or a registered dietitian for guidance.\n",
      "6. Once you've spread the peanut butter and jelly, place the two slices together to form a sandwich.\n",
      "7. Press the sandwich gently to ensure the fillings are secure and the bread is evenly aligned.\n",
      "8. **Storage Tip:** If you won't be eating your sandwich immediately, store it in an airtight container or wrap it tightly in plastic wrap to keep it fresh for a few hours.\n",
      "\n",
      "**Enjoy Your Delicious PB&J!**\n",
      "\n",
      "Remember to always wash your hands before and after handling food, and to check with a healthcare professional if you have any concerns about food allergies or sensitivities. Happy snacking!\n"
     ]
    }
   ],
   "source": [
    "refined_instruction = \"\"\"\n",
    "Explain how to make a peanut butter and jelly sandwich, with the following improvements:\n",
    "1. Specify the type of bread, peanut butter, and jelly to use\n",
    "2. Include a step about washing hands before starting\n",
    "3. Mention how to deal with potential allergies\n",
    "4. Add a tip for storing the sandwich if not eaten immediately\n",
    "Present the instructions in a numbered list format.\n",
    "\"\"\"\n",
    "\n",
    "print(\"\\nRefined Instruction Output:\")\n",
    "refined_output = get_completion(refined_instruction)\n",
    "print(refined_output)"
   ]
  },
  {
   "cell_type": "markdown",
   "id": "48541895",
   "metadata": {},
   "source": [
    "#Example"
   ]
  },
  {
   "cell_type": "code",
   "execution_count": 17,
   "id": "0a737815",
   "metadata": {},
   "outputs": [
    {
     "name": "stdout",
     "output_type": "stream",
     "text": [
      "Final Instruction Output:\n",
      "**Lesson Plan: Basic Personal Finance for High School Students**\n",
      "\n",
      "**Introduction**\n",
      "\n",
      "Personal finance is crucial for making informed decisions about money, achieving financial stability, and securing a bright financial future. As teenagers, you may not think you need to worry about personal finance, but the truth is, the sooner you start learning, the better equipped you'll be to manage your money wisely. In this lesson, we'll cover the basics of personal finance to help you make smart financial decisions.\n",
      "\n",
      "**Key Topics**\n",
      "\n",
      "1. **Budgeting**\n",
      "\n",
      "* Explanation: A budget is a plan for how you'll spend your money. It helps you prioritize your spending, make smart financial decisions, and avoid overspending. Think of it like a map for your money.\n",
      "* Practical Activity: Create a simple budget worksheet with columns for income, fixed expenses (e.g., rent, utilities), and discretionary spending (e.g., entertainment, hobbies). Fill in your own income and expenses to see where your money is going.\n",
      "\n",
      "2. **Saving**\n",
      "\n",
      "* Explanation: Saving is setting aside money for short-term or long-term goals, like a emergency fund, college tuition, or a dream vacation. It's essential for building financial stability and achieving your goals.\n",
      "* Practical Activity: Set a savings goal, such as saving $100 for a specific purchase. Calculate how much you need to set aside each month to reach your goal and track your progress.\n",
      "\n",
      "3. **Understanding Credit**\n",
      "\n",
      "* Explanation: Credit refers to borrowing money from a lender (e.g., credit card, loan) and agreeing to pay it back with interest. Understanding credit can help you make smart borrowing decisions and avoid debt.\n",
      "* Practical Activity: Research and compare different credit card offers, considering factors like interest rates, fees, and rewards. Create a pros and cons list to help you make an informed decision.\n",
      "\n",
      "**Conclusion**\n",
      "\n",
      "In this lesson, we've covered the basics of budgeting, saving, and understanding credit. Remember, personal finance is a skill that takes practice, so start applying these concepts to your own financial life. For further learning resources, check out online resources like the Federal Trade Commission's \"Money Smart\" website or the National Endowment for Financial Education's \"Smart About Money\" program.\n"
     ]
    }
   ],
   "source": [
    "final_instruction = \"\"\"\n",
    "Task: Create a brief lesson plan for teaching basic personal finance to high school students.\n",
    "\n",
    "Instructions:\n",
    "1. Start with a concise introduction explaining the importance of personal finance.\n",
    "2. List 3-5 key topics to cover (e.g., budgeting, saving, understanding credit).\n",
    "3. For each topic:\n",
    "   a) Provide a brief explanation suitable for teenagers.\n",
    "   b) Suggest one practical activity or exercise to reinforce the concept.\n",
    "4. Conclude with a summary and a suggestion for further learning resources.\n",
    "\n",
    "Format your response as a structured outline. Aim for clarity and engagement, \n",
    "balancing specific examples with general principles that can apply to various \n",
    "financial situations. Keep the entire lesson plan to approximately 300 words.\n",
    "\"\"\"\n",
    "\n",
    "print(\"Final Instruction Output:\")\n",
    "print(get_completion(final_instruction))"
   ]
  },
  {
   "cell_type": "code",
   "execution_count": null,
   "id": "43782152",
   "metadata": {},
   "outputs": [],
   "source": []
  }
 ],
 "metadata": {
  "kernelspec": {
   "display_name": ".venv",
   "language": "python",
   "name": "python3"
  },
  "language_info": {
   "codemirror_mode": {
    "name": "ipython",
    "version": 3
   },
   "file_extension": ".py",
   "mimetype": "text/x-python",
   "name": "python",
   "nbconvert_exporter": "python",
   "pygments_lexer": "ipython3",
   "version": "3.13.3"
  }
 },
 "nbformat": 4,
 "nbformat_minor": 5
}
