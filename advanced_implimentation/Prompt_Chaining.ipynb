{
 "cells": [
  {
   "cell_type": "markdown",
   "id": "8544d2ac",
   "metadata": {},
   "source": [
    "# Prompt Chaining"
   ]
  },
  {
   "cell_type": "code",
   "execution_count": 4,
   "id": "621febbc",
   "metadata": {},
   "outputs": [],
   "source": [
    "import os\n",
    "from dotenv import load_dotenv\n",
    "load_dotenv()\n",
    "\n",
    "os.environ[\"GROQ_API_KEY\"] = os.getenv(\"GROQ_API_KEY\")"
   ]
  },
  {
   "cell_type": "code",
   "execution_count": 5,
   "id": "4294c5eb",
   "metadata": {},
   "outputs": [],
   "source": [
    "from langchain_groq import ChatGroq\n",
    "\n",
    "llm = ChatGroq(model=\"llama3-8b-8192\")"
   ]
  },
  {
   "cell_type": "markdown",
   "id": "0bf2f127",
   "metadata": {},
   "source": [
    "#Basic Prompt Chaining"
   ]
  },
  {
   "cell_type": "code",
   "execution_count": 6,
   "id": "a5a8e586",
   "metadata": {},
   "outputs": [],
   "source": [
    "from langchain_core.prompts import PromptTemplate\n",
    "\n",
    "\n",
    "story_prompt = PromptTemplate(\n",
    "    input_variables=[\"genre\"],\n",
    "    template=\"Write a short {genre} story in 3-4 sentences.\"\n",
    ")\n",
    "\n",
    "summary_prompt = PromptTemplate(\n",
    "    input_variables=[\"story\"],\n",
    "    template=\"Summarize the following story in one sentence:\\n{story}\"\n",
    ")"
   ]
  },
  {
   "cell_type": "code",
   "execution_count": 7,
   "id": "6057d83d",
   "metadata": {},
   "outputs": [],
   "source": [
    "def story_chain(genre):\n",
    "    \"\"\"Generate a story and its summary based on a given genre.\n",
    "\n",
    "    Args:\n",
    "        genre (str): The genre of the story to generate.\n",
    "\n",
    "    Returns:\n",
    "        tuple: A tuple containing the generated story and its summary.\n",
    "    \"\"\"\n",
    "    story = (story_prompt | llm).invoke({\"genre\": genre}).content\n",
    "    summary = (summary_prompt | llm).invoke({\"story\": story}).content\n",
    "    return story, summary"
   ]
  },
  {
   "cell_type": "code",
   "execution_count": 8,
   "id": "45629323",
   "metadata": {},
   "outputs": [
    {
     "name": "stdout",
     "output_type": "stream",
     "text": [
      "Story: As the last star in the universe died, humanity's final hope, the generation ship Aurora, hurtled through the empty void, carrying the remnants of civilization to a distant planet. But as the ship's captain, Emma, gazed out at the blackness, she felt a strange energy building in the darkness, a power that threatened to consume them all. Suddenly, the ship lurched and shuddered, and Emma's worst fears were realized: they were not alone in the universe after all. A massive, ancient being stirred from the depths of space, its presence sending shockwaves through the ship and shattering the fragile hopes of humanity's survival.\n",
      "\n",
      "Summary: As the last star in the universe dies, the generation ship Aurora, carrying humanity's remnants, is suddenly confronted with the threat of an ancient, massive being that has been awakened from the depths of space, shattering humanity's final hopes of survival.\n"
     ]
    }
   ],
   "source": [
    "genre = \"science fiction\"\n",
    "story, summary = story_chain(genre)\n",
    "print(f\"Story: {story}\\n\\nSummary: {summary}\")"
   ]
  },
  {
   "cell_type": "markdown",
   "id": "f08a3590",
   "metadata": {},
   "source": [
    "#Sequential prompting"
   ]
  },
  {
   "cell_type": "code",
   "execution_count": 9,
   "id": "f087171d",
   "metadata": {},
   "outputs": [],
   "source": [
    "theme_prompt = PromptTemplate(\n",
    "    input_variables=[\"text\"],\n",
    "    template=\"Identify the main theme of the following text:\\n{text}\"\n",
    ")\n",
    "\n",
    "tone_prompt = PromptTemplate(\n",
    "    input_variables=[\"text\"],\n",
    "    template=\"Describe the overall tone of the following text:\\n{text}\"\n",
    ")\n",
    "\n",
    "takeaway_prompt = PromptTemplate(\n",
    "    input_variables=[\"text\", \"theme\", \"tone\"],\n",
    "    template=\"Given the following text with the main theme '{theme}' and tone '{tone}', what are the key takeaways?\\n{text}\"\n",
    ")"
   ]
  },
  {
   "cell_type": "code",
   "execution_count": 10,
   "id": "b91ba034",
   "metadata": {},
   "outputs": [],
   "source": [
    "def analyze_text(text):\n",
    "    \"\"\"Perform a multi-step analysis of a given text.\n",
    "\n",
    "    Args:\n",
    "        text (str): The text to analyze.\n",
    "\n",
    "    Returns:\n",
    "        dict: A dictionary containing the theme, tone, and key takeaways of the text.\n",
    "    \"\"\"\n",
    "    theme = (theme_prompt | llm).invoke({\"text\": text}).content\n",
    "    tone = (tone_prompt | llm).invoke({\"text\": text}).content\n",
    "    takeaways = (takeaway_prompt | llm).invoke({\"text\": text, \"theme\": theme, \"tone\": tone}).content\n",
    "    return {\"theme\": theme, \"tone\": tone, \"takeaways\": takeaways}"
   ]
  },
  {
   "cell_type": "code",
   "execution_count": 11,
   "id": "824317b7",
   "metadata": {},
   "outputs": [
    {
     "name": "stdout",
     "output_type": "stream",
     "text": [
      "Theme: The main theme of the text is the need for responsible development and deployment of Artificial Intelligence (AI) to ensure that its benefits are maximized while its risks are minimized.\n",
      "\n",
      "Tone: The overall tone of this text is cautionary and reflective. The author is acknowledging the potential benefits of artificial intelligence, but is also expressing concern about the risks and ethical implications associated with its development. The use of words like \"concern\", \"caution\", and \"risks\" convey a sense of serious consideration and prudence. The tone is also somewhat neutral, as the author is presenting a balanced view of the issue, acknowledging both the potential benefits and drawbacks of AI. Overall, the tone is thoughtful and deliberative, encouraging readers to approach the topic with a critical and nuanced perspective.\n",
      "\n",
      "Takeaways: The key takeaways from the text are:\n",
      "\n",
      "1. **Responsible development of AI is crucial**: The text emphasizes the need to approach AI development with caution and foresight to ensure that its benefits are maximized while its risks are minimized.\n",
      "2. **AI has both benefits and drawbacks**: The text highlights the potential benefits of AI, such as revolutionizing industries and improving daily lives, but also raises concerns about ethical issues like privacy, job displacement, and misuse.\n",
      "3. **Ethical considerations are essential**: The text emphasizes the need to consider the ethical implications of AI development, including concerns about privacy, job displacement, and potential misuse.\n",
      "4. **A balanced approach is necessary**: The text encourages a balanced view of AI, acknowledging both its potential benefits and drawbacks, and the need to approach the topic with a critical and nuanced perspective.\n",
      "\n",
      "Overall, the text is cautionary and reflective, encouraging readers to think carefully about the responsible development and deployment of AI.\n",
      "\n"
     ]
    }
   ],
   "source": [
    "sample_text = \"The rapid advancement of artificial intelligence has sparked both excitement and concern among experts. While AI promises to revolutionize industries and improve our daily lives, it also raises ethical questions about privacy, job displacement, and the potential for misuse. As we stand on the brink of this technological revolution, it's crucial that we approach AI development with caution and foresight, ensuring that its benefits are maximized while its risks are minimized.\"\n",
    "\n",
    "analysis = analyze_text(sample_text)\n",
    "for key, value in analysis.items():\n",
    "    print(f\"{key.capitalize()}: {value}\\n\")"
   ]
  },
  {
   "cell_type": "markdown",
   "id": "15d9acc6",
   "metadata": {},
   "source": [
    "#Dynamic Prompt Generation"
   ]
  },
  {
   "cell_type": "code",
   "execution_count": 12,
   "id": "9bca135c",
   "metadata": {},
   "outputs": [],
   "source": [
    "answer_prompt = PromptTemplate(\n",
    "    input_variables=[\"question\"],\n",
    "    template=\"Answer the following question concisely:\\n{question}\"\n",
    ")\n",
    "\n",
    "follow_up_prompt = PromptTemplate(\n",
    "    input_variables=[\"question\", \"answer\"],\n",
    "    template=\"Based on the question '{question}' and the answer '{answer}', generate a relevant follow-up question.\"\n",
    ")"
   ]
  },
  {
   "cell_type": "code",
   "execution_count": 13,
   "id": "87124413",
   "metadata": {},
   "outputs": [],
   "source": [
    "def dynamic_qa(initial_question, num_follow_ups=3):\n",
    "    \"\"\"Conduct a dynamic Q&A session with follow-up questions.\n",
    "\n",
    "    Args:\n",
    "        initial_question (str): The initial question to start the Q&A session.\n",
    "        num_follow_ups (int): The number of follow-up questions to generate.\n",
    "\n",
    "    Returns:\n",
    "        list: A list of dictionaries containing questions and answers.\n",
    "    \"\"\"\n",
    "    qa_chain = []\n",
    "    current_question = initial_question\n",
    "\n",
    "    for _ in range(num_follow_ups + 1):  # +1 for the initial question\n",
    "        answer = (answer_prompt | llm).invoke({\"question\": current_question}).content\n",
    "        qa_chain.append({\"question\": current_question, \"answer\": answer})\n",
    "        \n",
    "        if _ < num_follow_ups:  # Generate follow-up for all but the last iteration\n",
    "            current_question = (follow_up_prompt | llm).invoke({\"question\": current_question, \"answer\": answer}).content\n",
    "\n",
    "    return qa_chain"
   ]
  },
  {
   "cell_type": "code",
   "execution_count": 14,
   "id": "b48d94a7",
   "metadata": {},
   "outputs": [
    {
     "name": "stdout",
     "output_type": "stream",
     "text": [
      "Q1: What are the potential applications of quantum computing?\n",
      "A1: The potential applications of quantum computing include:\n",
      "\n",
      "1. **Cryptography**: Unbreakable encryption for secure data transmission.\n",
      "2. **Optimization**: Faster solutions for complex optimization problems in fields like finance, logistics, and energy management.\n",
      "3. **Simulation**: Accurate simulations of complex systems, such as molecules and materials, for chemistry and physics research.\n",
      "4. **Machine Learning**: Improved algorithms for machine learning and artificial intelligence.\n",
      "5. **Data Analysis**: Faster and more efficient data processing and analysis for fields like medicine, climate modeling, and genomics.\n",
      "6. **Materials Science**: Design and simulation of new materials with unique properties.\n",
      "7. **Chemical Synthesis**: Optimal design of chemical reactions and synthesis pathways.\n",
      "8. **Financial Modeling**: Faster and more accurate modeling of complex financial systems.\n",
      "\n",
      "These are just a few examples of the many potential applications of quantum computing.\n",
      "\n",
      "Q2: Here's a potential follow-up question:\n",
      "\n",
      "\"Can you elaborate on how quantum computing can improve the accuracy and efficiency of machine learning algorithms? How might this impact industries that rely heavily on machine learning, such as healthcare and finance?\"\n",
      "A2: Here's a concise answer:\n",
      "\n",
      "Quantum computing can significantly improve the accuracy and efficiency of machine learning algorithms by:\n",
      "\n",
      "1. Enhancing optimization techniques: Quantum computers can solve complex optimization problems much faster than classical computers, allowing for more accurate model training and selection.\n",
      "2. Scaling up computations: Quantum computers can process vast amounts of data in parallel, accelerating machine learning tasks and reducing the need for data preprocessing and cleaning.\n",
      "3. Simulating complex systems: Quantum computers can simulate complex systems, enabling the development of more accurate and nuanced machine learning models that can better understand and interact with the world.\n",
      "\n",
      "In industries that rely heavily on machine learning, such as healthcare and finance, quantum computing can lead to:\n",
      "\n",
      "* Improved disease diagnosis and treatment\n",
      "* Enhanced personalized medicine\n",
      "* Faster and more accurate risk modeling and portfolio optimization\n",
      "* More efficient and secure data encryption and decryption\n",
      "\n",
      "Overall, the impact of quantum computing on machine learning could revolutionize industries that rely on data-driven decision making, leading to breakthroughs in areas like patient outcomes, investment returns, and cybersecurity.\n",
      "\n",
      "Q3: Here's a potential follow-up question:\n",
      "\n",
      "\"That's fascinating! Can you elaborate on the potential challenges and limitations of integrating quantum computing with machine learning, particularly in terms of data preparation and classical-quantum hybrid architectures? For example, how might organizations overcome the need for significant expertise in both quantum computing and machine learning, and what infrastructure and resource investments would be required to support the adoption of quantum-enabled machine learning?\"\n",
      "A3: Here's a concise answer:\n",
      "\n",
      "Integrating quantum computing with machine learning poses challenges in data preparation, requiring significant preprocessing to leverage quantum advantages. Classical-quantum hybrid architectures can help, but organizations need expertise in both domains. To overcome this, they can:\n",
      "\n",
      "* Collaborate with cross-domain experts or academic institutions\n",
      "* Invest in training programs for in-house talent development\n",
      "* Leverage cloud-based solutions and pre-built frameworks to simplify integration\n",
      "* Develop open-source software and APIs to facilitate knowledge sharing\n",
      "\n",
      "Infrastructure and resource investments required include:\n",
      "\n",
      "* High-performance computing infrastructure for quantum simulations\n",
      "* Specialized software and libraries for quantum-classical integration\n",
      "* Expertise in quantum computing, machine learning, and data science\n",
      "* Significant funding for research and development, as well as training and talent acquisition\n",
      "\n",
      "Q4: Here's a potential follow-up question based on the answer:\n",
      "\n",
      "\"That's helpful to know. What are some real-world examples or case studies of organizations that have successfully integrated quantum computing with machine learning, and what were some of the key challenges they faced in terms of data preparation, expertise, and infrastructure investments? Additionally, what are some of the most promising applications or use cases for quantum-enabled machine learning in industries such as finance, healthcare, or cybersecurity, and what are the potential business benefits of adopting these technologies?\"\n",
      "A4: Here's a concise answer:\n",
      "\n",
      "Several organizations have successfully integrated quantum computing with machine learning, including:\n",
      "\n",
      "* IBM, which has developed a quantum computer that can be used for machine learning tasks, such as image recognition and natural language processing.\n",
      "* Google, which has used quantum computing to improve the accuracy of machine learning models for tasks such as speech recognition and language translation.\n",
      "* Rigetti Computing, which has developed a cloud-based quantum computer that can be used for machine learning tasks, such as optimizing logistics and supply chain management.\n",
      "\n",
      "Some of the key challenges these organizations faced include:\n",
      "\n",
      "* Data preparation: Quantum computers require specific types of data, such as high-dimensional vectors, which can be difficult to prepare.\n",
      "* Expertise: Quantum computing requires specialized expertise, which can be a barrier to adoption.\n",
      "* Infrastructure investments: Quantum computers are expensive and require significant infrastructure investments.\n",
      "\n",
      "Some promising applications of quantum-enabled machine learning include:\n",
      "\n",
      "* Financial modeling: Quantum computers can be used to optimize portfolio management and risk analysis.\n",
      "* Healthcare: Quantum computers can be used to analyze large amounts of medical data and develop personalized treatments.\n",
      "* Cybersecurity: Quantum computers can be used to develop more secure encryption methods and detect cyber threats.\n",
      "\n",
      "The potential business benefits of adopting quantum-enabled machine learning include:\n",
      "\n",
      "* Improved accuracy and efficiency: Quantum computers can process large amounts of data faster and more accurately than classical computers.\n",
      "* New revenue streams: Quantum-enabled machine learning can enable new business models and revenue streams.\n",
      "* Competitive advantage: Organizations that adopt quantum-enabled machine learning can gain a competitive advantage over those that do not.\n",
      "\n"
     ]
    }
   ],
   "source": [
    "initial_question = \"What are the potential applications of quantum computing?\"\n",
    "qa_session = dynamic_qa(initial_question)\n",
    "\n",
    "for i, qa in enumerate(qa_session):\n",
    "    print(f\"Q{i+1}: {qa['question']}\")\n",
    "    print(f\"A{i+1}: {qa['answer']}\\n\")"
   ]
  },
  {
   "cell_type": "markdown",
   "id": "e21af666",
   "metadata": {},
   "source": [
    "#Error Handling and Validation"
   ]
  },
  {
   "cell_type": "code",
   "execution_count": 15,
   "id": "ff280185",
   "metadata": {},
   "outputs": [],
   "source": [
    "generate_prompt = PromptTemplate(\n",
    "    input_variables=[\"topic\"],\n",
    "    template=\"Generate a 4-digit number related to the topic: {topic}. Respond with ONLY the number, no additional text.\"\n",
    ")\n",
    "\n",
    "validate_prompt = PromptTemplate(\n",
    "    input_variables=[\"number\", \"topic\"],\n",
    "    template=\"Is the number {number} truly related to the topic '{topic}'? Answer with 'Yes' or 'No' and explain why.\"\n",
    ")"
   ]
  },
  {
   "cell_type": "code",
   "execution_count": 16,
   "id": "19e23b0d",
   "metadata": {},
   "outputs": [],
   "source": [
    "import re\n",
    "\n",
    "def extract_number(text):\n",
    "    \"\"\"Extract a 4-digit number from the given text.\n",
    "\n",
    "    Args:\n",
    "        text (str): The text to extract the number from.\n",
    "\n",
    "    Returns:\n",
    "        str or None: The extracted 4-digit number, or None if no valid number is found.\n",
    "    \"\"\"\n",
    "    match = re.search(r'\\b\\d{4}\\b', text)\n",
    "    return match.group() if match else None"
   ]
  },
  {
   "cell_type": "code",
   "execution_count": 17,
   "id": "29c21ee1",
   "metadata": {},
   "outputs": [],
   "source": [
    "def robust_number_generation(topic, max_attempts=3):\n",
    "    \"\"\"Generate a topic-related number with validation and error handling.\n",
    "\n",
    "    Args:\n",
    "        topic (str): The topic to generate a number for.\n",
    "        max_attempts (int): Maximum number of generation attempts.\n",
    "\n",
    "    Returns:\n",
    "        str: A validated 4-digit number or an error message.\n",
    "    \"\"\"\n",
    "    for attempt in range(max_attempts):\n",
    "        try:\n",
    "            response = (generate_prompt | llm).invoke({\"topic\": topic}).content\n",
    "            number = extract_number(response)\n",
    "            \n",
    "            if not number:\n",
    "                raise ValueError(f\"Failed to extract a 4-digit number from the response: {response}\")\n",
    "            \n",
    "            # Validate the relevance\n",
    "            validation = (validate_prompt | llm).invoke({\"number\": number, \"topic\": topic}).content\n",
    "            if validation.lower().startswith(\"yes\"):\n",
    "                return number\n",
    "            else:\n",
    "                print(f\"Attempt {attempt + 1}: Number {number} was not validated. Reason: {validation}\")\n",
    "        except Exception as e:\n",
    "            print(f\"Attempt {attempt + 1} failed: {str(e)}\")\n",
    "    \n",
    "    return \"Failed to generate a valid number after multiple attempts.\""
   ]
  },
  {
   "cell_type": "code",
   "execution_count": 18,
   "id": "8a5c1347",
   "metadata": {},
   "outputs": [
    {
     "name": "stdout",
     "output_type": "stream",
     "text": [
      "Final result for topic 'World War II': 1945\n"
     ]
    }
   ],
   "source": [
    "topic = \"World War II\"\n",
    "result = robust_number_generation(topic)\n",
    "print(f\"Final result for topic '{topic}': {result}\")"
   ]
  },
  {
   "cell_type": "code",
   "execution_count": null,
   "id": "fb4a2937",
   "metadata": {},
   "outputs": [],
   "source": []
  }
 ],
 "metadata": {
  "kernelspec": {
   "display_name": ".venv",
   "language": "python",
   "name": "python3"
  },
  "language_info": {
   "codemirror_mode": {
    "name": "ipython",
    "version": 3
   },
   "file_extension": ".py",
   "mimetype": "text/x-python",
   "name": "python",
   "nbconvert_exporter": "python",
   "pygments_lexer": "ipython3",
   "version": "3.13.3"
  }
 },
 "nbformat": 4,
 "nbformat_minor": 5
}
