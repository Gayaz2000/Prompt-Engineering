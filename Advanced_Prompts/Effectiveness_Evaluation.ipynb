{
 "cells": [
  {
   "cell_type": "markdown",
   "id": "fdc6a8b9",
   "metadata": {},
   "source": [
    "# Prompt Effectiveness Evaluation"
   ]
  },
  {
   "cell_type": "code",
   "execution_count": 1,
   "id": "f0f04e24",
   "metadata": {},
   "outputs": [],
   "source": [
    "import os\n",
    "from dotenv import load_dotenv\n",
    "load_dotenv()\n",
    "\n",
    "os.environ[\"GROQ_API_KEY\"] = os.getenv(\"GROQ_API_KEY\")"
   ]
  },
  {
   "cell_type": "code",
   "execution_count": 2,
   "id": "af9004fa",
   "metadata": {},
   "outputs": [],
   "source": [
    "from langchain_groq import ChatGroq\n",
    "from langchain_core.prompts import PromptTemplate\n",
    "\n",
    "llm = ChatGroq(model=\"llama3-8b-8192\", max_tokens=1000)"
   ]
  },
  {
   "cell_type": "code",
   "execution_count": 3,
   "id": "ee2c1a50",
   "metadata": {},
   "outputs": [
    {
     "name": "stderr",
     "output_type": "stream",
     "text": [
      "d:\\My Files\\Prompt-Engineering\\.venv\\Lib\\site-packages\\tqdm\\auto.py:21: TqdmWarning: IProgress not found. Please update jupyter and ipywidgets. See https://ipywidgets.readthedocs.io/en/stable/user_install.html\n",
      "  from .autonotebook import tqdm as notebook_tqdm\n"
     ]
    }
   ],
   "source": [
    "from sklearn.metrics.pairwise import cosine_similarity\n",
    "from sentence_transformers import SentenceTransformer\n",
    "import numpy as np\n",
    "\n",
    "sentence_model = SentenceTransformer('all-MiniLM-L6-v2')\n",
    "\n",
    "def semantic_similarity(text1, text2):\n",
    "    \"\"\"Calculate semantic similarity between two texts using cosine similarity.\"\"\"\n",
    "    embeddings = sentence_model.encode([text1, text2])\n",
    "    return cosine_similarity([embeddings[0]], [embeddings[1]])[0][0]"
   ]
  },
  {
   "cell_type": "markdown",
   "id": "edcfe413",
   "metadata": {},
   "source": [
    "#Metrics for Measuring Prompt Performance"
   ]
  },
  {
   "cell_type": "code",
   "execution_count": 4,
   "id": "d40ca68a",
   "metadata": {},
   "outputs": [],
   "source": [
    "def relevance_score(response, expected_content):\n",
    "    \"\"\"Calculate relevance score based on semantic similarity to expected content.\"\"\"\n",
    "    return semantic_similarity(response, expected_content)"
   ]
  },
  {
   "cell_type": "code",
   "execution_count": 5,
   "id": "90f319fc",
   "metadata": {},
   "outputs": [],
   "source": [
    "def consistency_score(responses):\n",
    "    \"\"\"Calculate consistency score based on similarity between multiple responses.\"\"\"\n",
    "    if len(responses) < 2:\n",
    "        return 1.0  # Perfect consistency if there's only one response\n",
    "    similarities = []\n",
    "    for i in range(len(responses)):\n",
    "        for j in range(i+1, len(responses)):\n",
    "            similarities.append(semantic_similarity(responses[i], responses[j]))\n",
    "    return np.mean(similarities)"
   ]
  },
  {
   "cell_type": "code",
   "execution_count": 6,
   "id": "35da565b",
   "metadata": {},
   "outputs": [],
   "source": [
    "def specificity_score(response):\n",
    "    \"\"\"Calculate specificity score based on response length and unique word count.\"\"\"\n",
    "    words = response.split()\n",
    "    unique_words = set(words)\n",
    "    return len(unique_words) / len(words) if words else 0"
   ]
  },
  {
   "cell_type": "markdown",
   "id": "6f5a48d6",
   "metadata": {},
   "source": [
    "#Manual Evaluation Techniques"
   ]
  },
  {
   "cell_type": "code",
   "execution_count": 7,
   "id": "3c47e6a1",
   "metadata": {},
   "outputs": [],
   "source": [
    "def manual_evaluation(prompt, response, criteria):\n",
    "    \"\"\"Simulate manual evaluation of a prompt-response pair.\"\"\"\n",
    "    print(f\"Prompt: {prompt}\")\n",
    "    print(f\"Response: {response}\")\n",
    "    print(\"\\nEvaluation Criteria:\")\n",
    "    for criterion in criteria:\n",
    "        score = float(input(f\"Score for {criterion} (0-10): \"))\n",
    "        print(f\"{criterion}: {score}/10\")\n",
    "    print(\"\\nAdditional Comments:\")\n",
    "    comments = input(\"Enter any additional comments: \")\n",
    "    print(f\"Comments: {comments}\")"
   ]
  },
  {
   "cell_type": "code",
   "execution_count": 8,
   "id": "ea09df98",
   "metadata": {},
   "outputs": [
    {
     "name": "stdout",
     "output_type": "stream",
     "text": [
      "Prompt: Explain the concept of machine learning in simple terms.\n",
      "Response: Machine learning is a way for computers to learn and improve on their own, without being explicitly programmed. Here's a simple explanation:\n",
      "\n",
      "Imagine you're trying to teach a child to recognize different types of animals. You show them a picture of a cat, and say \"this is a cat.\" Then, you show them a picture of a dog, and say \"this is a dog.\" The child looks at the pictures and tries to figure out what makes a cat different from a dog.\n",
      "\n",
      "As the child sees more and more pictures, they start to notice patterns. They might notice that cats have pointy ears and dogs have floppy ears. They might notice that cats are usually small and dogs are usually big. The child is learning from the pictures, and their brain is forming connections between the different features they see.\n",
      "\n",
      "Machine learning is similar, but instead of a child, it's a computer program that's learning from data. The data is like a big collection of pictures, and the program is trying to figure out what patterns and connections it can make.\n",
      "\n",
      "Here's how it works:\n",
      "\n",
      "1. The program is given a set of data, like a bunch of pictures of animals.\n",
      "2. The program looks at the data and tries to figure out what patterns and connections it can make.\n",
      "3. The program uses this information to make predictions or decisions, like \"this is a cat\" or \"this is a dog.\"\n",
      "4. The program is then given new data, and it uses what it learned from the previous data to make predictions on the new data.\n",
      "5. The program keeps learning and improving as it sees more and more data.\n",
      "\n",
      "Machine learning is used in lots of different ways, like:\n",
      "\n",
      "* Image recognition: computers can recognize objects in pictures, like faces, animals, or cars.\n",
      "* Speech recognition: computers can recognize spoken words and phrases.\n",
      "* Predictive maintenance: computers can predict when a machine might break down and need maintenance.\n",
      "* Personalized recommendations: computers can suggest products or services based on a person's preferences.\n",
      "\n",
      "Overall, machine learning is a powerful tool that allows computers to learn and improve without being explicitly programmed. It's like teaching a child to recognize different animals, but instead of a child, it's a computer program!\n",
      "\n",
      "Evaluation Criteria:\n",
      "Clarity: 4.0/10\n",
      "Accuracy: 4.0/10\n",
      "Simplicity: 7.0/10\n",
      "\n",
      "Additional Comments:\n",
      "Comments: Can improve more including examples\n"
     ]
    }
   ],
   "source": [
    "prompt = \"Explain the concept of machine learning in simple terms.\"\n",
    "response = llm.invoke(prompt).content\n",
    "criteria = [\"Clarity\", \"Accuracy\", \"Simplicity\"]\n",
    "manual_evaluation(prompt, response, criteria)"
   ]
  },
  {
   "cell_type": "markdown",
   "id": "99e0cbb5",
   "metadata": {},
   "source": [
    "#Automated Evaluation Techniques"
   ]
  },
  {
   "cell_type": "code",
   "execution_count": 9,
   "id": "d67b20c5",
   "metadata": {},
   "outputs": [],
   "source": [
    "def automated_evaluation(prompt, response, expected_content):\n",
    "    \"\"\"Perform automated evaluation of a prompt-response pair.\"\"\"\n",
    "    relevance = relevance_score(response, expected_content)\n",
    "    specificity = specificity_score(response)\n",
    "    \n",
    "    print(f\"Prompt: {prompt}\")\n",
    "    print(f\"Response: {response}\")\n",
    "    print(f\"\\nRelevance Score: {relevance:.2f}\")\n",
    "    print(f\"Specificity Score: {specificity:.2f}\")\n",
    "    \n",
    "    return {\"relevance\": relevance, \"specificity\": specificity}"
   ]
  },
  {
   "cell_type": "code",
   "execution_count": 10,
   "id": "dd812545",
   "metadata": {},
   "outputs": [
    {
     "name": "stdout",
     "output_type": "stream",
     "text": [
      "Prompt: What are the three main types of machine learning?\n",
      "Response: The three main types of machine learning are:\n",
      "\n",
      "1. **Supervised Learning**: In supervised learning, the algorithm is trained on labeled data, meaning that each example in the training data is accompanied by a target or response variable. The goal is to learn a mapping between input data and output labels, so that the algorithm can make predictions on new, unseen data. Examples of supervised learning tasks include image classification, speech recognition, and sentiment analysis.\n",
      "2. **Unsupervised Learning**: In unsupervised learning, the algorithm is trained on unlabeled data, and the goal is to discover patterns or structure in the data. This type of learning is often used for clustering, dimensionality reduction, and anomaly detection. Examples of unsupervised learning tasks include customer segmentation, recommender systems, and image segmentation.\n",
      "3. **Reinforcement Learning**: In reinforcement learning, the algorithm learns by interacting with an environment and receiving rewards or penalties for its actions. The goal is to learn a policy that maximizes the cumulative reward over time. This type of learning is often used for tasks such as game playing, robotics, and autonomous driving. Examples of reinforcement learning tasks include playing chess, navigating a maze, and controlling a robotic arm.\n",
      "\n",
      "These three types of machine learning are not mutually exclusive, and many real-world applications involve a combination of supervised, unsupervised, and reinforcement learning techniques.\n",
      "\n",
      "Relevance Score: 0.79\n",
      "Specificity Score: 0.58\n"
     ]
    },
    {
     "data": {
      "text/plain": [
       "{'relevance': np.float32(0.7931731), 'specificity': 0.5844748858447488}"
      ]
     },
     "execution_count": 10,
     "metadata": {},
     "output_type": "execute_result"
    }
   ],
   "source": [
    "prompt = \"What are the three main types of machine learning?\"\n",
    "expected_content = \"The three main types of machine learning are supervised learning, unsupervised learning, and reinforcement learning.\"\n",
    "response = llm.invoke(prompt).content\n",
    "automated_evaluation(prompt, response, expected_content)"
   ]
  },
  {
   "cell_type": "markdown",
   "id": "8640da0a",
   "metadata": {},
   "source": [
    "#Comparitive Analysis"
   ]
  },
  {
   "cell_type": "code",
   "execution_count": 11,
   "id": "ade39fab",
   "metadata": {},
   "outputs": [],
   "source": [
    "def compare_prompts(prompts, expected_content):\n",
    "    \"\"\"Compare the effectiveness of multiple prompts for the same task.\"\"\"\n",
    "    results = []\n",
    "    for prompt in prompts:\n",
    "        response = llm.invoke(prompt).content\n",
    "        evaluation = automated_evaluation(prompt, response, expected_content)\n",
    "        results.append({\"prompt\": prompt, **evaluation})\n",
    "    \n",
    "    # Sort results by relevance score\n",
    "    sorted_results = sorted(results, key=lambda x: x['relevance'], reverse=True)\n",
    "    \n",
    "    print(\"Prompt Comparison Results:\")\n",
    "    for i, result in enumerate(sorted_results, 1):\n",
    "        print(f\"\\n{i}. Prompt: {result['prompt']}\")\n",
    "        print(f\"   Relevance: {result['relevance']:.2f}\")\n",
    "        print(f\"   Specificity: {result['specificity']:.2f}\")\n",
    "    \n",
    "    return sorted_results"
   ]
  },
  {
   "cell_type": "code",
   "execution_count": 12,
   "id": "8d201fe6",
   "metadata": {},
   "outputs": [
    {
     "name": "stdout",
     "output_type": "stream",
     "text": [
      "Prompt: List the types of machine learning.\n",
      "Response: Here are the main types of machine learning:\n",
      "\n",
      "1. **Supervised Learning**: In this type of learning, the algorithm is trained on labeled data, where the output is already known. The goal is to learn a mapping between input data and output labels, so the algorithm can make predictions on new, unseen data.\n",
      "\n",
      "Example: Image classification, sentiment analysis, spam detection\n",
      "\n",
      "2. **Unsupervised Learning**: In this type of learning, the algorithm is trained on unlabeled data, and it must find patterns or structure in the data on its own. The goal is to discover hidden relationships or groupings in the data.\n",
      "\n",
      "Example: Clustering, dimensionality reduction, anomaly detection\n",
      "\n",
      "3. **Reinforcement Learning**: In this type of learning, the algorithm learns by interacting with an environment and receiving feedback in the form of rewards or penalties. The goal is to learn a policy that maximizes the rewards and minimizes the penalties.\n",
      "\n",
      "Example: Game playing (e.g., Go, Chess), robotics, autonomous driving\n",
      "\n",
      "4. **Semi-Supervised Learning**: In this type of learning, the algorithm is trained on a combination of labeled and unlabeled data. The labeled data helps the algorithm learn the structure of the data, while the unlabeled data provides additional information to improve the algorithm's performance.\n",
      "\n",
      "Example: Sentiment analysis, image classification, natural language processing\n",
      "\n",
      "5. **Deep Learning**: A subfield of machine learning, deep learning involves the use of artificial neural networks with multiple layers to learn complex patterns in data. Deep learning is particularly effective for tasks such as image, speech, and natural language processing.\n",
      "\n",
      "Example: Image recognition, speech recognition, natural language processing\n",
      "\n",
      "6. **Transfer Learning**: In this type of learning, a pre-trained model is fine-tuned on a new dataset to adapt to a specific task or domain. Transfer learning is useful when there is limited data available for a specific task or when the task is similar to a previously learned task.\n",
      "\n",
      "Example: Image classification, speech recognition, natural language processing\n",
      "\n",
      "7. **Online Learning**: In this type of learning, the algorithm learns from data as it arrives, without storing the entire dataset in memory. Online learning is useful when the dataset is too large to fit in memory or when the data is streaming in real-time.\n",
      "\n",
      "Example: Ad targeting, recommendation systems, anomaly detection\n",
      "\n",
      "8. **Active Learning**: In this type of learning, the algorithm selects the most informative data points to label, rather than relying on random sampling or uniform sampling. Active learning is useful when labeling data is expensive or time-consuming.\n",
      "\n",
      "Example: Image classification, sentiment analysis, natural language processing\n",
      "\n",
      "9. **Transfer Learning with Domain Adaptation**: In this type of learning, a pre-trained model is fine-tuned on a new dataset from a different domain, such as a different language or a different style of writing. Domain adaptation is useful when the new dataset has a different distribution than the original dataset.\n",
      "\n",
      "Example: Machine translation, sentiment analysis, text summarization\n",
      "\n",
      "10. **Explainable AI (XAI)**: In this type of learning, the algorithm provides insights into its decision-making process, so humans can understand why it made a particular prediction or recommendation. XAI is useful when transparency and interpretability are important, such as in healthcare or finance.\n",
      "\n",
      "Example: Medical diagnosis, credit risk assessment, customer service chatbots\n",
      "\n",
      "Relevance Score: 0.82\n",
      "Specificity Score: 0.46\n",
      "Prompt: What are the main categories of machine learning algorithms?\n",
      "Response: Machine learning algorithms can be broadly categorized into three main categories:\n",
      "\n",
      "1. **Supervised Learning**: In this category, the algorithm is trained on labeled data, where each example is associated with a target output or response variable. The goal is to learn a mapping between input data and output labels, so the algorithm can make accurate predictions on new, unseen data. Examples of supervised learning algorithms include:\n",
      "\t* Linear Regression\n",
      "\t* Logistic Regression\n",
      "\t* Decision Trees\n",
      "\t* Random Forest\n",
      "\t* Support Vector Machines (SVMs)\n",
      "\t* Neural Networks\n",
      "2. **Unsupervised Learning**: In this category, the algorithm is trained on unlabeled data, and the goal is to discover patterns, relationships, or structure in the data. Examples of unsupervised learning algorithms include:\n",
      "\t* K-Means Clustering\n",
      "\t* Hierarchical Clustering\n",
      "\t* Principal Component Analysis (PCA)\n",
      "\t* t-Distributed Stochastic Neighbor Embedding (t-SNE)\n",
      "\t* DBSCAN (Density-Based Spatial Clustering of Applications with Noise)\n",
      "3. **Reinforcement Learning**: In this category, the algorithm learns by interacting with an environment and receiving rewards or penalties for its actions. The goal is to learn a policy that maximizes the cumulative reward over time. Examples of reinforcement learning algorithms include:\n",
      "\t* Q-Learning\n",
      "\t* SARSA\n",
      "\t* Deep Q-Networks (DQN)\n",
      "\t* Policy Gradient Methods\n",
      "\t* Actor-Critic Methods\n",
      "\n",
      "These categories are not mutually exclusive, and many algorithms blend elements from multiple categories. For example, some algorithms may use supervised learning to learn an initial model and then fine-tune it using reinforcement learning.\n",
      "\n",
      "Additionally, machine learning algorithms can also be categorized based on their approach, such as:\n",
      "\n",
      "* **Traditional Machine Learning**: Uses hand-engineered features and algorithms to learn from data.\n",
      "* **Deep Learning**: Uses neural networks with multiple layers to learn complex patterns and relationships from data.\n",
      "* **Transfer Learning**: Uses pre-trained models and fine-tunes them on a new task or dataset.\n",
      "* **Online Learning**: Learns from data as it arrives, without requiring the entire dataset to be present initially.\n",
      "\n",
      "These categories are not exhaustive, and new subfields and categories are emerging as machine learning continues to evolve.\n",
      "\n",
      "Relevance Score: 0.73\n",
      "Specificity Score: 0.58\n",
      "Prompt: Explain the different approaches to machine learning.\n",
      "Response: There are several approaches to machine learning, each with its own strengths, weaknesses, and applications. Here are some of the most common approaches:\n",
      "\n",
      "1. **Supervised Learning**: In this approach, the machine learning algorithm is trained on labeled data, where the correct output is already known. The goal is to learn a mapping between input data and output labels, so that the algorithm can make accurate predictions on new, unseen data. Examples of supervised learning algorithms include linear regression, logistic regression, decision trees, and support vector machines.\n",
      "2. **Unsupervised Learning**: In this approach, the machine learning algorithm is trained on unlabeled data, and the goal is to discover patterns, relationships, or structure in the data. Examples of unsupervised learning algorithms include k-means clustering, hierarchical clustering, and principal component analysis (PCA).\n",
      "3. **Reinforcement Learning**: In this approach, the machine learning algorithm learns by interacting with an environment and receiving feedback in the form of rewards or penalties. The goal is to learn a policy that maximizes the cumulative reward over time. Examples of reinforcement learning algorithms include Q-learning, SARSA, and deep Q-networks.\n",
      "4. **Semi-supervised Learning**: In this approach, the machine learning algorithm is trained on a combination of labeled and unlabeled data. The goal is to leverage the labeled data to improve the performance on the unlabeled data. Examples of semi-supervised learning algorithms include graph-based methods, self-training, and co-training.\n",
      "5. **Deep Learning**: In this approach, the machine learning algorithm uses artificial neural networks with multiple layers to learn complex representations of data. Deep learning is a subset of supervised learning, but it has become a popular approach in its own right, particularly in applications such as computer vision, natural language processing, and speech recognition. Examples of deep learning algorithms include convolutional neural networks (CNNs), recurrent neural networks (RNNs), and long short-term memory (LSTM) networks.\n",
      "6. **Ensemble Methods**: In this approach, the machine learning algorithm combines the predictions of multiple base models to improve the overall performance. Examples of ensemble methods include bagging, boosting, and stacking.\n",
      "7. **Transfer Learning**: In this approach, the machine learning algorithm uses a pre-trained model as a starting point and fine-tunes it on a new task. Transfer learning is particularly useful when the new task is similar to the one used to train the pre-trained model. Examples of transfer learning include using a pre-trained CNN as a feature extractor for a new classification task.\n",
      "8. **Generative Adversarial Networks (GANs)**: In this approach, the machine learning algorithm uses a generator network to generate new data samples that are similar to the training data, and a discriminator network to distinguish between the generated samples and the real training data. GANs are often used for tasks such as image generation, data augmentation, and style transfer.\n",
      "9. **Online Learning**: In this approach, the machine learning algorithm learns from a stream of data, where each data point is processed one at a time. Online learning is particularly useful when the data is constantly changing or when the algorithm needs to learn from a large dataset in a limited amount of time. Examples of online learning algorithms include online gradient descent and online passive-aggressive algorithms.\n",
      "10. **Explainable AI (XAI)**: In this approach, the machine learning algorithm is designed to provide insights into its decision-making process, making it more transparent and trustworthy. XAI is particularly important in applications where the algorithm's decisions have significant consequences, such as healthcare, finance, and law enforcement.\n",
      "\n",
      "These are just a few of the many approaches to machine learning, and each has its own strengths and weaknesses. The choice of approach depends on the specific problem, data, and requirements of the project.\n",
      "\n",
      "Relevance Score: 0.72\n",
      "Specificity Score: 0.46\n",
      "Prompt Comparison Results:\n",
      "\n",
      "1. Prompt: List the types of machine learning.\n",
      "   Relevance: 0.82\n",
      "   Specificity: 0.46\n",
      "\n",
      "2. Prompt: What are the main categories of machine learning algorithms?\n",
      "   Relevance: 0.73\n",
      "   Specificity: 0.58\n",
      "\n",
      "3. Prompt: Explain the different approaches to machine learning.\n",
      "   Relevance: 0.72\n",
      "   Specificity: 0.46\n"
     ]
    },
    {
     "data": {
      "text/plain": [
       "[{'prompt': 'List the types of machine learning.',\n",
       "  'relevance': np.float32(0.82228476),\n",
       "  'specificity': 0.4608030592734226},\n",
       " {'prompt': 'What are the main categories of machine learning algorithms?',\n",
       "  'relevance': np.float32(0.73073),\n",
       "  'specificity': 0.5818181818181818},\n",
       " {'prompt': 'Explain the different approaches to machine learning.',\n",
       "  'relevance': np.float32(0.7171119),\n",
       "  'specificity': 0.4584717607973422}]"
      ]
     },
     "execution_count": 12,
     "metadata": {},
     "output_type": "execute_result"
    }
   ],
   "source": [
    "prompts = [\n",
    "    \"List the types of machine learning.\",\n",
    "    \"What are the main categories of machine learning algorithms?\",\n",
    "    \"Explain the different approaches to machine learning.\"\n",
    "]\n",
    "expected_content = \"The main types of machine learning are supervised learning, unsupervised learning, and reinforcement learning.\"\n",
    "compare_prompts(prompts, expected_content)"
   ]
  },
  {
   "cell_type": "markdown",
   "id": "64bcdea9",
   "metadata": {},
   "source": [
    "#All Together"
   ]
  },
  {
   "cell_type": "code",
   "execution_count": 13,
   "id": "3daa3f13",
   "metadata": {},
   "outputs": [],
   "source": [
    "def evaluate_prompt(prompt, expected_content, manual_criteria=['Clarity', 'Accuracy', 'Relevance']):\n",
    "    \"\"\"Perform a comprehensive evaluation of a prompt using both manual and automated techniques.\"\"\"\n",
    "    response = llm.invoke(prompt).content\n",
    "    \n",
    "    print(\"Automated Evaluation:\")\n",
    "    auto_results = automated_evaluation(prompt, response, expected_content)\n",
    "    \n",
    "    print(\"\\nManual Evaluation:\")\n",
    "    manual_evaluation(prompt, response, manual_criteria)\n",
    "    \n",
    "    return {\"prompt\": prompt, \"response\": response, **auto_results}"
   ]
  },
  {
   "cell_type": "code",
   "execution_count": 14,
   "id": "e6d71d21",
   "metadata": {},
   "outputs": [
    {
     "name": "stdout",
     "output_type": "stream",
     "text": [
      "Automated Evaluation:\n",
      "Prompt: Explain the concept of overfitting in machine learning.\n",
      "Response: Overfitting is a common problem in machine learning where a model becomes too specialized in fitting the training data, resulting in poor performance on new, unseen data. In other words, the model becomes too complex and starts to memorize the training data rather than learning generalizable patterns.\n",
      "\n",
      "Here are some key characteristics of overfitting:\n",
      "\n",
      "1. **High training accuracy**: The model performs very well on the training data, often with high accuracy.\n",
      "2. **Poor generalization**: The model performs poorly on new, unseen data, including validation and test sets.\n",
      "3. **High variance**: The model is highly sensitive to small changes in the training data, making it prone to overfitting.\n",
      "\n",
      "Overfitting occurs when a model is too complex, such as:\n",
      "\n",
      "1. **Too many parameters**: A model with too many parameters can fit the noise in the training data, leading to overfitting.\n",
      "2. **Too much regularization**: If the regularization strength is too low, the model may become overfitting to the training data.\n",
      "3. **Too many features**: A model that includes too many features may overfit the training data, especially if the features are highly correlated.\n",
      "\n",
      "Symptoms of overfitting:\n",
      "\n",
      "1. **High training accuracy, low validation accuracy**: The model performs well on the training data but poorly on the validation set.\n",
      "2. **Model is highly complex**: The model includes many parameters, layers, or features that are not necessary for the task.\n",
      "3. **Model is too dependent on the training data**: The model performs well only on the training data and generalizes poorly to new data.\n",
      "\n",
      "To combat overfitting, machine learning practitioners use various techniques, such as:\n",
      "\n",
      "1. **Regularization**: Adding a penalty term to the loss function to discourage complex models.\n",
      "2. **Early stopping**: Stopping the training process when the model starts to overfit.\n",
      "3. **Data augmentation**: Increasing the size of the training data by applying transformations to the existing data.\n",
      "4. **Ensemble methods**: Combining multiple models to reduce overfitting.\n",
      "5. **Feature selection**: Selecting a subset of the most relevant features to reduce the model's complexity.\n",
      "\n",
      "By recognizing the signs of overfitting and using these techniques, machine learning practitioners can build models that generalize well to new data and make accurate predictions.\n",
      "\n",
      "Relevance Score: 0.79\n",
      "Specificity Score: 0.50\n",
      "\n",
      "Manual Evaluation:\n",
      "Prompt: Explain the concept of overfitting in machine learning.\n",
      "Response: Overfitting is a common problem in machine learning where a model becomes too specialized in fitting the training data, resulting in poor performance on new, unseen data. In other words, the model becomes too complex and starts to memorize the training data rather than learning generalizable patterns.\n",
      "\n",
      "Here are some key characteristics of overfitting:\n",
      "\n",
      "1. **High training accuracy**: The model performs very well on the training data, often with high accuracy.\n",
      "2. **Poor generalization**: The model performs poorly on new, unseen data, including validation and test sets.\n",
      "3. **High variance**: The model is highly sensitive to small changes in the training data, making it prone to overfitting.\n",
      "\n",
      "Overfitting occurs when a model is too complex, such as:\n",
      "\n",
      "1. **Too many parameters**: A model with too many parameters can fit the noise in the training data, leading to overfitting.\n",
      "2. **Too much regularization**: If the regularization strength is too low, the model may become overfitting to the training data.\n",
      "3. **Too many features**: A model that includes too many features may overfit the training data, especially if the features are highly correlated.\n",
      "\n",
      "Symptoms of overfitting:\n",
      "\n",
      "1. **High training accuracy, low validation accuracy**: The model performs well on the training data but poorly on the validation set.\n",
      "2. **Model is highly complex**: The model includes many parameters, layers, or features that are not necessary for the task.\n",
      "3. **Model is too dependent on the training data**: The model performs well only on the training data and generalizes poorly to new data.\n",
      "\n",
      "To combat overfitting, machine learning practitioners use various techniques, such as:\n",
      "\n",
      "1. **Regularization**: Adding a penalty term to the loss function to discourage complex models.\n",
      "2. **Early stopping**: Stopping the training process when the model starts to overfit.\n",
      "3. **Data augmentation**: Increasing the size of the training data by applying transformations to the existing data.\n",
      "4. **Ensemble methods**: Combining multiple models to reduce overfitting.\n",
      "5. **Feature selection**: Selecting a subset of the most relevant features to reduce the model's complexity.\n",
      "\n",
      "By recognizing the signs of overfitting and using these techniques, machine learning practitioners can build models that generalize well to new data and make accurate predictions.\n",
      "\n",
      "Evaluation Criteria:\n",
      "Clarity: 4.0/10\n",
      "Accuracy: 4.0/10\n",
      "Relevance: 4.0/10\n",
      "\n",
      "Additional Comments:\n",
      "Comments: gggsgs\n"
     ]
    },
    {
     "data": {
      "text/plain": [
       "{'prompt': 'Explain the concept of overfitting in machine learning.',\n",
       " 'response': \"Overfitting is a common problem in machine learning where a model becomes too specialized in fitting the training data, resulting in poor performance on new, unseen data. In other words, the model becomes too complex and starts to memorize the training data rather than learning generalizable patterns.\\n\\nHere are some key characteristics of overfitting:\\n\\n1. **High training accuracy**: The model performs very well on the training data, often with high accuracy.\\n2. **Poor generalization**: The model performs poorly on new, unseen data, including validation and test sets.\\n3. **High variance**: The model is highly sensitive to small changes in the training data, making it prone to overfitting.\\n\\nOverfitting occurs when a model is too complex, such as:\\n\\n1. **Too many parameters**: A model with too many parameters can fit the noise in the training data, leading to overfitting.\\n2. **Too much regularization**: If the regularization strength is too low, the model may become overfitting to the training data.\\n3. **Too many features**: A model that includes too many features may overfit the training data, especially if the features are highly correlated.\\n\\nSymptoms of overfitting:\\n\\n1. **High training accuracy, low validation accuracy**: The model performs well on the training data but poorly on the validation set.\\n2. **Model is highly complex**: The model includes many parameters, layers, or features that are not necessary for the task.\\n3. **Model is too dependent on the training data**: The model performs well only on the training data and generalizes poorly to new data.\\n\\nTo combat overfitting, machine learning practitioners use various techniques, such as:\\n\\n1. **Regularization**: Adding a penalty term to the loss function to discourage complex models.\\n2. **Early stopping**: Stopping the training process when the model starts to overfit.\\n3. **Data augmentation**: Increasing the size of the training data by applying transformations to the existing data.\\n4. **Ensemble methods**: Combining multiple models to reduce overfitting.\\n5. **Feature selection**: Selecting a subset of the most relevant features to reduce the model's complexity.\\n\\nBy recognizing the signs of overfitting and using these techniques, machine learning practitioners can build models that generalize well to new data and make accurate predictions.\",\n",
       " 'relevance': np.float32(0.7917907),\n",
       " 'specificity': 0.49859154929577465}"
      ]
     },
     "execution_count": 14,
     "metadata": {},
     "output_type": "execute_result"
    }
   ],
   "source": [
    "prompt = \"Explain the concept of overfitting in machine learning.\"\n",
    "expected_content = \"Overfitting occurs when a model learns the training data too well, including its noise and fluctuations, leading to poor generalization on new, unseen data.\"\n",
    "evaluate_prompt(prompt, expected_content)"
   ]
  },
  {
   "cell_type": "code",
   "execution_count": null,
   "id": "0bf5d703",
   "metadata": {},
   "outputs": [],
   "source": []
  }
 ],
 "metadata": {
  "kernelspec": {
   "display_name": ".venv",
   "language": "python",
   "name": "python3"
  },
  "language_info": {
   "codemirror_mode": {
    "name": "ipython",
    "version": 3
   },
   "file_extension": ".py",
   "mimetype": "text/x-python",
   "name": "python",
   "nbconvert_exporter": "python",
   "pygments_lexer": "ipython3",
   "version": "3.13.3"
  }
 },
 "nbformat": 4,
 "nbformat_minor": 5
}
