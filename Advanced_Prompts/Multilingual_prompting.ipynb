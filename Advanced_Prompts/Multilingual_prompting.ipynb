{
 "cells": [
  {
   "cell_type": "markdown",
   "id": "897c0f04",
   "metadata": {},
   "source": [
    "# MultiLingual Prompting"
   ]
  },
  {
   "cell_type": "code",
   "execution_count": 1,
   "id": "68ccd7ec",
   "metadata": {},
   "outputs": [],
   "source": [
    "import os\n",
    "from dotenv import load_dotenv\n",
    "load_dotenv()\n",
    "\n",
    "os.environ[\"GROQ_API_KEY\"] = os.getenv(\"GROQ_API_KEY\")"
   ]
  },
  {
   "cell_type": "code",
   "execution_count": 7,
   "id": "d75b60b6",
   "metadata": {},
   "outputs": [],
   "source": [
    "from langchain_groq import ChatGroq\n",
    "from langchain_core.prompts import PromptTemplate\n",
    "\n",
    "llm = ChatGroq(model=\"llama3-8b-8192\", max_tokens=1000)"
   ]
  },
  {
   "cell_type": "markdown",
   "id": "9ddaecea",
   "metadata": {},
   "source": [
    "#MultiLingual prompt design"
   ]
  },
  {
   "cell_type": "code",
   "execution_count": 9,
   "id": "66339f8a",
   "metadata": {},
   "outputs": [
    {
     "name": "stdout",
     "output_type": "stream",
     "text": [
      "Response in English:\n",
      "Hello! Welcome to our conversation.\n",
      "\n",
      "As we speak, it's a lovely day in the United Kingdom, where the English language is widely used. The UK is known for its changeable weather, but today, the sun is shining brightly over London, with a gentle breeze carrying the sweet scent of blooming flowers through the city streets. The temperature is a comfortable 18 degrees Celsius, making it a perfect day to take a stroll along the Thames River or visit one of the many iconic landmarks like Buckingham Palace or the Tower of London.\n",
      "\n",
      "I hope you're enjoying the weather wherever you are in the world. Is there anything else you'd like to chat about or ask about? I'm here to help!\n",
      "\n",
      "Response in Spanish:\n",
      "¡Hola! (Hello!)\n",
      "\n",
      "Bienvenido/a a nuestro chat sobre el clima en España. (Welcome to our chat about the weather in Spain.)\n",
      "\n",
      " Spain is a country with a diverse climate, ranging from the Mediterranean to the Atlantic coast. The weather can vary greatly depending on the region and season. In the summer, the temperature can reach up to 35°C (95°F) in the south, while in the north it can be around 20°C (68°F). In the winter, the temperature can drop to around 0°C (32°F) in the mountains.\n",
      "\n",
      "Let's talk about the weather in different regions of Spain.\n",
      "\n",
      "Response in French:\n",
      "Bonjour ! Welcome to our conversation. I'm delighted to chat with you.\n",
      "\n",
      "As we speak, the weather in Paris, the capital of France, is quite lovely. The sun is shining brightly, and the temperature is a comfortable 22 degrees Celsius. Although it's still a bit breezy, the city's famous Seine River is glistening in the sunlight, and the Eiffel Tower is standing tall and proud. It's a perfect day to take a stroll along the Champs-Élysées, visit the famous Louvre Museum, or simply sit in a charming café and enjoy a café au lait.\n",
      "\n",
      "What would you like to talk about? The weather, perhaps, or something else entirely?\n",
      "\n",
      "Response in German:\n",
      "Hallo! Willkommen!\n",
      "\n",
      "As you're speaking German, I thought I'd take you on a virtual tour of the weather in Germany, a country where German is the official language. Germany is a wonderful place with a temperate climate, characterized by four distinct seasons. In the winter, the weather can be quite chilly, with temperatures ranging from 25°F to 43°F (-4°C to 6°C). However, the winter is also a great time to enjoy the festive atmosphere, with Christmas markets and cozy cafes serving warm glühwein and lebkuchen.\n",
      "\n",
      "In the spring, Germany awakens from its winter slumber, with mild temperatures and beautiful blooming flowers. Summer is a popular time to visit, with warm weather and long days, perfect for exploring the many parks and gardens. And in the autumn, the foliage is simply stunning, with vibrant colors and cozy sweater weather.\n",
      "\n",
      "Whether you're looking for a romantic getaway, an action-packed adventure, or simply a relaxing break, Germany has something for everyone. So, what kind of weather are you in the mood for today?\n",
      "\n",
      "Response in Chinese:\n",
      "(nǐ hǎo) - Hello!\n",
      "\n",
      "I'm glad to chat with you today! As we speak, I'd like to introduce you to the beautiful country of China, where Mandarin Chinese is the official language. Did you know that China is a vast country with diverse climates? From the scorching hot deserts in the west to the freezing cold mountains in the north, and from the humid tropical south to the temperate central regions, China's weather is as varied as its landscapes.\n",
      "\n",
      "Currently, in the northern region of China, the weather is quite chilly, with temperatures ranging from 0 to 10 degrees Celsius (32 to 50 degrees Fahrenheit). The capital city, Beijing, is experiencing a typical winter day, with a mix of sunshine and cloudy skies. Meanwhile, in the southern province of Guangdong, the weather is still warm and humid, with temperatures reaching up to 20 degrees Celsius (68 degrees Fahrenheit).\n",
      "\n",
      "How about you? What's the weather like in your part of the world? Do you have a favorite season or a special weather-related experience you'd like to share?\n",
      "\n"
     ]
    }
   ],
   "source": [
    "multiligual_greeting = PromptTemplate(\n",
    "    input_variables=[\"language\"],\n",
    "    template=\"Greet the user in {language} and provide a short introduction about the weather in a country where this language is spoken.\"\n",
    ")\n",
    "\n",
    "languages = [\"English\", \"Spanish\", \"French\", \"German\", \"Chinese\"]\n",
    "\n",
    "for lang in languages:\n",
    "    prompt = multiligual_greeting.format(language=lang)\n",
    "    response = llm.invoke(prompt)\n",
    "    print(f\"Response in {lang}:\\n{response.content}\\n\")"
   ]
  },
  {
   "cell_type": "markdown",
   "id": "a60a698f",
   "metadata": {},
   "source": [
    "#Language Detection and Adaptation"
   ]
  },
  {
   "cell_type": "code",
   "execution_count": 11,
   "id": "4d16ee7d",
   "metadata": {},
   "outputs": [
    {
     "name": "stdout",
     "output_type": "stream",
     "text": [
      "Input: Hello, how are you?\n",
      "Response: A simple one!\n",
      "\n",
      "After analyzing the input, I detect that the language is **English**.\n",
      "\n",
      "Here's my response in the same language:\n",
      "\n",
      "\"Good, thank you! How can I help you today?\"\n",
      "\n",
      "\n",
      "Input: Hola, ¿cómo estás?\n",
      "Response: What a lovely greeting!\n",
      "\n",
      "The detected language is: **Spanish**\n",
      "\n",
      "And here's my response in the same language:\n",
      "\n",
      "¡Estoy bien, gracias! ¿Y tú?\n",
      "\n",
      "\n",
      "Input: Bonjour, comment allez-vous ?\n",
      "Response: Bonjour ! Je vais bien, merci. Et vous ?\n",
      "\n",
      "\n",
      "Input: こんにちは、お元気ですか？\n",
      "Response: A lovely Japanese input! 😊\n",
      "\n",
      "The language detected is Japanese.\n",
      "\n",
      "Here's a response in the same language:\n",
      "\n",
      "元気です！明日もいい天気ですね。\n",
      "\n",
      "(Translation: I'm fine! The weather tomorrow is supposed to be good too.)\n",
      "\n",
      "\n",
      "Input: Здравствуйте, как дела?\n",
      "Response: A Russian greeting!\n",
      "\n",
      "The language detected is Russian.\n",
      "\n",
      "Here's a response in the same language:\n",
      "\n",
      "Хорошо, спасибо! Как ты провёл день?\n",
      "\n",
      "Translation: Good, thank you! How was your day?\n",
      "\n",
      "\n"
     ]
    }
   ],
   "source": [
    "language_adaptive_prompt = PromptTemplate(\n",
    "    input_variables=[\"user_input\"],\n",
    "    template=\"\"\"Detect the language in the following input {user_input} and respond in the same language.\n",
    "    User Input: {user_input}\n",
    "    Your response (in detected laguage)\n",
    "    \"\"\"\n",
    ")\n",
    "inputs = [\n",
    "    \"Hello, how are you?\",\n",
    "    \"Hola, ¿cómo estás?\",\n",
    "    \"Bonjour, comment allez-vous ?\",\n",
    "    \"こんにちは、お元気ですか？\",\n",
    "    \"Здравствуйте, как дела?\"\n",
    "]\n",
    "\n",
    "for i in inputs:\n",
    "    prompt = language_adaptive_prompt.format(user_input=i)\n",
    "    response = llm.invoke(prompt)\n",
    "    print(f\"Input: {i}\")\n",
    "    print(f\"Response: {response.content}\\n\")\n",
    "    print()"
   ]
  },
  {
   "cell_type": "markdown",
   "id": "061b2fc5",
   "metadata": {},
   "source": [
    "#CrossLingual Translation"
   ]
  },
  {
   "cell_type": "code",
   "execution_count": 12,
   "id": "b22a3147",
   "metadata": {},
   "outputs": [
    {
     "name": "stdout",
     "output_type": "stream",
     "text": [
      "Translation from English ---to---> French:\n",
      "Here is the translation of the text from English to French:\n",
      "\n",
      "Langue source: Anglais\n",
      "Langue cible: Français\n",
      "Texte: Le renard rapide brun saute par-dessus le chien paresseux.\n",
      "\n",
      "Let me know if you need anything else!\n",
      "\n",
      "Translation from Spanish ---to---> German:\n",
      "Here is the translation of the text from Spanish to German:\n",
      "\n",
      "Quelle Sprache: Spanisch\n",
      "Ziel Sprache: Deutsch\n",
      "Text: Das Leben ist schön.\n",
      "\n",
      "Note: The translation is quite literal, and the phrase \"La vida es bella\" is often used in Spanish to express that life is beautiful or wonderful. The German translation \"Das Leben ist schön\" also conveys a similar meaning.\n",
      "\n",
      "Translation from Japanese ---to---> English:\n",
      "The translation of the text is:\n",
      "\n",
      "\"The cherry blossoms are in full bloom.\"\n",
      "\n",
      "(Note: \"桜\" is a specific type of cherry blossom in Japanese, and \"満開\" is a phrase that means \"in full bloom\" or \"fully opened\".)\n",
      "\n"
     ]
    }
   ],
   "source": [
    "translation_prompt = PromptTemplate(\n",
    "    input_variables=[\"source_language\", \"target_language\", \"text\"],\n",
    "    template=\"\"\"Translate the following text from {source_language} to {target_language}:\n",
    "    Source Language: {source_language}\n",
    "    Target Language: {target_language}\n",
    "    Text: {text}\"\"\"\n",
    ")\n",
    "\n",
    "translations = [\n",
    "    {\"source_lang\": \"English\", \"target_lang\": \"French\", \"text\": \"The quick brown fox jumps over the lazy dog.\"},\n",
    "    {\"source_lang\": \"Spanish\", \"target_lang\": \"German\", \"text\": \"La vida es bella.\"},\n",
    "    {\"source_lang\": \"Japanese\", \"target_lang\": \"English\", \"text\": \"桜の花が満開です。\"}\n",
    "]\n",
    "\n",
    "for translation in translations:\n",
    "    prompt = translation_prompt.format(\n",
    "        source_language=translation[\"source_lang\"],\n",
    "        target_language=translation[\"target_lang\"],\n",
    "        text=translation[\"text\"]\n",
    "    )\n",
    "    response = llm.invoke(prompt)\n",
    "    print(f\"Translation from {translation['source_lang']} ---to---> {translation['target_lang']}:\")\n",
    "    print(response.content)\n",
    "    print()"
   ]
  },
  {
   "cell_type": "markdown",
   "id": "603410ac",
   "metadata": {},
   "source": [
    "#Handling Non-Lantin Scripts"
   ]
  },
  {
   "cell_type": "code",
   "execution_count": 13,
   "id": "496a5237",
   "metadata": {},
   "outputs": [
    {
     "name": "stdout",
     "output_type": "stream",
     "text": [
      "Text: こんにちは、世界 (Japanese)\n",
      "Response: Here is the information you requested:\n",
      "\n",
      "**1. Original text:** こんにちは、世界\n",
      "\n",
      "**2. Script/writing system:** Japanese (Kanji and Hiragana)\n",
      "\n",
      "**3. Transliteration to Latin alphabet:** Konnichiwa, sekai\n",
      "\n",
      "**4. English translation:** \"Hello, world\"\n",
      "\n",
      "Note: The Japanese text uses a combination of Kanji characters (), which are logograms that represent meaning, and Hiragana characters (), which are phonetic characters used to write Japanese words and grammar. The transliteration I provided is a phonetic approximation of the original text in the Latin alphabet, using the Hepburn romanization system, which is a common way to transcribe Japanese text into Latin characters.\n",
      "\n",
      "Text: Здравствуй, мир (Cyrillic)\n",
      "Response: Here is the information you requested:\n",
      "\n",
      "1. **Original text**: Здравствуй, мир\n",
      "2. **Script/writing system**: Cyrillic\n",
      "3. **Transliteration to Latin alphabet**: Zdravstvuy, mir\n",
      "4. **English translation**: Greetings, world!\n",
      "\n",
      "Note: The Cyrillic script is used in many languages, including Russian, Ukrainian, and Bulgarian. The text \"Здравствуй, мир\" is a common Russian greeting, which literally means \"Greetings, world!\".\n",
      "\n",
      "Text: नमस्ते दुनिया (Devanagari)\n",
      "Response: Here is the information you requested:\n",
      "\n",
      "**Original Text:** नमस्ते दुनिया\n",
      "\n",
      "**Script/Writing System:** Devanagari\n",
      "\n",
      "**Transliteration to Latin Alphabet:** Namaste Duniya\n",
      "\n",
      "**English Translation:** Hello World\n",
      "\n",
      "Note: Namaste is a Hindi greeting that roughly translates to \"I bow to the divine in you\" or \"Hello\", and Duniya means \"World\".\n",
      "\n"
     ]
    }
   ],
   "source": [
    "non_latin_prompt = PromptTemplate(\n",
    "    input_variables=[\"text\", \"scripts\"],\n",
    "    template=\"\"\"\n",
    "        Provide the following information for the given scripts:\n",
    "        1. Original text\n",
    "        2, The name of the script/writing system\n",
    "        3. A transliteration to latin alphabet.\n",
    "        4. An english translation\n",
    "\n",
    "        Text: {text}\n",
    "        Scripts: {scripts}\n",
    "    \"\"\"\n",
    ")\n",
    "\n",
    "non_latin_texts = [\n",
    "    {\"text\": \"こんにちは、世界\", \"script\": \"Japanese\"},\n",
    "    {\"text\": \"Здравствуй, мир\", \"script\": \"Cyrillic\"},\n",
    "    {\"text\": \"नमस्ते दुनिया\", \"script\": \"Devanagari\"}\n",
    "]\n",
    "\n",
    "for item in non_latin_texts:\n",
    "    prompt = non_latin_prompt.format(\n",
    "        text=item[\"text\"],\n",
    "        scripts=item[\"script\"]\n",
    "    )\n",
    "    response = llm.invoke(prompt)\n",
    "    print(f\"Text: {item['text']} ({item['script']})\")\n",
    "    print(f\"Response: {response.content}\\n\")"
   ]
  },
  {
   "cell_type": "code",
   "execution_count": null,
   "id": "7e258cb5",
   "metadata": {},
   "outputs": [],
   "source": []
  }
 ],
 "metadata": {
  "kernelspec": {
   "display_name": ".venv",
   "language": "python",
   "name": "python3"
  },
  "language_info": {
   "codemirror_mode": {
    "name": "ipython",
    "version": 3
   },
   "file_extension": ".py",
   "mimetype": "text/x-python",
   "name": "python",
   "nbconvert_exporter": "python",
   "pygments_lexer": "ipython3",
   "version": "3.13.3"
  }
 },
 "nbformat": 4,
 "nbformat_minor": 5
}
