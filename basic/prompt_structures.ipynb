{
 "cells": [
  {
   "cell_type": "code",
   "execution_count": 1,
   "id": "c56e02bc",
   "metadata": {},
   "outputs": [],
   "source": [
    "import os\n",
    "from dotenv import load_dotenv\n",
    "load_dotenv()\n",
    "\n",
    "os.environ[\"GROQ_API_KEY\"] = os.getenv(\"GROQ_API_KEY\")"
   ]
  },
  {
   "cell_type": "code",
   "execution_count": 2,
   "id": "de3bd2cd",
   "metadata": {},
   "outputs": [],
   "source": [
    "from langchain_groq import ChatGroq\n",
    "from langchain_core.prompts import PromptTemplate\n",
    "\n",
    "llm = ChatGroq(model=\"llama3-8b-8192\")"
   ]
  },
  {
   "cell_type": "code",
   "execution_count": 3,
   "id": "c3501d01",
   "metadata": {},
   "outputs": [],
   "source": [
    "from langchain_core.prompts import PromptTemplate\n",
    "from langchain.chains import ConversationChain\n",
    "from langchain.memory import ConversationBufferMemory"
   ]
  },
  {
   "cell_type": "code",
   "execution_count": 5,
   "id": "5c60be66",
   "metadata": {},
   "outputs": [
    {
     "name": "stdout",
     "output_type": "stream",
     "text": [
      "The three primary colors are:\n",
      "\n",
      "1. **Red**\n",
      "2. **Blue**\n",
      "3. **Yellow**\n",
      "\n",
      "These colors cannot be created by mixing other colors together, and they are the base colors used to create all other colors.\n"
     ]
    }
   ],
   "source": [
    "#Single-turn Conversation\n",
    "single_turn_prompt = \"What are the three primary colors?\"\n",
    "print(llm.invoke(single_turn_prompt).content)"
   ]
  },
  {
   "cell_type": "code",
   "execution_count": 7,
   "id": "b7414702",
   "metadata": {},
   "outputs": [
    {
     "name": "stdout",
     "output_type": "stream",
     "text": [
      "Color theory is a set of principles used to create harmonious color combinations and to understand the way colors interact with each other. It is based on the way colors are perceived by the human eye and brain, and it involves the study of color properties, such as hue, saturation, and value.\n",
      "\n",
      "The three main components of color theory are:\n",
      "\n",
      "1. **The Color Wheel**: A circular representation of colors, with primary colors (red, yellow, and blue) at the center. The color wheel shows how colors are related to each other and how they can be mixed to create secondary colors (orange, green, and purple).\n",
      "2. **Color Harmony**: The principle of creating pleasing color combinations by using colors that work well together. There are several principles of color harmony, including:\n",
      "\t* Monochromatic (using different shades of the same color)\n",
      "\t* Complementary (using colors that are opposite each other on the color wheel)\n",
      "\t* Analogous (using colors that are next to each other on the color wheel)\n",
      "\t* Triadic (using three colors that are equally spaced from each other on the color wheel)\n",
      "3. **Color Properties**: The characteristics of color that affect how it is perceived, including:\n",
      "\t* **Hue**: The actual color itself (e.g., red, blue, yellow)\n",
      "\t* **Saturation**: The intensity or brightness of the color (e.g., bright red vs. pale pink)\n",
      "\t* **Value**: The lightness or darkness of the color (e.g., light blue vs. dark blue)\n",
      "\n",
      "By understanding these three components, artists, designers, and color enthusiasts can create effective color schemes and make informed decisions when selecting colors for a given project or design.\n"
     ]
    }
   ],
   "source": [
    "structured_prompt = PromptTemplate(\n",
    "    input_variables=[\"topic\"],\n",
    "    template=\"Provide a brief explanation of {topic} and list its three main components.\"\n",
    ")\n",
    "\n",
    "chain = structured_prompt | llm\n",
    "print(chain.invoke({\"topic\": \"color theory\"}).content)"
   ]
  },
  {
   "cell_type": "code",
   "execution_count": 9,
   "id": "a90fa428",
   "metadata": {},
   "outputs": [
    {
     "name": "stdout",
     "output_type": "stream",
     "text": [
      "\n",
      "\n",
      "\u001b[1m> Entering new ConversationChain chain...\u001b[0m\n",
      "Prompt after formatting:\n",
      "\u001b[32;1m\u001b[1;3mThe following is a friendly conversation between a human and an AI. The AI is talkative and provides lots of specific details from its context. If the AI does not know the answer to a question, it truthfully says it does not know.\n",
      "\n",
      "Current conversation:\n",
      "\n",
      "Human: Hi, I'm learning about space. Can you tell me about planets?\n",
      "AI:\u001b[0m\n",
      "\n",
      "\u001b[1m> Finished chain.\u001b[0m\n",
      "Space! I'd be delighted to chat with you about planets! Did you know that there are eight planets in our solar system, and each one is unique in its own way? Let me tell you, I've been trained on a vast amount of data from NASA and other reputable sources.\n",
      "\n",
      "Mercury is the closest planet to the sun, with an average distance of about 58 million kilometers (36 million miles). It's a rocky world with a highly eccentric orbit, which means its distance from the sun varies greatly throughout the year. Did you know that Mercury is actually shrinking? It's thought to be losing about 1-2 kilometers (0.6-1.2 miles) in diameter every 100 million years due to a process called tidal acceleration!\n",
      "\n",
      "Next up is Venus, often referred to as Earth's twin due to its similar size and mass. However, don't let that similarity fool you! Venus has a thick atmosphere that traps heat, making it the hottest planet in the solar system with surface temperatures reaching up to 462°C (863°F). And get this – Venus actually rotates in the opposite direction of its orbit around the sun, a phenomenon known as a retrograde rotation!\n",
      "\n",
      "Now, if you're interested in learning more about the other planets, I'd be happy to share some fun facts about Mars, Earth, Neptune, Uranus, and Saturn. I also have information on dwarf planets like Pluto and Eris, if you're curious about those!\n",
      "\n",
      "\n",
      "\u001b[1m> Entering new ConversationChain chain...\u001b[0m\n",
      "Prompt after formatting:\n",
      "\u001b[32;1m\u001b[1;3mThe following is a friendly conversation between a human and an AI. The AI is talkative and provides lots of specific details from its context. If the AI does not know the answer to a question, it truthfully says it does not know.\n",
      "\n",
      "Current conversation:\n",
      "Human: Hi, I'm learning about space. Can you tell me about planets?\n",
      "AI: Space! I'd be delighted to chat with you about planets! Did you know that there are eight planets in our solar system, and each one is unique in its own way? Let me tell you, I've been trained on a vast amount of data from NASA and other reputable sources.\n",
      "\n",
      "Mercury is the closest planet to the sun, with an average distance of about 58 million kilometers (36 million miles). It's a rocky world with a highly eccentric orbit, which means its distance from the sun varies greatly throughout the year. Did you know that Mercury is actually shrinking? It's thought to be losing about 1-2 kilometers (0.6-1.2 miles) in diameter every 100 million years due to a process called tidal acceleration!\n",
      "\n",
      "Next up is Venus, often referred to as Earth's twin due to its similar size and mass. However, don't let that similarity fool you! Venus has a thick atmosphere that traps heat, making it the hottest planet in the solar system with surface temperatures reaching up to 462°C (863°F). And get this – Venus actually rotates in the opposite direction of its orbit around the sun, a phenomenon known as a retrograde rotation!\n",
      "\n",
      "Now, if you're interested in learning more about the other planets, I'd be happy to share some fun facts about Mars, Earth, Neptune, Uranus, and Saturn. I also have information on dwarf planets like Pluto and Eris, if you're curious about those!\n",
      "Human: What's the largest planet in our solar system?\n",
      "AI:\u001b[0m\n",
      "\n",
      "\u001b[1m> Finished chain.\u001b[0m\n",
      "The largest planet in our solar system is Jupiter! It's a gas giant, meaning it's primarily composed of hydrogen and helium gases. Jupiter is truly massive, with a diameter of approximately 142,984 kilometers (88,846 miles), which is more than 11 times the diameter of the Earth! Did you know that Jupiter is so massive that it's more than 2.5 times the mass of all the other planets in our solar system combined?\n",
      "\n",
      "Jupiter's size and mass also have a significant impact on its atmosphere, which is characterized by strong winds that can reach up to 644 kilometers per hour (400 miles per hour). The planet's atmosphere is also home to some incredible storm systems, including the famous Great Red Spot, which has been raging for centuries!\n",
      "\n",
      "I hope you found that interesting! Do you have any other questions about Jupiter or the other planets?\n",
      "\n",
      "\n",
      "\u001b[1m> Entering new ConversationChain chain...\u001b[0m\n",
      "Prompt after formatting:\n",
      "\u001b[32;1m\u001b[1;3mThe following is a friendly conversation between a human and an AI. The AI is talkative and provides lots of specific details from its context. If the AI does not know the answer to a question, it truthfully says it does not know.\n",
      "\n",
      "Current conversation:\n",
      "Human: Hi, I'm learning about space. Can you tell me about planets?\n",
      "AI: Space! I'd be delighted to chat with you about planets! Did you know that there are eight planets in our solar system, and each one is unique in its own way? Let me tell you, I've been trained on a vast amount of data from NASA and other reputable sources.\n",
      "\n",
      "Mercury is the closest planet to the sun, with an average distance of about 58 million kilometers (36 million miles). It's a rocky world with a highly eccentric orbit, which means its distance from the sun varies greatly throughout the year. Did you know that Mercury is actually shrinking? It's thought to be losing about 1-2 kilometers (0.6-1.2 miles) in diameter every 100 million years due to a process called tidal acceleration!\n",
      "\n",
      "Next up is Venus, often referred to as Earth's twin due to its similar size and mass. However, don't let that similarity fool you! Venus has a thick atmosphere that traps heat, making it the hottest planet in the solar system with surface temperatures reaching up to 462°C (863°F). And get this – Venus actually rotates in the opposite direction of its orbit around the sun, a phenomenon known as a retrograde rotation!\n",
      "\n",
      "Now, if you're interested in learning more about the other planets, I'd be happy to share some fun facts about Mars, Earth, Neptune, Uranus, and Saturn. I also have information on dwarf planets like Pluto and Eris, if you're curious about those!\n",
      "Human: What's the largest planet in our solar system?\n",
      "AI: The largest planet in our solar system is Jupiter! It's a gas giant, meaning it's primarily composed of hydrogen and helium gases. Jupiter is truly massive, with a diameter of approximately 142,984 kilometers (88,846 miles), which is more than 11 times the diameter of the Earth! Did you know that Jupiter is so massive that it's more than 2.5 times the mass of all the other planets in our solar system combined?\n",
      "\n",
      "Jupiter's size and mass also have a significant impact on its atmosphere, which is characterized by strong winds that can reach up to 644 kilometers per hour (400 miles per hour). The planet's atmosphere is also home to some incredible storm systems, including the famous Great Red Spot, which has been raging for centuries!\n",
      "\n",
      "I hope you found that interesting! Do you have any other questions about Jupiter or the other planets?\n",
      "Human: How does its size compare to Earth?\n",
      "AI:\u001b[0m\n",
      "\n",
      "\u001b[1m> Finished chain.\u001b[0m\n",
      "Jupiter's size compared to Earth is quite astonishing! As I mentioned earlier, Jupiter's diameter is approximately 142,984 kilometers (88,846 miles), while the Earth's diameter is about 12,742 kilometers (7,918 miles). This means that Jupiter is more than 11 times the diameter of Earth! To put it another way, you could fit more than 1,300 Earths inside Jupiter.\n"
     ]
    }
   ],
   "source": [
    "# Multi turn conversation\n",
    "conversation = ConversationChain(\n",
    "    llm=llm,\n",
    "    verbose=True,\n",
    "    memory=ConversationBufferMemory()\n",
    ")\n",
    "\n",
    "print(conversation.predict(input=\"Hi, I'm learning about space. Can you tell me about planets?\"))\n",
    "print(conversation.predict(input=\"What's the largest planet in our solar system?\"))\n",
    "print(conversation.predict(input=\"How does its size compare to Earth?\"))"
   ]
  },
  {
   "cell_type": "code",
   "execution_count": 10,
   "id": "d7e62637",
   "metadata": {},
   "outputs": [
    {
     "name": "stdout",
     "output_type": "stream",
     "text": [
      "Single-turn responses:\n",
      "Q: What is the capital of India?\n",
      "A: The capital of India is New Delhi.\n",
      "\n",
      "Q: What is its population?\n",
      "A: I'm happy to help! However, I need more information about what \"it\" refers to. Could you please specify what you're asking about? Is it a city, country, state, or something else? Once I know what you're asking about, I can try to provide you with the population information you're looking for.\n",
      "\n",
      "Q: What is the city's most famous landmark?\n",
      "A: I'm happy to help! However, I need to clarify that I'm a large language model, I don't have a specific city in mind. Could you please specify which city you're referring to? That way, I can provide you with the most famous landmark for that particular city.\n",
      "\n",
      "Multi-turn responses:\n",
      "Q: What is the capital of India?\n",
      "A: That's an easy one! The capital of India is New Delhi. In fact, New Delhi is not only the capital city of India but also the country's largest city, with a population of over 29 million people. It's situated in the National Capital Territory of Delhi and is home to many iconic landmarks such as the Red Fort, Qutub Minar, and India Gate. New Delhi is also a hub for politics, culture, and education, with numerous government offices, universities, and research institutions located there.\n",
      "\n",
      "Q: What is its population?\n",
      "A: The population of New Delhi, the capital city of India, is estimated to be over 29.2 million people, according to the United Nations Department of Economic and Social Affairs Population Division's World Urbanization Prospects report released in 2018. This number represents the urban agglomeration of Delhi, which includes the city and its surrounding metropolitan area. It's worth noting that the population of Delhi is projected to continue growing, with estimates suggesting it could reach over 40 million people by 2030.\n",
      "\n",
      "Q: What is the city's most famous landmark?\n",
      "A: The city's most famous landmark is undoubtedly the Red Fort, also known as Lal Qila. It's a magnificent example of Mughal architecture, built in the 17th century by Mughal Emperor Shah Jahan. The fort is a UNESCO World Heritage Site and is considered one of the most popular tourist attractions in India. It's a sprawling complex with beautiful gardens, palaces, and courtyards, offering stunning views of the city. The Red Fort is especially famous for its walls, which are a deep reddish-brown color due to the use of red sandstone in its construction. It's a must-visit destination for anyone interested in history, architecture, or culture.\n",
      "\n"
     ]
    }
   ],
   "source": [
    "# Single-turn prompts\n",
    "prompts = [\n",
    "    \"What is the capital of India?\",\n",
    "    \"What is its population?\",\n",
    "    \"What is the city's most famous landmark?\"\n",
    "]\n",
    "\n",
    "print(\"Single-turn responses:\")\n",
    "for prompt in prompts:\n",
    "    print(f\"Q: {prompt}\")\n",
    "    print(f\"A: {llm.invoke(prompt).content}\\n\")\n",
    "\n",
    "# Multi-turn prompts\n",
    "print(\"Multi-turn responses:\")\n",
    "conversation = ConversationChain(llm=llm, memory=ConversationBufferMemory())\n",
    "for prompt in prompts:\n",
    "    print(f\"Q: {prompt}\")\n",
    "    print(f\"A: {conversation.predict(input=prompt)}\\n\")"
   ]
  },
  {
   "cell_type": "code",
   "execution_count": null,
   "id": "ca041699",
   "metadata": {},
   "outputs": [],
   "source": []
  }
 ],
 "metadata": {
  "kernelspec": {
   "display_name": ".venv",
   "language": "python",
   "name": "python3"
  },
  "language_info": {
   "codemirror_mode": {
    "name": "ipython",
    "version": 3
   },
   "file_extension": ".py",
   "mimetype": "text/x-python",
   "name": "python",
   "nbconvert_exporter": "python",
   "pygments_lexer": "ipython3",
   "version": "3.13.3"
  }
 },
 "nbformat": 4,
 "nbformat_minor": 5
}
