{
 "cells": [
  {
   "cell_type": "code",
   "execution_count": 1,
   "id": "bed0b6c2",
   "metadata": {},
   "outputs": [],
   "source": [
    "import os\n",
    "from dotenv import load_dotenv\n",
    "load_dotenv()\n",
    "\n",
    "os.environ[\"GROQ_API_KEY\"] = os.getenv(\"GROQ_API_KEY\")"
   ]
  },
  {
   "cell_type": "code",
   "execution_count": 2,
   "id": "2f4e583f",
   "metadata": {},
   "outputs": [],
   "source": [
    "from langchain_groq import ChatGroq\n",
    "from langchain_core.prompts import PromptTemplate\n",
    "\n",
    "llm = ChatGroq(model=\"llama3-8b-8192\")"
   ]
  },
  {
   "cell_type": "code",
   "execution_count": 3,
   "id": "9f96f8ee",
   "metadata": {},
   "outputs": [
    {
     "name": "stdout",
     "output_type": "stream",
     "text": [
      "Prompt engineering is the process of designing and refining natural language prompts to elicit specific, accurate, and informative responses from language models, AI systems, or humans, by carefully crafting the wording, syntax, and structure of the prompt to influence the output and achieve a desired outcome.\n"
     ]
    }
   ],
   "source": [
    "basic_prompt = \"Explain the concept of prompt engineering in one sentence\"\n",
    "response = llm.invoke(basic_prompt)\n",
    "print(response.content)"
   ]
  },
  {
   "cell_type": "code",
   "execution_count": 4,
   "id": "6e1a8498",
   "metadata": {},
   "outputs": [
    {
     "name": "stdout",
     "output_type": "stream",
     "text": [
      "**Definition:**\n",
      "Prompt Engineering is the process of designing and refining text prompts that are used to elicit specific responses from AI models, such as language translation, question answering, and text generation models. The goal of prompt engineering is to create prompts that are clear, concise, and effective in generating the desired output from the AI model.\n",
      "\n",
      "**Importance:**\n",
      "Prompt engineering is crucial in modern AI development because it allows developers to optimize the performance of AI models by providing them with high-quality input. Well-designed prompts can significantly impact the accuracy, relevance, and coherence of the AI model's output, making it a critical step in the AI development process.\n",
      "\n",
      "**Three Benefits:**\n",
      "\n",
      "1. **Improved Model Performance:** Well-crafted prompts can significantly improve the performance of AI models by providing them with the necessary context and information to generate accurate and relevant responses. This can lead to better decision-making, more accurate predictions, and improved customer experiences.\n",
      "2. **Increased Efficiency:** Prompt engineering can help reduce the time and effort required to develop and train AI models. By creating effective prompts, developers can minimize the need for manual data labeling, data cleaning, and model tuning, allowing them to focus on higher-value tasks.\n",
      "3. **Enhanced Interpretability:** Prompt engineering can also improve the interpretability of AI models by making it easier to understand how they arrive at their conclusions. By designing prompts that are transparent and explicit, developers can make AI models more accountable and trustworthy, which is essential in applications such as healthcare, finance, and law.\n",
      "\n",
      "Examples of prompt engineering in practice include:\n",
      "\n",
      "* In language translation, designing prompts that specify the tone, style, and register of the translation\n",
      "* In question answering, crafting prompts that specify the scope, context, and intent of the question\n",
      "* In text generation, creating prompts that specify the topic, audience, and tone of the generated text\n",
      "\n",
      "By investing time and effort in prompt engineering, developers can create AI models that are more effective, efficient, and interpretable, ultimately leading to better outcomes in a wide range of applications.\n"
     ]
    }
   ],
   "source": [
    "structured_prompt = PromptTemplate(\n",
    "    input_variables=[\"topic\"],\n",
    "    template=\"Provide a definition on {topic}, explain its importance , and list three benefits\"\n",
    ")\n",
    "\n",
    "chain = structured_prompt | llm\n",
    "response = chain.invoke({\"topic\": \"Prompt Engineering\"})\n",
    "print(response.content)"
   ]
  },
  {
   "cell_type": "code",
   "execution_count": 6,
   "id": "a20363ab",
   "metadata": {},
   "outputs": [
    {
     "name": "stdout",
     "output_type": "stream",
     "text": [
      "\n",
      "Prompt: 0\n",
      "List 3 applications of AI in healthcare.\n",
      "\n",
      "Response: 0\n",
      "Here are three applications of AI in healthcare:\n",
      "\n",
      "1. **Diagnosis and Detection**: AI algorithms can be trained to analyze medical images such as X-rays, MRI scans, and CT scans to detect abnormalities and diseases such as tumors, cancers, and cardiovascular conditions. For example, AI-powered systems can help detect breast cancer from mammography images with high accuracy, potentially improving early detection and treatment rates.\n",
      "2. **Personalized Medicine**: AI can help analyze vast amounts of genomic data to identify personalized treatment options for patients. For instance, AI algorithms can analyze genetic data to predict a patient's response to a particular medication, helping doctors choose the most effective treatment option.\n",
      "3. **Predictive Analytics and Patient Monitoring**: AI-powered systems can analyze electronic health records (EHRs) and other data sources to identify patients at risk of developing certain conditions, such as hospital-acquired infections or readmissions. AI can also monitor patients remotely, detecting early warning signs of disease progression or complications, and alerting healthcare providers to take preventative action.\n",
      "\n",
      "These are just a few examples of the many ways AI is being applied in healthcare to improve patient outcomes, reduce costs, and enhance the overall quality of care.\n",
      "--------------------------------------------------\n",
      "\n",
      "Prompt: 1\n",
      "Explain how AI is revolutionizing healthcare, with 3 specific examples.\n",
      "\n",
      "Response: 1\n",
      "Artificial Intelligence (AI) is transforming the healthcare industry in numerous ways, from diagnosis and treatment to patient engagement and research. Here are three specific examples of how AI is revolutionizing healthcare:\n",
      "\n",
      "**Example 1: AI-powered Diagnostic Tools**\n",
      "\n",
      "AI-powered diagnostic tools are being developed to aid doctors in detecting diseases earlier and more accurately. For instance, AI-powered chest X-ray analysis can help detect lung cancer and other respiratory diseases with high accuracy. This technology can analyze X-ray images and identify abnormalities that may not be visible to human radiologists.\n",
      "\n",
      "Another example is the use of AI-powered algorithms to analyze MRI scans and detect signs of neurological disorders, such as multiple sclerosis or Parkinson's disease. These algorithms can identify subtle patterns and anomalies in brain scans that may indicate the presence of a disease, allowing doctors to diagnose and treat patients more effectively.\n",
      "\n",
      "**Example 2: Personalized Medicine and Treatment Planning**\n",
      "\n",
      "AI is being used to develop personalized medicine and treatment plans for patients. For example, AI-powered genomics analysis can help identify genetic mutations that may be linked to specific diseases, allowing doctors to tailor treatment plans to an individual's unique genetic profile.\n",
      "\n",
      "Additionally, AI-powered clinical decision support systems can analyze a patient's medical history, laboratory results, and other data to provide personalized treatment recommendations. These systems can also help doctors identify potential drug interactions and contraindications, reducing the risk of adverse reactions.\n",
      "\n",
      "**Example 3: Predictive Analytics and Population Health Management**\n",
      "\n",
      "AI-powered predictive analytics is being used to identify high-risk patients and prevent adverse outcomes. For example, AI-powered predictive models can analyze electronic health records, claims data, and other sources of information to identify patients who are at risk of developing chronic diseases, such as diabetes or heart disease.\n",
      "\n",
      "This information can be used to develop targeted interventions and prevention strategies, such as lifestyle coaching, medication therapy management, and preventive care services. AI-powered population health management platforms can also help healthcare providers identify areas of inefficiency and waste, allowing them to optimize resource allocation and improve patient outcomes.\n",
      "\n",
      "These are just a few examples of how AI is revolutionizing healthcare. As the technology continues to evolve, we can expect to see even more innovative applications of AI in the healthcare industry, from virtual nursing assistants to personalized medicine and beyond.\n",
      "--------------------------------------------------\n",
      "\n",
      "Prompt: 2\n",
      "You are a doctor. Describe 3 ways AI has improved your daily work in the hospital.\n",
      "\n",
      "Response: 2\n",
      "As a doctor, I've had the privilege of witnessing the transformative impact of Artificial Intelligence (AI) on my daily work in the hospital. Here are three ways AI has improved my daily work:\n",
      "\n",
      "1. **Personalized Medicine and Diagnosis**: AI-powered algorithms have significantly enhanced my ability to diagnose and treat patients. For instance, AI-assisted diagnostic tools can analyze large amounts of electronic health records (EHRs), lab results, and medical images to identify potential patterns and correlations that may have gone unnoticed by human clinicians alone. This has led to more accurate and timely diagnoses, which in turn have resulted in better patient outcomes. AI can also help identify high-risk patients, enabling proactive interventions and preventing complications.\n",
      "\n",
      "In my daily work, I've seen AI-driven diagnostic tools flag potential issues, such as pneumonia or sepsis, and provide recommendations for treatment. This has not only improved patient care but also reduced the likelihood of misdiagnosis and unnecessary testing. AI has also enabled me to better understand patient-specific factors, such as genetic predispositions, to tailor treatment plans more effectively.\n",
      "\n",
      "2. **Streamlined Clinical Workflows and Efficiency**: AI has automated many administrative and clerical tasks, freeing up more time for me to focus on patient care. For example, AI-powered chatbots and virtual assistants can handle routine patient inquiries, appointment scheduling, and medication reminders, reducing the burden on hospital staff. AI can also analyze clinical workflows and identify areas for optimization, streamlining processes and reducing waste.\n",
      "\n",
      "In my daily work, I've noticed that AI-powered systems have enabled me to access patient information more quickly and efficiently, reducing the time spent on paperwork and administrative tasks. This has allowed me to devote more attention to high-value tasks, such as developing treatment plans and communicating with patients and their families.\n",
      "\n",
      "3. **Predictive Analytics and Patient Risk Stratification**: AI-powered predictive analytics have enabled me to identify patients at high risk of developing complications or readmission. These tools analyze vast amounts of data, including patient demographics, medical history, and treatment outcomes, to predict the likelihood of adverse events. This information allows me to proactively intervene and adjust treatment plans accordingly, reducing the risk of complications and improving patient outcomes.\n",
      "\n",
      "In my daily work, I've seen AI-driven predictive analytics identify patients who may be at risk of developing pressure ulcers or experiencing medication side effects. This has enabled me to take preventative measures, such as adjusting treatment plans or providing additional support, to mitigate these risks and improve patient outcomes.\n",
      "\n",
      "Overall, AI has had a profound impact on my daily work as a doctor, enabling me to provide more accurate diagnoses, streamline clinical workflows, and improve patient outcomes. As AI continues to evolve, I'm excited to see how it will further transform the way we practice medicine and improve patient care.\n",
      "--------------------------------------------------\n"
     ]
    }
   ],
   "source": [
    "prompts = [\n",
    "    \"List 3 applications of AI in healthcare.\",\n",
    "    \"Explain how AI is revolutionizing healthcare, with 3 specific examples.\",\n",
    "    \"You are a doctor. Describe 3 ways AI has improved your daily work in the hospital.\"\n",
    "]\n",
    "\n",
    "for i, prompt in enumerate(prompts):\n",
    "    print(f\"\\nPrompt: {i}\")\n",
    "    print(prompt)\n",
    "    print(f\"\\nResponse: {i}\")\n",
    "    print(llm.invoke(prompt).content)\n",
    "    print(\"-\" * 50)"
   ]
  },
  {
   "cell_type": "code",
   "execution_count": null,
   "id": "ec4d56c7",
   "metadata": {},
   "outputs": [
    {
     "name": "stdout",
     "output_type": "stream",
     "text": [
      "A straightforward evaluation!\n",
      "\n",
      "**Factual accuracy:** FALSE\n",
      "\n",
      "**Correct factual information:** The capital of India is New Delhi, not Bangalore. New Delhi is the capital city of India and has been since 1927, when it replaced Calcutta (now Kolkata) as the capital. Bangalore, on the other hand, is a major city in the state of Karnataka, India, and is known for its IT industry and cultural attractions.\n"
     ]
    }
   ],
   "source": [
    "fact_check_prompt = PromptTemplate(\n",
    "    input_variables=[\"statement\"],\n",
    "    template=\"\"\"Evaluate the statement for factual accuracy. If it's incorrect provide correct factual information\n",
    "        \\nStatement: {statement}\n",
    "        \\nEvaluation:\n",
    "    \"\"\"\n",
    ")\n",
    "\n",
    "chain = fact_check_prompt | llm\n",
    "print(chain.invoke(\"Capital of India is Banglore\").content)"
   ]
  },
  {
   "cell_type": "code",
   "execution_count": 19,
   "id": "5d7d005e",
   "metadata": {},
   "outputs": [
    {
     "name": "stdout",
     "output_type": "stream",
     "text": [
      "A classic compound interest problem!\n",
      "\n",
      "Let's break it down step by step:\n",
      "\n",
      "1. Principal amount (P) = $1000\n",
      "2. Annual rate (r) = 5% = 0.05\n",
      "3. Time (t) = 5 years\n",
      "4. Compounding frequency = Annually (compounded once a year)\n",
      "\n",
      "The formula for compound interest is:\n",
      "\n",
      "A = P (1 + r)^t\n",
      "\n",
      "Where A is the future value of the investment, P is the principal amount, r is the annual rate, and t is the time.\n",
      "\n",
      "Plugging in the values, we get:\n",
      "\n",
      "A = $1000 (1 + 0.05)^5\n",
      "= $1276.78\n",
      "\n",
      "So, the compound interest on $1000 invested for 5 years at an annual rate of 5%, compounded annually, is:\n",
      "\n",
      "$1276.78 - $1000 = $276.78\n",
      "\n",
      "The interest earned is $276.78.\n"
     ]
    }
   ],
   "source": [
    "problems_prompt = PromptTemplate(\n",
    "    input_variables= [\"problem\"],\n",
    "    template=\"\"\"Solve the following problem step by step:\n",
    "    Problem: {problem}\n",
    "    Solution:\n",
    "    1)\"\"\"\n",
    ")\n",
    "\n",
    "prob_chain = problems_prompt | llm\n",
    "problem = \"Calculate the compound interest on $1000 invested for 5 years at an annual rate of 5%, compounded annually.\"\n",
    "print(llm.invoke(problem).content)"
   ]
  },
  {
   "cell_type": "code",
   "execution_count": null,
   "id": "0712147b",
   "metadata": {},
   "outputs": [],
   "source": []
  }
 ],
 "metadata": {
  "kernelspec": {
   "display_name": ".venv",
   "language": "python",
   "name": "python3"
  },
  "language_info": {
   "codemirror_mode": {
    "name": "ipython",
    "version": 3
   },
   "file_extension": ".py",
   "mimetype": "text/x-python",
   "name": "python",
   "nbconvert_exporter": "python",
   "pygments_lexer": "ipython3",
   "version": "3.13.3"
  }
 },
 "nbformat": 4,
 "nbformat_minor": 5
}
