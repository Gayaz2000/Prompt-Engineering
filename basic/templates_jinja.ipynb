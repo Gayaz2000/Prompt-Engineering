{
 "cells": [
  {
   "cell_type": "code",
   "execution_count": 1,
   "id": "30af3a10",
   "metadata": {},
   "outputs": [],
   "source": [
    "import os\n",
    "from dotenv import load_dotenv\n",
    "load_dotenv()\n",
    "\n",
    "os.environ[\"GROQ_API_KEY\"] = os.getenv(\"GROQ_API_KEY\")"
   ]
  },
  {
   "cell_type": "code",
   "execution_count": 1,
   "id": "6aa6b532",
   "metadata": {},
   "outputs": [],
   "source": [
    "#from langchain_groq import ChatGroq\n",
    "from langchain_ollama import ChatOllama\n",
    "from langchain_core.prompts import PromptTemplate\n",
    "\n",
    "#llm = ChatGroq(model=\"llama3-8b-8192\")\n",
    "llm = ChatOllama(model=\"llama3.2:1b\")"
   ]
  },
  {
   "cell_type": "code",
   "execution_count": 3,
   "id": "acf416b7",
   "metadata": {},
   "outputs": [],
   "source": [
    "from jinja2 import Template\n",
    "\n",
    "def get_completion(prompt):\n",
    "    ''' Get a completion from the Ollama API \n",
    "    Args:\n",
    "        prompt (str): The prompt to send to the API\n",
    "    Returns:\n",
    "        str: The completion text\n",
    "    '''\n",
    "    #model (str): The model to use for the completion\n",
    "    messages = [{\"role\": \"user\", \"content\": prompt}]\n",
    "    response = llm.invoke(messages)\n",
    "    return response"
   ]
  },
  {
   "cell_type": "code",
   "execution_count": 4,
   "id": "0d44952e",
   "metadata": {},
   "outputs": [],
   "source": [
    "class PromptTemplate:\n",
    "    ''' A class to represent a template for generating prompts with variables\n",
    "    Attributes:\n",
    "        template (str): The template string with variables\n",
    "        input_variables (list): A list of the variable names in the template\n",
    "    '''\n",
    "    def __init__(self, template, input_variables):\n",
    "        self.input_variables = input_variables\n",
    "        self.template = Template(template)\n",
    "\n",
    "    def format(self, **kwargs):\n",
    "        return self.template.render(**kwargs)"
   ]
  },
  {
   "cell_type": "code",
   "execution_count": 6,
   "id": "27ed58be",
   "metadata": {},
   "outputs": [
    {
     "name": "stdout",
     "output_type": "stream",
     "text": [
      "Simple Template Result:\n",
      "content='Photosynthesis is the process by which plants, algae, and some bacteria convert light energy from the sun into chemical energy in the form of glucose, a type of sugar. This process occurs in specialized organelles called chloroplasts, which are present in plant cells.\\n\\nDuring photosynthesis, light energy from the sun is absorbed by pigments such as chlorophyll, which excites an electron that is then transferred to a molecule called ATP (adenosine triphosphate). The energy from this electron transfer is used to convert carbon dioxide and water into glucose and oxygen. This process is essential for life on Earth, providing energy for plants to grow and develop, and supporting the food chain by producing oxygen as a byproduct.\\n\\nThe simplified equation for photosynthesis is:\\n\\n6 CO2 + 6 H2O + light energy → C6H12O6 (glucose) + 6 O2' additional_kwargs={} response_metadata={'model': 'llama3.2:1b', 'created_at': '2025-06-26T14:33:13.4796097Z', 'done': True, 'done_reason': 'stop', 'total_duration': 23684700500, 'load_duration': 68742800, 'prompt_eval_count': 33, 'prompt_eval_duration': 141565100, 'eval_count': 183, 'eval_duration': 23473385700, 'model_name': 'llama3.2:1b'} id='run--d37c94ad-df86-4f55-b577-cc666a95e31b-0' usage_metadata={'input_tokens': 33, 'output_tokens': 183, 'total_tokens': 216}\n",
      "\n",
      "--------------------------------------------------\n",
      "\n",
      "Complex Template Result:\n",
      "content='Here\\'s an explanation of neural networks that\\'s easy to understand:\\n\\n**What is a Neural Network?**\\n\\nA neural network is a type of computer system inspired by the human brain. It\\'s a model that\\'s trained on data to make predictions or decisions.\\n\\n**How does it work?**\\n\\nImagine you\\'re trying to recognize pictures of cats and dogs. A neural network would be like a team of super-intelligent detectives:\\n\\n1. Each \"detective\" (neuron) looks at an image and says, \"Hmm, I think this is a cat!\"\\n2. The detective checks the picture against a database of known images.\\n3. If the picture matches, the detector says, \"Yes! I\\'ve found a cat!\" and sends a signal to another detector.\\n4. Another detector checks if the new signal came from an actual cat or just a fake.\\n5. Repeat steps 2-4 until the detective is sure about the image.\\n\\n**Types of Neural Networks:**\\n\\nThere are many types of neural networks, but the main idea is similar:\\n\\n1. **Multilayer Perceptron (MLP)**: Like our detectives, with layers of neurons that process different information.\\n2. **Recurrent Neural Network (RNN)**: Like a team that follows clues over time, to solve a problem or predict something.\\n\\n**Training and Testing:**\\n\\nTo train a neural network, we feed it data (images) and tell it what\\'s correct or incorrect. After many iterations, the network learns to recognize patterns and make predictions on new data.\\n\\nWhen we test the network with more images, we can see if it accurately identifies the cat pictures!\\n\\n**Real-World Applications:**\\n\\nNeural networks have many exciting applications in fields like:\\n\\n* Image recognition (e.g., self-driving cars)\\n* Speech recognition\\n* Natural language processing\\n\\nIn summary, neural networks are powerful tools that mimic the human brain\\'s ability to learn and make decisions. They\\'re a fundamental part of artificial intelligence research and have numerous practical applications in various fields.' additional_kwargs={} response_metadata={'model': 'llama3.2:1b', 'created_at': '2025-06-26T14:34:15.4497091Z', 'done': True, 'done_reason': 'stop', 'total_duration': 61965166700, 'load_duration': 41619400, 'prompt_eval_count': 47, 'prompt_eval_duration': 1078058100, 'eval_count': 411, 'eval_duration': 60844733700, 'model_name': 'llama3.2:1b'} id='run--95c948c0-ffba-45ed-82cb-6ea35a20e023-0' usage_metadata={'input_tokens': 47, 'output_tokens': 411, 'total_tokens': 458}\n"
     ]
    }
   ],
   "source": [
    "simple_template = PromptTemplate(\n",
    "    template=\"Provide a brief explanation of {{ topic }}.\",\n",
    "    input_variables=[\"topic\"]\n",
    ")\n",
    "\n",
    "complex_template = PromptTemplate(\n",
    "    template=\"Explain the concept of {{ concept }} in the field of {{ field }} to a {{ audience }} audience, concisely.\",\n",
    "    input_variables=[\"concept\", \"field\", \"audience\"]\n",
    ")\n",
    "\n",
    "# Using the simple template\n",
    "print(\"Simple Template Result:\")\n",
    "prompt = simple_template.format(topic=\"photosynthesis\")\n",
    "print(get_completion(prompt))\n",
    "\n",
    "print(\"\\n\" + \"-\"*50 + \"\\n\")\n",
    "\n",
    "# Using the complex template\n",
    "print(\"Complex Template Result:\")\n",
    "prompt = complex_template.format(\n",
    "    concept=\"neural networks\",\n",
    "    field=\"artificial intelligence\",\n",
    "    audience=\"beginner\"\n",
    ")\n",
    "print(get_completion(prompt))"
   ]
  },
  {
   "cell_type": "code",
   "execution_count": 7,
   "id": "d134bb52",
   "metadata": {},
   "outputs": [
    {
     "name": "stdout",
     "output_type": "stream",
     "text": [
      "Conditional Template Result (with profession):\n",
      "content=\"As a GenAI Engineer, your role combines artificial intelligence, machine learning, and natural language processing. Here are some concise career advice points tailored to your situation:\\n\\n1. **Stay up-to-date with industry advancements**: Follow AI-related news, research papers, and blogs to remain current with the latest developments.\\n2. **Develop skills in complementary fields**: Consider taking courses or earning certifications in computer vision, deep learning, or other related areas to enhance your expertise.\\n3. **Explore entrepreneurship opportunities**: With GenAI Engineer skills, you may want to start a company or work as an AI consultant for startups, helping them navigate the field.\\n4. **Network with professionals**: Attend industry events, join online communities (e.g., Kaggle, Reddit), and connect with experienced GenAI Engineers to learn from their experiences.\\n5. **Pursue interdisciplinary projects**: Collaborate with researchers in related fields like computer science, neuroscience, or philosophy to develop innovative AI solutions that tackle complex problems.\\n6. **Consider a Ph.D. if you're interested in research**: A doctoral degree can provide advanced training and increase your career prospects in academia or industry research roles.\\n7. **Be prepared for continuous learning**: The field of GenAI is rapidly evolving; be prepared to adapt your skills and knowledge regularly to stay competitive.\\n\\nRemember, your 24-year-old status means you have time to explore different career paths before committing fully to one role.\" additional_kwargs={} response_metadata={'model': 'llama3.2:1b', 'created_at': '2025-06-26T14:36:19.856506Z', 'done': True, 'done_reason': 'stop', 'total_duration': 45065560400, 'load_duration': 55505400, 'prompt_eval_count': 62, 'prompt_eval_duration': 1510976500, 'eval_count': 287, 'eval_duration': 43497558000, 'model_name': 'llama3.2:1b'} id='run--65180339-73b0-4da6-995d-ded8e489f24e-0' usage_metadata={'input_tokens': 62, 'output_tokens': 287, 'total_tokens': 349}\n",
      "\n",
      "--------------------------------------------------\n",
      "\n",
      "\n",
      "Conditional Template Result (without profession):\n",
      "content='As a 24-year-old with no employment, it\\'s essential to focus on acquiring skills that are in demand and have a high potential for growth. Considering your name, Gayaz, which means \"gift\" or \"talent\" in Arabic, you may want to explore careers that leverage your creative or intellectual abilities.\\n\\nSome potential options could include:\\n\\n* Graphic Designer\\n* Writer or Author\\n* Digital Marketing Specialist\\n* Online Tutor or Educator\\n* Entrepreneur (starting a business can be a great way to use your skills and creativity)\\n\\nRemember, these are just suggestions. Take the time to reflect on your strengths, interests, and values to find a career path that aligns with your goals and aspirations.' additional_kwargs={} response_metadata={'model': 'llama3.2:1b', 'created_at': '2025-06-26T14:36:45.4268903Z', 'done': True, 'done_reason': 'stop', 'total_duration': 25567469600, 'load_duration': 31431400, 'prompt_eval_count': 60, 'prompt_eval_duration': 1587823800, 'eval_count': 144, 'eval_duration': 23946778300, 'model_name': 'llama3.2:1b'} id='run--a34c929a-487d-4408-b6c2-d7c61d138e3e-0' usage_metadata={'input_tokens': 60, 'output_tokens': 144, 'total_tokens': 204}\n"
     ]
    }
   ],
   "source": [
    "#Using variables for dynamic content\n",
    "# Template with conditional content\n",
    "conditional_template = PromptTemplate(\n",
    "    template=\"My name is {{ name }} and I am {{ age }} years old. \"\n",
    "              \"{% if profession %}I work as a {{ profession }}.{% else %}I am currently not employed.{% endif %} \"\n",
    "              \"Can you give me career advice based on this information? answer concisely.\",\n",
    "    input_variables=[\"name\", \"age\", \"profession\"]\n",
    ")\n",
    "\n",
    "# Using the conditional template\n",
    "print(\"Conditional Template Result (with profession):\")\n",
    "prompt = conditional_template.format(\n",
    "    name=\"Gayaz\",\n",
    "    age=\"24\",\n",
    "    profession=\"GenAI Engineer\"\n",
    ")\n",
    "print(get_completion(prompt))\n",
    "\n",
    "print(\"\\n\" + \"-\"*50 + \"\\n\")\n",
    "\n",
    "print(\"\\nConditional Template Result (without profession):\")\n",
    "prompt = conditional_template.format(\n",
    "    name=\"Gayaz\",\n",
    "    age=\"24\",\n",
    "    profession=\"\"\n",
    ")\n",
    "print(get_completion(prompt))"
   ]
  },
  {
   "cell_type": "code",
   "execution_count": 10,
   "id": "10b153e6",
   "metadata": {},
   "outputs": [
    {
     "name": "stdout",
     "output_type": "stream",
     "text": [
      "List Template Result:\n",
      "Here are the categorized items:\n",
      "\n",
      "**Fruits**\n",
      "\n",
      "* Apple\n",
      "* Banana\n",
      "* Carrot\n",
      "\n",
      "**Tools**\n",
      "\n",
      "* Hammer\n",
      "* Screwdriver\n",
      "* Pliers\n",
      "\n",
      "**Writing/Reading Materials**\n",
      "\n",
      "* Novel\n",
      "* Textbook\n",
      "* Magazine\n"
     ]
    }
   ],
   "source": [
    "# Template for list processing\n",
    "list_template = PromptTemplate(\n",
    "    template=\"Categorize these items into groups: {{ items }}. Provide the categories and the items in each category.\",\n",
    "    input_variables=[\"items\"]\n",
    ")\n",
    "\n",
    "# Using the list template\n",
    "print(\"List Template Result:\")\n",
    "prompt = list_template.format(\n",
    "    items=\"apple, banana, carrot, hammer, screwdriver, pliers, novel, textbook, magazine\"\n",
    ")\n",
    "print(get_completion(prompt).content)"
   ]
  },
  {
   "cell_type": "code",
   "execution_count": 11,
   "id": "e56869cd",
   "metadata": {},
   "outputs": [
    {
     "name": "stdout",
     "output_type": "stream",
     "text": [
      "Formatted List Template Result:\n",
      "After analyzing the list, here's a summary and some suggestions for patterns or groupings:\n",
      "\n",
      "**Summary:**\n",
      "\n",
      "The list consists of 7 programming languages used in web development, with several frameworks and libraries included.\n",
      "\n",
      "**Patterns/Grouping Suggestions:**\n",
      "\n",
      "1. **Front-end Development Frameworks**: Python (with Django) and JavaScript (with React) are both popular front-end development frameworks.\n",
      "2. **Back-end Frameworks**: The remaining three options - Flask, Node.js, and HTML/CSS - can be grouped together as back-end frameworks or technologies.\n",
      "3. **Development Methodologies**: You can also group the list by development methodologies:\n",
      "\t* Python (with Django) suggests a \"full-stack\" approach, which includes front-end, back-end, database, testing, and deployment.\n",
      "\t* JavaScript (with React) is often used in conjunction with other frameworks like Node.js for server-side rendering or API interactions.\n",
      "4. **Libraries and Tools**: You can also consider grouping the list by libraries and tools commonly used:\n",
      "\t* Python (with Django) has a large collection of libraries, including popular ones like NumPy, pandas, and scikit-learn.\n",
      "\t* JavaScript (with React) has its own set of libraries, such as Redux, MobX, and React Router.\n",
      "\n",
      "**Grouping Options:**\n",
      "\n",
      "Here are some specific groupings you could consider:\n",
      "\n",
      "* **Front-end Development**: Python (with Django), JavaScript (with React)\n",
      "* **Back-end Development**: Flask, Node.js\n",
      "* **Development Methodology**: Full-stack with Python (with Django) or JavaScript (with React)\n",
      "* **Libraries and Tools**:\n",
      "\t+ Front-end: HTML/CSS, JavaScript (with React), Vue.js\n",
      "\t+ Back-end: Node.js, Express.js\n",
      "\n",
      "Keep in mind that these are just suggestions. You can choose to group the list in a way that best suits your needs and preferences.\n",
      "\n",
      "--------------------------------------------------\n",
      "\n"
     ]
    }
   ],
   "source": [
    "# Template with formatted list\n",
    "list_format_template = PromptTemplate(\n",
    "    template=\"Analyze the following list of items:\\n\"\n",
    "              \"{% for item in items.split(',') %}\"\n",
    "              \"- {{ item.strip() }}\\n\"\n",
    "              \"{% endfor %}\"\n",
    "              \"\\nProvide a summary of the list and suggest any patterns or groupings.\",\n",
    "    input_variables=[\"items\"]\n",
    ")\n",
    "\n",
    "\n",
    "# Using the formatted list template\n",
    "print(\"Formatted List Template Result:\")\n",
    "prompt = list_format_template.format(\n",
    "    items=\"Python, JavaScript, HTML, CSS, React, Django, Flask, Node.js\"\n",
    ")\n",
    "print(get_completion(prompt).content)\n",
    "\n",
    "print(\"\\n\" + \"-\"*50 + \"\\n\")"
   ]
  },
  {
   "cell_type": "code",
   "execution_count": 13,
   "id": "3c5d871e",
   "metadata": {},
   "outputs": [
    {
     "name": "stdout",
     "output_type": "stream",
     "text": [
      "Dynamic Instruction Template Result:\n",
      "Based on the context of an AI-driven healthcare startup, I've designed a logo concept that incorporates blue and green colors while being simple and recognizable even at a small size.\n",
      "\n",
      "**Logo Concept:**\n",
      "\n",
      "The logo features a stylized combination of two intertwined elements: a brain (symbolizing intelligence and health) and a wave (representing movement and fluidity).\n",
      "\n",
      "**Color Scheme:**\n",
      "\n",
      "* Primary color: #34A85A (a bright, calming blue)\n",
      "* Secondary color: #8BC34A (a fresh, energetic green)\n",
      "\n",
      "**Logo Design:**\n",
      "\n",
      "The logo consists of two connected shapes:\n",
      "\n",
      "1. A stylized brain with a subtle wave pattern along its surface, incorporating the secondary color #8BC34A.\n",
      "2. The top half of the brain is outlined in primary color #34A85A.\n",
      "\n",
      "The wave element is simple and smooth, allowing it to flow around the brain without disrupting the design. This creates a sense of movement and fluidity, emphasizing the AI-driven healthcare aspect.\n",
      "\n",
      "**Icon Variations:**\n",
      "\n",
      "To ensure versatility, I've created two logo variations:\n",
      "\n",
      "1. **Main Logo:** The primary version featuring the stylized brain with wave.\n",
      "2. **Icon-only Logo:** A standalone icon incorporating just the brain or the wave element without the background.\n",
      "\n",
      "**Logo Rationale:**\n",
      "\n",
      "The blue and green colors evoke feelings of calmness, trust, and growth – essential aspects for a healthcare startup. The brain represents intelligence, health, and innovation, while the wave symbolizes movement, fluidity, and progress.\n",
      "\n",
      "The simple design ensures that the logo can be easily recognizable even at small sizes, making it suitable for various applications such as business cards, social media avatars, or digital interfaces.\n",
      "\n",
      "**Iconography:**\n",
      "\n",
      "For use on specific platforms, I've designed icons based on the main logo variations. These icons can be reused to represent different services or functions within the startup:\n",
      "\n",
      "* Brain icon ( #34A85A ): representing AI-driven decision-making\n",
      "* Wave icon ( #8BC34A ): symbolizing data movement and analysis\n",
      "\n",
      "**Target Audience:**\n",
      "\n",
      "The logo is designed to appeal to healthcare professionals, patients, and partners looking for innovative solutions that integrate technology with human-centered care.\n",
      "\n",
      "This logo concept addresses the task by combining AI-driven innovation with a soothing color palette, ensuring recognition and trust across various audiences.\n"
     ]
    }
   ],
   "source": [
    "# Template with dynamic instructions\n",
    "dynamic_instruction_template = PromptTemplate(\n",
    "    template=\"Task: {{ task }}\\n\"\n",
    "              \"Context: {{ context }}\\n\"\n",
    "              \"Constraints: {{ constraints }}\\n\\n\"\n",
    "              \"Please provide a solution that addresses the task, considers the context, and adheres to the constraints.\",\n",
    "    input_variables=[\"task\", \"context\", \"constraints\"]\n",
    ")\n",
    "\n",
    "# Using the dynamic instruction template\n",
    "print(\"Dynamic Instruction Template Result:\")\n",
    "prompt = dynamic_instruction_template.format(\n",
    "    task=\"Design a logo for a tech startup\",\n",
    "    context=\"The startup focuses on AI-driven healthcare solutions\",\n",
    "    constraints=\"Must use blue and green colors, and should be simple enough to be recognizable when small\"\n",
    ")\n",
    "print(get_completion(prompt).content)"
   ]
  },
  {
   "cell_type": "code",
   "execution_count": null,
   "id": "c5710517",
   "metadata": {},
   "outputs": [],
   "source": []
  }
 ],
 "metadata": {
  "kernelspec": {
   "display_name": ".venv",
   "language": "python",
   "name": "python3"
  },
  "language_info": {
   "codemirror_mode": {
    "name": "ipython",
    "version": 3
   },
   "file_extension": ".py",
   "mimetype": "text/x-python",
   "name": "python",
   "nbconvert_exporter": "python",
   "pygments_lexer": "ipython3",
   "version": "3.13.3"
  }
 },
 "nbformat": 4,
 "nbformat_minor": 5
}
